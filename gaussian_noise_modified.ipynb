{
  "nbformat": 4,
  "nbformat_minor": 0,
  "metadata": {
    "colab": {
      "name": "gaussian_noise.ipynb",
      "provenance": [],
      "collapsed_sections": [],
      "authorship_tag": "ABX9TyOVBBxXINVAXdK6ZWVkmthg",
      "include_colab_link": true
    },
    "kernelspec": {
      "name": "python3",
      "display_name": "Python 3"
    }
  },
  "cells": [
    {
      "cell_type": "markdown",
      "metadata": {
        "id": "view-in-github",
        "colab_type": "text"
      },
      "source": [
        "<a href=\"https://colab.research.google.com/github/cindmichelle/mask_rcnn_istar/blob/master/gaussian_noise_modified.ipynb\" target=\"_parent\"><img src=\"https://colab.research.google.com/assets/colab-badge.svg\" alt=\"Open In Colab\"/></a>"
      ]
    },
    {
      "cell_type": "markdown",
      "metadata": {
        "id": "B7zyZWBlmKdR",
        "colab_type": "text"
      },
      "source": [
        "## Mount Drive to get raw images"
      ]
    },
    {
      "cell_type": "code",
      "metadata": {
        "id": "xcJpwuctoIvl",
        "colab_type": "code",
        "outputId": "09fc99e2-88d8-4b7f-85b1-26920eec5360",
        "colab": {
          "base_uri": "https://localhost:8080/",
          "height": 122
        }
      },
      "source": [
        "from google.colab import drive\n",
        "drive.mount('/content/drive')"
      ],
      "execution_count": 1,
      "outputs": [
        {
          "output_type": "stream",
          "text": [
            "Go to this URL in a browser: https://accounts.google.com/o/oauth2/auth?client_id=947318989803-6bn6qk8qdgf4n4g3pfee6491hc0brc4i.apps.googleusercontent.com&redirect_uri=urn%3aietf%3awg%3aoauth%3a2.0%3aoob&response_type=code&scope=email%20https%3a%2f%2fwww.googleapis.com%2fauth%2fdocs.test%20https%3a%2f%2fwww.googleapis.com%2fauth%2fdrive%20https%3a%2f%2fwww.googleapis.com%2fauth%2fdrive.photos.readonly%20https%3a%2f%2fwww.googleapis.com%2fauth%2fpeopleapi.readonly\n",
            "\n",
            "Enter your authorization code:\n",
            "··········\n",
            "Mounted at /content/drive\n"
          ],
          "name": "stdout"
        }
      ]
    },
    {
      "cell_type": "code",
      "metadata": {
        "id": "xof8DDUMpllm",
        "colab_type": "code",
        "outputId": "676d9b18-f487-4c6d-841f-951952951e52",
        "colab": {
          "base_uri": "https://localhost:8080/",
          "height": 51
        }
      },
      "source": [
        "%cd\n",
        "%cd ../content/drive/\"My Drive\"/\"dataset zip\""
      ],
      "execution_count": 3,
      "outputs": [
        {
          "output_type": "stream",
          "text": [
            "/root\n",
            "/content/drive/My Drive/dataset zip\n"
          ],
          "name": "stdout"
        }
      ]
    },
    {
      "cell_type": "code",
      "metadata": {
        "id": "ReiNRD6NpnXU",
        "colab_type": "code",
        "colab": {}
      },
      "source": [
        "import zipfile\n",
        "\n",
        "zip_ref = zipfile.ZipFile('dataset_03_29.zip', 'r')\n",
        "zip_ref.extractall(\"/content\")\n",
        "zip_ref.close()\n",
        "\n",
        "zip_ref = zipfile.ZipFile('gleam_dataset_03_29.zip', 'r')\n",
        "zip_ref.extractall(\"/content\")\n",
        "zip_ref.close()\n"
      ],
      "execution_count": 0,
      "outputs": []
    },
    {
      "cell_type": "code",
      "metadata": {
        "id": "kfNrnM6kpsKu",
        "colab_type": "code",
        "outputId": "f4fc776b-0690-4829-c530-e6dd7263e4aa",
        "colab": {
          "base_uri": "https://localhost:8080/",
          "height": 51
        }
      },
      "source": [
        "%cd\n",
        "%cd ../content/"
      ],
      "execution_count": 5,
      "outputs": [
        {
          "output_type": "stream",
          "text": [
            "/root\n",
            "/content\n"
          ],
          "name": "stdout"
        }
      ]
    },
    {
      "cell_type": "markdown",
      "metadata": {
        "id": "ORcjeeZGmYIS",
        "colab_type": "text"
      },
      "source": [
        "## Gaussian Noise Function"
      ]
    },
    {
      "cell_type": "code",
      "metadata": {
        "id": "7T-BYbXOptHs",
        "colab_type": "code",
        "colab": {}
      },
      "source": [
        "import numpy as np\n",
        "\n",
        "def gaussian_noise(input):\n",
        "  mean = 0\n",
        "  var = 20\n",
        "  sigma = var**0.5\n",
        "  # sigma = 30\n",
        "\n",
        "  # height, width, channel = input.shape\n",
        "  # img = np.array(input, dtype=np.int32)\n",
        "  gauss = np.random.normal(mean,sigma,input.shape)\n",
        "\n",
        "  # print(gauss.shape)\n",
        "  # gauss = gauss.reshape(input.shape)\n",
        "\n",
        "  noisy = np.ceil(input + gauss)\n",
        "  noisy = noisy.astype(int)\n",
        "\n",
        "  return noisy\n"
      ],
      "execution_count": 0,
      "outputs": []
    },
    {
      "cell_type": "code",
      "metadata": {
        "id": "hRyIHAygQ2kO",
        "colab_type": "code",
        "colab": {}
      },
      "source": [
        "import datetime\n",
        "\n",
        "def getCurrentTime():\n",
        "  now = datetime.datetime.now()\n",
        "  year = now.year\n",
        "  month = now.month\n",
        "  day= now.day\n",
        "  hour = now.hour\n",
        "  minute = now.minute\n",
        "  return (year, month, day, hour, minute)\n",
        "\n",
        "def generateTimeStampZipFilename():\n",
        "  year, month, day, hour, minute = getCurrentTime()\n",
        "  return str(year) +'_'+ str(month) +'_'+ str(day) +'_'+ str(hour) + str(minute)+'.zip'\n"
      ],
      "execution_count": 0,
      "outputs": []
    },
    {
      "cell_type": "markdown",
      "metadata": {
        "id": "YUIMZJysmdy7",
        "colab_type": "text"
      },
      "source": [
        "## Adding Gaussian Noise to every images on train/ directory"
      ]
    },
    {
      "cell_type": "code",
      "metadata": {
        "id": "hi0k2pkBblF5",
        "colab_type": "code",
        "colab": {
          "base_uri": "https://localhost:8080/",
          "height": 249
        },
        "outputId": "8802efe6-8880-4693-8b89-df0f808a6860"
      },
      "source": [
        "import glob \n",
        "import cv2\n",
        "import os\n",
        "from zipfile import ZipFile\n",
        "\n",
        "\n",
        "CURR_DIR = os.getcwd()\n",
        "DIR = \"noise\"\n",
        "PATH = os.path.join(CURR_DIR, DIR ) \n",
        "\n",
        "if  not os.path.exists(PATH) :\n",
        "  os.mkdir(DIR) \n",
        "  print(\"New Directory created!\")\n",
        "\n",
        "\n",
        "\n",
        "timeStampZipName = generateTimeStampZipFilename()\n",
        "# zipname = 'noise_'+ timeStampZipName\n",
        "zipname = 'noise_dataset_03_29.zip'\n",
        "\n",
        "zip_ref = ZipFile(zipname, 'w')\n",
        "\n",
        "for filename in glob.glob('03_29/*.jp*g'):\n",
        "  img = cv2.imread(filename)\n",
        "  \n",
        "  namefile = filename.replace(\"03_29/\", \"\")\n",
        "  ext = \".jpg\" if namefile.find(\".jpg\") != -1 else \".jpeg\"\n",
        "  namefile = namefile.replace(ext, \"\")\n",
        "  \n",
        "  noise_image = gaussian_noise(img)\n",
        "\n",
        "  noiseFilename = namefile + '_noise'+ ext\n",
        "  path = './noise/' + noiseFilename\n",
        "\n",
        "  cv2.imwrite(path, noise_image)\n",
        "\n",
        "  zip_ref.write(path)\n",
        "\n",
        "\n",
        "zip_ref.close()\n",
        "print(\"Adding Gaussian Noise to images success.\")\n"
      ],
      "execution_count": 8,
      "outputs": [
        {
          "output_type": "stream",
          "text": [
            "New Directory created!\n"
          ],
          "name": "stdout"
        },
        {
          "output_type": "error",
          "ename": "KeyboardInterrupt",
          "evalue": "ignored",
          "traceback": [
            "\u001b[0;31m---------------------------------------------------------------------------\u001b[0m",
            "\u001b[0;31mKeyboardInterrupt\u001b[0m                         Traceback (most recent call last)",
            "\u001b[0;32m<ipython-input-8-cfa7e57aa9fc>\u001b[0m in \u001b[0;36m<module>\u001b[0;34m()\u001b[0m\n\u001b[1;32m     33\u001b[0m   \u001b[0mpath\u001b[0m \u001b[0;34m=\u001b[0m \u001b[0;34m'./noise/'\u001b[0m \u001b[0;34m+\u001b[0m \u001b[0mnoiseFilename\u001b[0m\u001b[0;34m\u001b[0m\u001b[0;34m\u001b[0m\u001b[0m\n\u001b[1;32m     34\u001b[0m \u001b[0;34m\u001b[0m\u001b[0m\n\u001b[0;32m---> 35\u001b[0;31m   \u001b[0mcv2\u001b[0m\u001b[0;34m.\u001b[0m\u001b[0mimwrite\u001b[0m\u001b[0;34m(\u001b[0m\u001b[0mpath\u001b[0m\u001b[0;34m,\u001b[0m \u001b[0mnoise_image\u001b[0m\u001b[0;34m)\u001b[0m\u001b[0;34m\u001b[0m\u001b[0;34m\u001b[0m\u001b[0m\n\u001b[0m\u001b[1;32m     36\u001b[0m \u001b[0;34m\u001b[0m\u001b[0m\n\u001b[1;32m     37\u001b[0m   \u001b[0mzip_ref\u001b[0m\u001b[0;34m.\u001b[0m\u001b[0mwrite\u001b[0m\u001b[0;34m(\u001b[0m\u001b[0mpath\u001b[0m\u001b[0;34m)\u001b[0m\u001b[0;34m\u001b[0m\u001b[0;34m\u001b[0m\u001b[0m\n",
            "\u001b[0;31mKeyboardInterrupt\u001b[0m: "
          ]
        }
      ]
    },
    {
      "cell_type": "markdown",
      "metadata": {
        "id": "XTts9gmImqlh",
        "colab_type": "text"
      },
      "source": [
        "## Adding Gaussian Noise to every images on grayscale/ directory"
      ]
    },
    {
      "cell_type": "code",
      "metadata": {
        "id": "B1VQ1zDw9rK6",
        "colab_type": "code",
        "colab": {}
      },
      "source": [
        ""
      ],
      "execution_count": 0,
      "outputs": []
    },
    {
      "cell_type": "code",
      "metadata": {
        "id": "qWkTiz8mi3rn",
        "colab_type": "code",
        "colab": {}
      },
      "source": [
        "import glob \n",
        "import cv2\n",
        "import os\n",
        "from zipfile import ZipFile\n",
        "\n",
        "# CURR_DIR = os.getcwd()\n",
        "# DIR = \"noise\"\n",
        "# PATH = os.path.join(CURR_DIR, DIR ) \n",
        "\n",
        "# if  not os.path.exists(PATH) :\n",
        "#   os.mkdir(DIR) \n",
        "#   print(\"New Directory created!\")\n",
        "\n",
        "for filename in glob.glob('grayscale/*.jp*g'):\n",
        "  img = cv2.imread(filename)\n",
        "  \n",
        "  namefile = filename.replace(\"grayscale/\", \"\")\n",
        "  ext = \".jpg\" if namefile.find(\".jpg\") != -1 else \".jpeg\"\n",
        "  namefile = namefile.replace(ext, \"\")\n",
        "  \n",
        "  noise_image = gaussian_noise(img)\n",
        "\n",
        "  noiseFilename = namefile + '_noise'+ ext\n",
        "  path = './noise/' + noiseFilename\n",
        "\n",
        "  cv2.imwrite(path, noise_image)\n",
        "\n",
        "  zip_ref.write(path)\n",
        "\n",
        "zip_ref.close()\n",
        "print(\"Adding Gaussian Noise to images success.\")"
      ],
      "execution_count": 0,
      "outputs": []
    },
    {
      "cell_type": "code",
      "metadata": {
        "id": "1LzXvtrZxYPq",
        "colab_type": "code",
        "colab": {}
      },
      "source": [
        "# import cv2\n",
        "\n",
        "# img = cv2.imread(\"train/1.jpeg\")\n",
        "# gaussian = gaussian_noise(img)\n",
        "\n",
        "# # gaussian= np.array(gaussian,np.uint8)\n",
        "# type(gaussian)\n",
        "# print(gaussian)\n",
        "# cv2.imwrite('./noise/' + 'test' + '_noisee'+ ext, gaussian)\n",
        "  \n"
      ],
      "execution_count": 0,
      "outputs": []
    },
    {
      "cell_type": "code",
      "metadata": {
        "id": "EF4PB_9odd8P",
        "colab_type": "code",
        "colab": {}
      },
      "source": [
        "%cd\n",
        "%cd ../content/"
      ],
      "execution_count": 0,
      "outputs": []
    },
    {
      "cell_type": "markdown",
      "metadata": {
        "id": "xHWw_Uk1lunU",
        "colab_type": "text"
      },
      "source": [
        "## Get Timestamp"
      ]
    },
    {
      "cell_type": "code",
      "metadata": {
        "id": "hoLuYRrJlvR2",
        "colab_type": "code",
        "colab": {}
      },
      "source": [
        "import datetime\n",
        "\n",
        "now = datetime.datetime.now()\n",
        "year = now.year\n",
        "month = now.month\n",
        "day= now.day\n",
        "hour = now.hour\n",
        "minute = now.minute"
      ],
      "execution_count": 0,
      "outputs": []
    },
    {
      "cell_type": "markdown",
      "metadata": {
        "id": "8qJHmoGml1HT",
        "colab_type": "text"
      },
      "source": [
        "## Make a zip"
      ]
    },
    {
      "cell_type": "code",
      "metadata": {
        "id": "93a-YeStlyax",
        "colab_type": "code",
        "colab": {}
      },
      "source": [
        "from zipfile import ZipFile\n",
        "\n",
        "zipname = 'gleam_'+ str(year) +'_'+ str(month) +'_'+ str(day) +'_'+ str(hour) + str(minute)+'.zip'\n",
        "\n",
        "zip_ref = ZipFile(zipname, 'w')\n",
        " \n",
        "# Add multiple files to the zip\n",
        "zip_ref.write('./dataset/noise')\n",
        "\n",
        "# close the Zip File\n",
        "zip_ref.close()"
      ],
      "execution_count": 0,
      "outputs": []
    },
    {
      "cell_type": "code",
      "metadata": {
        "id": "sxo7WeGtaVv1",
        "colab_type": "code",
        "colab": {}
      },
      "source": [
        "# import matplotlib.pyplot as plt\n",
        "\n",
        "# # Plot the image.\n",
        "# def display_image(img):\n",
        "#   plt.figure(); plt.imshow(img)\n",
        "#   plt.grid(False);  plt.axis('off'); plt.show()\n",
        "  \n",
        "# # Displaying pic\n",
        "# display_image(img)\n",
        "# display_image(gaussian)\n"
      ],
      "execution_count": 0,
      "outputs": []
    }
  ]
}