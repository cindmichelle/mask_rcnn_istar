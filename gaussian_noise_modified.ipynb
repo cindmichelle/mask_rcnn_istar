{
  "nbformat": 4,
  "nbformat_minor": 0,
  "metadata": {
    "colab": {
      "name": "gaussian_noise.ipynb",
      "provenance": [],
      "collapsed_sections": [],
      "toc_visible": true,
      "authorship_tag": "ABX9TyMg817rlcjASOrwApq6xeYB",
      "include_colab_link": true
    },
    "kernelspec": {
      "name": "python3",
      "display_name": "Python 3"
    }
  },
  "cells": [
    {
      "cell_type": "markdown",
      "metadata": {
        "id": "view-in-github",
        "colab_type": "text"
      },
      "source": [
        "<a href=\"https://colab.research.google.com/github/cindmichelle/mask_rcnn_istar/blob/master/gaussian_noise_modified.ipynb\" target=\"_parent\"><img src=\"https://colab.research.google.com/assets/colab-badge.svg\" alt=\"Open In Colab\"/></a>"
      ]
    },
    {
      "cell_type": "markdown",
      "metadata": {
        "id": "B7zyZWBlmKdR",
        "colab_type": "text"
      },
      "source": [
        "## Mount Drive to get raw images"
      ]
    },
    {
      "cell_type": "code",
      "metadata": {
        "id": "xcJpwuctoIvl",
        "colab_type": "code",
        "outputId": "aa3df598-6f5a-4ffd-b39c-f7ac79aa8693",
        "colab": {
          "base_uri": "https://localhost:8080/",
          "height": 125
        }
      },
      "source": [
        "from google.colab import drive\n",
        "drive.mount('/content/drive')"
      ],
      "execution_count": 1,
      "outputs": [
        {
          "output_type": "stream",
          "text": [
            "Go to this URL in a browser: https://accounts.google.com/o/oauth2/auth?client_id=947318989803-6bn6qk8qdgf4n4g3pfee6491hc0brc4i.apps.googleusercontent.com&redirect_uri=urn%3aietf%3awg%3aoauth%3a2.0%3aoob&response_type=code&scope=email%20https%3a%2f%2fwww.googleapis.com%2fauth%2fdocs.test%20https%3a%2f%2fwww.googleapis.com%2fauth%2fdrive%20https%3a%2f%2fwww.googleapis.com%2fauth%2fdrive.photos.readonly%20https%3a%2f%2fwww.googleapis.com%2fauth%2fpeopleapi.readonly\n",
            "\n",
            "Enter your authorization code:\n",
            "··········\n",
            "Mounted at /content/drive\n"
          ],
          "name": "stdout"
        }
      ]
    },
    {
      "cell_type": "code",
      "metadata": {
        "id": "xof8DDUMpllm",
        "colab_type": "code",
        "outputId": "9d9f8821-e74b-425c-98b1-b4edc44a3b23",
        "colab": {
          "base_uri": "https://localhost:8080/",
          "height": 52
        }
      },
      "source": [
        "%cd\n",
        "%cd ../content/drive/\"My Drive\"/\"dataset zip\"/\"plain data\""
      ],
      "execution_count": 2,
      "outputs": [
        {
          "output_type": "stream",
          "text": [
            "/root\n",
            "/content/drive/My Drive/dataset zip/plain data\n"
          ],
          "name": "stdout"
        }
      ]
    },
    {
      "cell_type": "code",
      "metadata": {
        "id": "ReiNRD6NpnXU",
        "colab_type": "code",
        "colab": {
          "base_uri": "https://localhost:8080/",
          "height": 52
        },
        "outputId": "d32658ce-9f70-4678-f65f-5cd42a898017"
      },
      "source": [
        "import zipfile\n",
        "\n",
        "zip_ref = zipfile.ZipFile('plain_04_05_1.zip', 'r')\n",
        "zip_ref.extractall(\"/content\")\n",
        "zip_ref.close()\n",
        "\n",
        "zip_ref = zipfile.ZipFile('plain_04_05_2.zip', 'r')\n",
        "zip_ref.extractall(\"/content\")\n",
        "zip_ref.close()\n",
        "\n",
        "zip_ref = zipfile.ZipFile('plain_04_05_3.zip', 'r')\n",
        "zip_ref.extractall(\"/content\")\n",
        "zip_ref.close()\n",
        "\n",
        "\n",
        "%cd\n",
        "%cd ../content/drive/\"My Drive\"/\"dataset zip\"/\"gleam formatted\"\n",
        "\n",
        "zip_ref = zipfile.ZipFile('gleam_dataset_04_05_1.zip', 'r')\n",
        "zip_ref.extractall(\"/content\")\n",
        "zip_ref.close()\n",
        "\n",
        "zip_ref = zipfile.ZipFile('gleam_dataset_04_05_2.zip', 'r')\n",
        "zip_ref.extractall(\"/content\")\n",
        "zip_ref.close()\n",
        "\n",
        "zip_ref = zipfile.ZipFile('gleam_dataset_04_05_3.zip', 'r')\n",
        "zip_ref.extractall(\"/content\")\n",
        "zip_ref.close()\n"
      ],
      "execution_count": 4,
      "outputs": [
        {
          "output_type": "stream",
          "text": [
            "/root\n",
            "/content/drive/My Drive/dataset zip/gleam formatted\n"
          ],
          "name": "stdout"
        }
      ]
    },
    {
      "cell_type": "code",
      "metadata": {
        "id": "kfNrnM6kpsKu",
        "colab_type": "code",
        "outputId": "1bddac03-7c1b-4725-eb9d-ae1eb6d2870a",
        "colab": {
          "base_uri": "https://localhost:8080/",
          "height": 52
        }
      },
      "source": [
        "%cd\n",
        "%cd ../content/"
      ],
      "execution_count": 5,
      "outputs": [
        {
          "output_type": "stream",
          "text": [
            "/root\n",
            "/content\n"
          ],
          "name": "stdout"
        }
      ]
    },
    {
      "cell_type": "markdown",
      "metadata": {
        "id": "ORcjeeZGmYIS",
        "colab_type": "text"
      },
      "source": [
        "## Gaussian Noise Function"
      ]
    },
    {
      "cell_type": "code",
      "metadata": {
        "id": "7T-BYbXOptHs",
        "colab_type": "code",
        "colab": {}
      },
      "source": [
        "import numpy as np\n",
        "\n",
        "def gaussian_noise(input):\n",
        "  mean = 0\n",
        "  var = 20\n",
        "  sigma = var**0.5\n",
        "  # sigma = 30\n",
        "\n",
        "  # height, width, channel = input.shape\n",
        "  # img = np.array(input, dtype=np.int32)\n",
        "  gauss = np.random.normal(mean,sigma,input.shape)\n",
        "\n",
        "  # print(gauss.shape)\n",
        "  # gauss = gauss.reshape(input.shape)\n",
        "\n",
        "  noisy = np.ceil(input + gauss)\n",
        "  noisy = noisy.astype(int)\n",
        "\n",
        "  return noisy\n"
      ],
      "execution_count": 0,
      "outputs": []
    },
    {
      "cell_type": "code",
      "metadata": {
        "id": "hRyIHAygQ2kO",
        "colab_type": "code",
        "colab": {}
      },
      "source": [
        "import datetime\n",
        "\n",
        "def getCurrentTime():\n",
        "  now = datetime.datetime.now()\n",
        "  year = now.year\n",
        "  month = now.month\n",
        "  day= now.day\n",
        "  hour = now.hour\n",
        "  minute = now.minute\n",
        "  return (year, month, day, hour, minute)\n",
        "\n",
        "def generateTimeStampZipFilename():\n",
        "  year, month, day, hour, minute = getCurrentTime()\n",
        "  return str(year) +'_'+ str(month) +'_'+ str(day) +'_'+ str(hour) + str(minute)+'.zip'\n"
      ],
      "execution_count": 0,
      "outputs": []
    },
    {
      "cell_type": "markdown",
      "metadata": {
        "id": "YUIMZJysmdy7",
        "colab_type": "text"
      },
      "source": [
        "## Adding Gaussian Noise to every images on train/ directory"
      ]
    },
    {
      "cell_type": "code",
      "metadata": {
        "id": "hi0k2pkBblF5",
        "colab_type": "code",
        "outputId": "b803583c-2b26-4509-8d7b-a26fa8080d9d",
        "colab": {
          "base_uri": "https://localhost:8080/",
          "height": 621
        }
      },
      "source": [
        "import glob \n",
        "import cv2\n",
        "import os\n",
        "from zipfile import ZipFile\n",
        "\n",
        "\n",
        "CURR_DIR = os.getcwd()\n",
        "DIR = \"noise_04_05_3\"\n",
        "PATH = os.path.join(CURR_DIR, DIR ) \n",
        "\n",
        "if  not os.path.exists(PATH) :\n",
        "  os.mkdir(DIR) \n",
        "  print(\"New Directory created!\")\n",
        "\n",
        "\n",
        "\n",
        "timeStampZipName = generateTimeStampZipFilename()\n",
        "# zipname = 'noise_'+ timeStampZipName\n",
        "zipname = 'noise_dataset_04_05_3.zip'\n",
        "\n",
        "zip_ref = ZipFile(zipname, 'w')\n",
        "\n",
        "total = 0\n",
        "for filename in glob.glob('03_31/*.jp*g'):\n",
        "  img = cv2.imread(filename)\n",
        "  \n",
        "  namefile = filename.replace(\"03_31/\", \"\")\n",
        "  ext = \".jpg\" if namefile.find(\".jpg\") != -1 else \".jpeg\"\n",
        "  namefile = namefile.replace(ext, \"\")\n",
        "  \n",
        "  noise_image = gaussian_noise(img)\n",
        "\n",
        "  noiseFilename = namefile + '_noise'+ ext\n",
        "  path = './'+ DIR +'/' + noiseFilename\n",
        "\n",
        "  cv2.imwrite(path, noise_image)\n",
        "\n",
        "  zip_ref.write(path)\n",
        "  \n",
        "  print('Add ' + noiseFilename + ' to directory' + DIR + ' success.')\n",
        "  total+=1\n",
        "\n",
        "\n",
        "# zip_ref.close()\n",
        "print(\"Adding Gaussian Noise to images success.\")\n",
        "print('Total Data plain -> noise: ', total)\n"
      ],
      "execution_count": 16,
      "outputs": [
        {
          "output_type": "stream",
          "text": [
            "New Directory created!\n",
            "Add 20200331_021237_noise.jpg to directorynoise_04_05_3 success.\n",
            "Add 20200331_021659_noise.jpg to directorynoise_04_05_3 success.\n",
            "Add 20200331_021614_noise.jpg to directorynoise_04_05_3 success.\n",
            "Add 20200331_021504_noise.jpg to directorynoise_04_05_3 success.\n",
            "Add 20200331_021930_noise.jpg to directorynoise_04_05_3 success.\n",
            "Add 20200331_021826_noise.jpg to directorynoise_04_05_3 success.\n",
            "Add 20200331_021518_noise.jpg to directorynoise_04_05_3 success.\n",
            "Add 20200331_021113_noise.jpg to directorynoise_04_05_3 success.\n",
            "Add 20200331_021156_noise.jpg to directorynoise_04_05_3 success.\n",
            "Add 20200331_021418_noise.jpg to directorynoise_04_05_3 success.\n",
            "Add 20200331_021552_noise.jpg to directorynoise_04_05_3 success.\n",
            "Add 20200331_021318_noise.jpg to directorynoise_04_05_3 success.\n",
            "Add 20200331_022012_noise.jpg to directorynoise_04_05_3 success.\n",
            "Add 20200331_021023_noise.jpg to directorynoise_04_05_3 success.\n",
            "Add 20200331_021257_noise.jpg to directorynoise_04_05_3 success.\n",
            "Add 20200331_021047_noise.jpg to directorynoise_04_05_3 success.\n",
            "Add 20200331_021917_noise.jpg to directorynoise_04_05_3 success.\n",
            "Add 20200331_021625_noise.jpg to directorynoise_04_05_3 success.\n",
            "Add 20200331_021211_noise.jpg to directorynoise_04_05_3 success.\n",
            "Add 20200331_021845_noise.jpg to directorynoise_04_05_3 success.\n",
            "Add 20200331_021942_noise.jpg to directorynoise_04_05_3 success.\n",
            "Add 20200331_021431_noise.jpg to directorynoise_04_05_3 success.\n",
            "Add 20200331_021812_noise.jpg to directorynoise_04_05_3 success.\n",
            "Add 20200331_022001_noise.jpg to directorynoise_04_05_3 success.\n",
            "Add 20200331_021529_noise.jpg to directorynoise_04_05_3 success.\n",
            "Add 20200331_021141_noise.jpg to directorynoise_04_05_3 success.\n",
            "Add 20200331_021733_noise.jpg to directorynoise_04_05_3 success.\n",
            "Add 20200331_021637_noise.jpg to directorynoise_04_05_3 success.\n",
            "Add 20200331_021602_noise.jpg to directorynoise_04_05_3 success.\n",
            "Add 20200331_021006_noise.jpg to directorynoise_04_05_3 success.\n",
            "Add 20200331_020939_noise.jpg to directorynoise_04_05_3 success.\n",
            "Adding Gaussian Noise to images success.\n",
            "Total Data plain -> noise:  31\n"
          ],
          "name": "stdout"
        }
      ]
    },
    {
      "cell_type": "markdown",
      "metadata": {
        "id": "XTts9gmImqlh",
        "colab_type": "text"
      },
      "source": [
        "## Adding Gaussian Noise to every images on grayscale/ directory"
      ]
    },
    {
      "cell_type": "code",
      "metadata": {
        "id": "qWkTiz8mi3rn",
        "colab_type": "code",
        "outputId": "14ed284c-f833-449a-d09a-e59fc3925a08",
        "colab": {
          "base_uri": "https://localhost:8080/",
          "height": 585
        }
      },
      "source": [
        "# import glob \n",
        "# import cv2\n",
        "# import os\n",
        "# from zipfile import ZipFile\n",
        "\n",
        "# CURR_DIR = os.getcwd()\n",
        "# DIR = \"noise\"\n",
        "# PATH = os.path.join(CURR_DIR, DIR ) \n",
        "\n",
        "# if  not os.path.exists(PATH) :\n",
        "#   os.mkdir(DIR) \n",
        "#   print(\"New Directory created!\")\n",
        "\n",
        "for filename in glob.glob('grayscale_04_05_3/*.jp*g'):\n",
        "  img = cv2.imread(filename)\n",
        "  \n",
        "  namefile = filename.replace(\"grayscale_04_05_3/\", \"\")\n",
        "  ext = \".jpg\" if namefile.find(\".jpg\") != -1 else \".jpeg\"\n",
        "  namefile = namefile.replace(ext, \"\")\n",
        "  \n",
        "  noise_image = gaussian_noise(img)\n",
        "\n",
        "  noiseFilename = namefile + '_noise'+ ext\n",
        "  path = './'+ DIR +'/' + noiseFilename\n",
        "\n",
        "  cv2.imwrite(path, noise_image)\n",
        "\n",
        "  zip_ref.write(path)\n",
        "  print('Add ' + noiseFilename + ' to directory' + DIR + ' success.')\n",
        "  total+=1\n",
        "\n",
        "\n",
        "zip_ref.close()\n",
        "print('Total Data noise: ', total)\n"
      ],
      "execution_count": 17,
      "outputs": [
        {
          "output_type": "stream",
          "text": [
            "Add 20200331_021942_grayscale_noise.jpg to directorynoise_04_05_3 success.\n",
            "Add 20200331_021141_grayscale_noise.jpg to directorynoise_04_05_3 success.\n",
            "Add 20200331_021614_grayscale_noise.jpg to directorynoise_04_05_3 success.\n",
            "Add 20200331_021023_grayscale_noise.jpg to directorynoise_04_05_3 success.\n",
            "Add 20200331_021826_grayscale_noise.jpg to directorynoise_04_05_3 success.\n",
            "Add 20200331_021518_grayscale_noise.jpg to directorynoise_04_05_3 success.\n",
            "Add 20200331_021602_grayscale_noise.jpg to directorynoise_04_05_3 success.\n",
            "Add 20200331_021845_grayscale_noise.jpg to directorynoise_04_05_3 success.\n",
            "Add 20200331_021529_grayscale_noise.jpg to directorynoise_04_05_3 success.\n",
            "Add 20200331_021047_grayscale_noise.jpg to directorynoise_04_05_3 success.\n",
            "Add 20200331_021659_grayscale_noise.jpg to directorynoise_04_05_3 success.\n",
            "Add 20200331_021257_grayscale_noise.jpg to directorynoise_04_05_3 success.\n",
            "Add 20200331_021237_grayscale_noise.jpg to directorynoise_04_05_3 success.\n",
            "Add 20200331_021504_grayscale_noise.jpg to directorynoise_04_05_3 success.\n",
            "Add 20200331_022001_grayscale_noise.jpg to directorynoise_04_05_3 success.\n",
            "Add 20200331_021637_grayscale_noise.jpg to directorynoise_04_05_3 success.\n",
            "Add 20200331_021812_grayscale_noise.jpg to directorynoise_04_05_3 success.\n",
            "Add 20200331_022012_grayscale_noise.jpg to directorynoise_04_05_3 success.\n",
            "Add 20200331_021431_grayscale_noise.jpg to directorynoise_04_05_3 success.\n",
            "Add 20200331_021917_grayscale_noise.jpg to directorynoise_04_05_3 success.\n",
            "Add 20200331_021418_grayscale_noise.jpg to directorynoise_04_05_3 success.\n",
            "Add 20200331_021113_grayscale_noise.jpg to directorynoise_04_05_3 success.\n",
            "Add 20200331_021318_grayscale_noise.jpg to directorynoise_04_05_3 success.\n",
            "Add 20200331_021156_grayscale_noise.jpg to directorynoise_04_05_3 success.\n",
            "Add 20200331_021006_grayscale_noise.jpg to directorynoise_04_05_3 success.\n",
            "Add 20200331_021930_grayscale_noise.jpg to directorynoise_04_05_3 success.\n",
            "Add 20200331_021625_grayscale_noise.jpg to directorynoise_04_05_3 success.\n",
            "Add 20200331_021733_grayscale_noise.jpg to directorynoise_04_05_3 success.\n",
            "Add 20200331_021211_grayscale_noise.jpg to directorynoise_04_05_3 success.\n",
            "Add 20200331_020939_grayscale_noise.jpg to directorynoise_04_05_3 success.\n",
            "Add 20200331_021552_grayscale_noise.jpg to directorynoise_04_05_3 success.\n",
            "Total Data noise:  62\n"
          ],
          "name": "stdout"
        }
      ]
    },
    {
      "cell_type": "code",
      "metadata": {
        "id": "1LzXvtrZxYPq",
        "colab_type": "code",
        "colab": {}
      },
      "source": [
        "# import cv2\n",
        "\n",
        "# img = cv2.imread(\"train/1.jpeg\")\n",
        "# gaussian = gaussian_noise(img)\n",
        "\n",
        "# # gaussian= np.array(gaussian,np.uint8)\n",
        "# type(gaussian)\n",
        "# print(gaussian)\n",
        "# cv2.imwrite('./noise/' + 'test' + '_noisee'+ ext, gaussian)\n",
        "  \n"
      ],
      "execution_count": 0,
      "outputs": []
    },
    {
      "cell_type": "code",
      "metadata": {
        "id": "EF4PB_9odd8P",
        "colab_type": "code",
        "colab": {}
      },
      "source": [
        "# %cd\n",
        "# %cd ../content/"
      ],
      "execution_count": 0,
      "outputs": []
    },
    {
      "cell_type": "markdown",
      "metadata": {
        "id": "xHWw_Uk1lunU",
        "colab_type": "text"
      },
      "source": [
        "## Get Timestamp"
      ]
    },
    {
      "cell_type": "code",
      "metadata": {
        "id": "hoLuYRrJlvR2",
        "colab_type": "code",
        "colab": {}
      },
      "source": [
        "# import datetime\n",
        "\n",
        "# now = datetime.datetime.now()\n",
        "# year = now.year\n",
        "# month = now.month\n",
        "# day= now.day\n",
        "# hour = now.hour\n",
        "# minute = now.minute"
      ],
      "execution_count": 0,
      "outputs": []
    },
    {
      "cell_type": "markdown",
      "metadata": {
        "id": "8qJHmoGml1HT",
        "colab_type": "text"
      },
      "source": [
        "## Make a zip"
      ]
    },
    {
      "cell_type": "code",
      "metadata": {
        "id": "93a-YeStlyax",
        "colab_type": "code",
        "colab": {}
      },
      "source": [
        "# from zipfile import ZipFile\n",
        "\n",
        "# zipname = 'gleam_'+ str(year) +'_'+ str(month) +'_'+ str(day) +'_'+ str(hour) + str(minute)+'.zip'\n",
        "\n",
        "# zip_ref = ZipFile(zipname, 'w')\n",
        " \n",
        "# # Add multiple files to the zip\n",
        "# zip_ref.write('./dataset/noise')\n",
        "\n",
        "# # close the Zip File\n",
        "# zip_ref.close()"
      ],
      "execution_count": 0,
      "outputs": []
    },
    {
      "cell_type": "code",
      "metadata": {
        "id": "sxo7WeGtaVv1",
        "colab_type": "code",
        "colab": {}
      },
      "source": [
        "# import matplotlib.pyplot as plt\n",
        "\n",
        "# # Plot the image.\n",
        "# def display_image(img):\n",
        "#   plt.figure(); plt.imshow(img)\n",
        "#   plt.grid(False);  plt.axis('off'); plt.show()\n",
        "  \n",
        "# # Displaying pic\n",
        "# display_image(img)\n",
        "# display_image(gaussian)\n"
      ],
      "execution_count": 0,
      "outputs": []
    }
  ]
}