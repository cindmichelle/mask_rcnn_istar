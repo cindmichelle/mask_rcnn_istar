{
  "nbformat": 4,
  "nbformat_minor": 0,
  "metadata": {
    "colab": {
      "name": "istar_multi_gpu.ipynb",
      "provenance": [],
      "collapsed_sections": [],
      "toc_visible": true,
      "machine_shape": "hm",
      "authorship_tag": "ABX9TyMZYcfN11IYWmHy92s9Ccvh",
      "include_colab_link": true
    },
    "kernelspec": {
      "name": "python3",
      "display_name": "Python 3"
    },
    "accelerator": "GPU"
  },
  "cells": [
    {
      "cell_type": "markdown",
      "metadata": {
        "id": "view-in-github",
        "colab_type": "text"
      },
      "source": [
        "<a href=\"https://colab.research.google.com/github/cindmichelle/mask_rcnn_istar/blob/master/istar_multi_gpu_05am.ipynb\" target=\"_parent\"><img src=\"https://colab.research.google.com/assets/colab-badge.svg\" alt=\"Open In Colab\"/></a>"
      ]
    },
    {
      "cell_type": "markdown",
      "metadata": {
        "id": "Nw1LSj65P77y",
        "colab_type": "text"
      },
      "source": [
        "# Mask R-CNN - Train on Shapes Dataset\n",
        "\n",
        "\n",
        "This notebook shows how to train Mask R-CNN on your own dataset. To keep things simple we use a synthetic dataset of shapes (squares, triangles, and circles) which enables fast training. You'd still need a GPU, though, because the network backbone is a Resnet101, which would be too slow to train on a CPU. On a GPU, you can start to get okay-ish results in a few minutes, and good results in less than an hour.\n",
        "\n",
        "The code of the *Shapes* dataset is included below. It generates images on the fly, so it doesn't require downloading any data. And it can generate images of any size, so we pick a small image size to train faster. \n",
        "\n",
        "\n",
        "\n",
        "**NOTE** : *if you running this on Google Colab, don't forget to change runtime type to GPU, so there will be no more time wasted because Google Colab run in TPU by default*"
      ]
    },
    {
      "cell_type": "code",
      "metadata": {
        "id": "qqI_Mh7VDk4q",
        "colab_type": "code",
        "outputId": "a522d74f-c14b-4a90-ee2f-cd64afdbaf55",
        "colab": {
          "base_uri": "https://localhost:8080/",
          "height": 102
        }
      },
      "source": [
        "!git clone https://github.com/matterport/Mask_RCNN.git"
      ],
      "execution_count": 1,
      "outputs": [
        {
          "output_type": "stream",
          "text": [
            "Cloning into 'Mask_RCNN'...\n",
            "remote: Enumerating objects: 956, done.\u001b[K\n",
            "remote: Total 956 (delta 0), reused 0 (delta 0), pack-reused 956\u001b[K\n",
            "Receiving objects: 100% (956/956), 111.84 MiB | 44.60 MiB/s, done.\n",
            "Resolving deltas: 100% (567/567), done.\n"
          ],
          "name": "stdout"
        }
      ]
    },
    {
      "cell_type": "markdown",
      "metadata": {
        "id": "HkbPu-_xS2ra",
        "colab_type": "text"
      },
      "source": [
        "## Install Keras 2.1.6\n",
        "To allow multi GPU Processing"
      ]
    },
    {
      "cell_type": "code",
      "metadata": {
        "id": "0JNTDl45MRQg",
        "colab_type": "code",
        "outputId": "a8b3c399-1433-4517-cef5-116ea6e3b5bf",
        "colab": {
          "base_uri": "https://localhost:8080/",
          "height": 1000
        }
      },
      "source": [
        "%pip install keras==2.1.6\n",
        "%pip install tensorflow==1.15.2"
      ],
      "execution_count": 2,
      "outputs": [
        {
          "output_type": "stream",
          "text": [
            "Collecting keras==2.1.6\n",
            "\u001b[?25l  Downloading https://files.pythonhosted.org/packages/54/e8/eaff7a09349ae9bd40d3ebaf028b49f5e2392c771f294910f75bb608b241/Keras-2.1.6-py2.py3-none-any.whl (339kB)\n",
            "\u001b[K     |████████████████████████████████| 348kB 2.6MB/s \n",
            "\u001b[?25hRequirement already satisfied: numpy>=1.9.1 in /usr/local/lib/python3.6/dist-packages (from keras==2.1.6) (1.18.2)\n",
            "Requirement already satisfied: pyyaml in /usr/local/lib/python3.6/dist-packages (from keras==2.1.6) (3.13)\n",
            "Requirement already satisfied: six>=1.9.0 in /usr/local/lib/python3.6/dist-packages (from keras==2.1.6) (1.12.0)\n",
            "Requirement already satisfied: h5py in /usr/local/lib/python3.6/dist-packages (from keras==2.1.6) (2.10.0)\n",
            "Requirement already satisfied: scipy>=0.14 in /usr/local/lib/python3.6/dist-packages (from keras==2.1.6) (1.4.1)\n",
            "Installing collected packages: keras\n",
            "  Found existing installation: Keras 2.2.5\n",
            "    Uninstalling Keras-2.2.5:\n",
            "      Successfully uninstalled Keras-2.2.5\n",
            "Successfully installed keras-2.1.6\n",
            "Collecting tensorflow==1.15.2\n",
            "\u001b[?25l  Downloading https://files.pythonhosted.org/packages/9a/d9/fd234c7bf68638423fb8e7f44af7fcfce3bcaf416b51e6d902391e47ec43/tensorflow-1.15.2-cp36-cp36m-manylinux2010_x86_64.whl (110.5MB)\n",
            "\u001b[K     |████████████████████████████████| 110.5MB 27kB/s \n",
            "\u001b[?25hCollecting tensorboard<1.16.0,>=1.15.0\n",
            "\u001b[?25l  Downloading https://files.pythonhosted.org/packages/1e/e9/d3d747a97f7188f48aa5eda486907f3b345cd409f0a0850468ba867db246/tensorboard-1.15.0-py3-none-any.whl (3.8MB)\n",
            "\u001b[K     |████████████████████████████████| 3.8MB 35.3MB/s \n",
            "\u001b[?25hRequirement already satisfied: google-pasta>=0.1.6 in /usr/local/lib/python3.6/dist-packages (from tensorflow==1.15.2) (0.2.0)\n",
            "Collecting gast==0.2.2\n",
            "  Downloading https://files.pythonhosted.org/packages/4e/35/11749bf99b2d4e3cceb4d55ca22590b0d7c2c62b9de38ac4a4a7f4687421/gast-0.2.2.tar.gz\n",
            "Requirement already satisfied: opt-einsum>=2.3.2 in /usr/local/lib/python3.6/dist-packages (from tensorflow==1.15.2) (3.2.0)\n",
            "Collecting tensorflow-estimator==1.15.1\n",
            "\u001b[?25l  Downloading https://files.pythonhosted.org/packages/de/62/2ee9cd74c9fa2fa450877847ba560b260f5d0fb70ee0595203082dafcc9d/tensorflow_estimator-1.15.1-py2.py3-none-any.whl (503kB)\n",
            "\u001b[K     |████████████████████████████████| 512kB 32.8MB/s \n",
            "\u001b[?25hRequirement already satisfied: wrapt>=1.11.1 in /usr/local/lib/python3.6/dist-packages (from tensorflow==1.15.2) (1.12.1)\n",
            "Requirement already satisfied: grpcio>=1.8.6 in /usr/local/lib/python3.6/dist-packages (from tensorflow==1.15.2) (1.27.2)\n",
            "Requirement already satisfied: absl-py>=0.7.0 in /usr/local/lib/python3.6/dist-packages (from tensorflow==1.15.2) (0.9.0)\n",
            "Requirement already satisfied: numpy<2.0,>=1.16.0 in /usr/local/lib/python3.6/dist-packages (from tensorflow==1.15.2) (1.18.2)\n",
            "Requirement already satisfied: astor>=0.6.0 in /usr/local/lib/python3.6/dist-packages (from tensorflow==1.15.2) (0.8.1)\n",
            "Requirement already satisfied: termcolor>=1.1.0 in /usr/local/lib/python3.6/dist-packages (from tensorflow==1.15.2) (1.1.0)\n",
            "Requirement already satisfied: wheel>=0.26; python_version >= \"3\" in /usr/local/lib/python3.6/dist-packages (from tensorflow==1.15.2) (0.34.2)\n",
            "Requirement already satisfied: keras-applications>=1.0.8 in /usr/local/lib/python3.6/dist-packages (from tensorflow==1.15.2) (1.0.8)\n",
            "Requirement already satisfied: six>=1.10.0 in /usr/local/lib/python3.6/dist-packages (from tensorflow==1.15.2) (1.12.0)\n",
            "Requirement already satisfied: keras-preprocessing>=1.0.5 in /usr/local/lib/python3.6/dist-packages (from tensorflow==1.15.2) (1.1.0)\n",
            "Requirement already satisfied: protobuf>=3.6.1 in /usr/local/lib/python3.6/dist-packages (from tensorflow==1.15.2) (3.10.0)\n",
            "Requirement already satisfied: setuptools>=41.0.0 in /usr/local/lib/python3.6/dist-packages (from tensorboard<1.16.0,>=1.15.0->tensorflow==1.15.2) (46.0.0)\n",
            "Requirement already satisfied: werkzeug>=0.11.15 in /usr/local/lib/python3.6/dist-packages (from tensorboard<1.16.0,>=1.15.0->tensorflow==1.15.2) (1.0.0)\n",
            "Requirement already satisfied: markdown>=2.6.8 in /usr/local/lib/python3.6/dist-packages (from tensorboard<1.16.0,>=1.15.0->tensorflow==1.15.2) (3.2.1)\n",
            "Requirement already satisfied: h5py in /usr/local/lib/python3.6/dist-packages (from keras-applications>=1.0.8->tensorflow==1.15.2) (2.10.0)\n",
            "Building wheels for collected packages: gast\n",
            "  Building wheel for gast (setup.py) ... \u001b[?25l\u001b[?25hdone\n",
            "  Created wheel for gast: filename=gast-0.2.2-cp36-none-any.whl size=7540 sha256=008f50861dc83340f15b799b387abeb2eab86d813002be3c3b0054709d6d5620\n",
            "  Stored in directory: /root/.cache/pip/wheels/5c/2e/7e/a1d4d4fcebe6c381f378ce7743a3ced3699feb89bcfbdadadd\n",
            "Successfully built gast\n",
            "Installing collected packages: tensorboard, gast, tensorflow-estimator, tensorflow\n",
            "  Found existing installation: tensorboard 2.2.0\n",
            "    Uninstalling tensorboard-2.2.0:\n",
            "      Successfully uninstalled tensorboard-2.2.0\n",
            "  Found existing installation: gast 0.3.3\n",
            "    Uninstalling gast-0.3.3:\n",
            "      Successfully uninstalled gast-0.3.3\n",
            "  Found existing installation: tensorflow-estimator 2.2.0rc0\n",
            "    Uninstalling tensorflow-estimator-2.2.0rc0:\n",
            "      Successfully uninstalled tensorflow-estimator-2.2.0rc0\n",
            "  Found existing installation: tensorflow 2.2.0rc2\n",
            "    Uninstalling tensorflow-2.2.0rc2:\n",
            "      Successfully uninstalled tensorflow-2.2.0rc2\n",
            "Successfully installed gast-0.2.2 tensorboard-1.15.0 tensorflow-1.15.2 tensorflow-estimator-1.15.1\n"
          ],
          "name": "stdout"
        }
      ]
    },
    {
      "cell_type": "code",
      "metadata": {
        "id": "5Vt5bijvDp8W",
        "colab_type": "code",
        "colab": {
          "base_uri": "https://localhost:8080/",
          "height": 34
        },
        "outputId": "cc217b84-ae6a-4697-c5f8-dde208247bdb"
      },
      "source": [
        "pwd"
      ],
      "execution_count": 3,
      "outputs": [
        {
          "output_type": "execute_result",
          "data": {
            "text/plain": [
              "'/content'"
            ]
          },
          "metadata": {
            "tags": []
          },
          "execution_count": 3
        }
      ]
    },
    {
      "cell_type": "code",
      "metadata": {
        "id": "O1vwj_rxHJmM",
        "colab_type": "code",
        "outputId": "b4349e60-09f6-4c44-d2b1-1e66cb679db9",
        "colab": {
          "base_uri": "https://localhost:8080/",
          "height": 122
        }
      },
      "source": [
        "from google.colab import drive\n",
        "drive.mount('/content/drive')"
      ],
      "execution_count": 5,
      "outputs": [
        {
          "output_type": "stream",
          "text": [
            "Go to this URL in a browser: https://accounts.google.com/o/oauth2/auth?client_id=947318989803-6bn6qk8qdgf4n4g3pfee6491hc0brc4i.apps.googleusercontent.com&redirect_uri=urn%3aietf%3awg%3aoauth%3a2.0%3aoob&response_type=code&scope=email%20https%3a%2f%2fwww.googleapis.com%2fauth%2fdocs.test%20https%3a%2f%2fwww.googleapis.com%2fauth%2fdrive%20https%3a%2f%2fwww.googleapis.com%2fauth%2fdrive.photos.readonly%20https%3a%2f%2fwww.googleapis.com%2fauth%2fpeopleapi.readonly\n",
            "\n",
            "Enter your authorization code:\n",
            "··········\n",
            "Mounted at /content/drive\n"
          ],
          "name": "stdout"
        }
      ]
    },
    {
      "cell_type": "code",
      "metadata": {
        "id": "QIBap-vRkHYU",
        "colab_type": "code",
        "outputId": "9901e2e8-2ff4-4c31-845b-008b8d0c9df6",
        "colab": {
          "base_uri": "https://localhost:8080/",
          "height": 51
        }
      },
      "source": [
        "%cd\n",
        "%cd ../content/drive/\"My Drive\"/\"dataset zip\""
      ],
      "execution_count": 24,
      "outputs": [
        {
          "output_type": "stream",
          "text": [
            "/root\n",
            "/content/drive/My Drive/dataset zip\n"
          ],
          "name": "stdout"
        }
      ]
    },
    {
      "cell_type": "code",
      "metadata": {
        "id": "0uT6k7bTkQh9",
        "colab_type": "code",
        "colab": {}
      },
      "source": [
        "import zipfile\n",
        "\n",
        "zip_ref = zipfile.ZipFile('dataset_2020_03_17.zip', 'r')\n",
        "zip_ref.extractall(\"/content\")\n",
        "zip_ref.close()"
      ],
      "execution_count": 0,
      "outputs": []
    },
    {
      "cell_type": "code",
      "metadata": {
        "id": "99qXXLHFxS9t",
        "colab_type": "code",
        "colab": {}
      },
      "source": [
        "# %tensorflow_version 1.x"
      ],
      "execution_count": 0,
      "outputs": []
    },
    {
      "cell_type": "markdown",
      "metadata": {
        "id": "_NkBOq65nUEq",
        "colab_type": "text"
      },
      "source": [
        "## Specs"
      ]
    },
    {
      "cell_type": "code",
      "metadata": {
        "id": "ST7rkgKhx0Cq",
        "colab_type": "code",
        "outputId": "a0f2b5dd-f8ea-4f39-a490-cb79f64a14d0",
        "colab": {
          "base_uri": "https://localhost:8080/",
          "height": 0
        }
      },
      "source": [
        "pip freeze"
      ],
      "execution_count": 10,
      "outputs": [
        {
          "output_type": "stream",
          "text": [
            "absl-py==0.9.0\n",
            "alabaster==0.7.12\n",
            "albumentations==0.1.12\n",
            "altair==4.0.1\n",
            "asgiref==3.2.7\n",
            "astor==0.8.1\n",
            "astropy==4.0.1\n",
            "astunparse==1.6.3\n",
            "atari-py==0.2.6\n",
            "atomicwrites==1.3.0\n",
            "attrs==19.3.0\n",
            "audioread==2.1.8\n",
            "autograd==1.3\n",
            "Babel==2.8.0\n",
            "backcall==0.1.0\n",
            "beautifulsoup4==4.6.3\n",
            "bleach==3.1.4\n",
            "blis==0.4.1\n",
            "bokeh==1.4.0\n",
            "boto3==1.12.31\n",
            "botocore==1.15.31\n",
            "Bottleneck==1.3.2\n",
            "branca==0.4.0\n",
            "bs4==0.0.1\n",
            "CacheControl==0.12.6\n",
            "cachetools==3.1.1\n",
            "catalogue==1.0.0\n",
            "certifi==2019.11.28\n",
            "cffi==1.14.0\n",
            "chainer==6.5.0\n",
            "chardet==3.0.4\n",
            "click==7.1.1\n",
            "cloudpickle==1.3.0\n",
            "cmake==3.12.0\n",
            "cmdstanpy==0.4.0\n",
            "colorlover==0.3.0\n",
            "community==1.0.0b1\n",
            "contextlib2==0.5.5\n",
            "convertdate==2.2.0\n",
            "coverage==3.7.1\n",
            "coveralls==0.5\n",
            "crcmod==1.7\n",
            "cufflinks==0.17.3\n",
            "cupy-cuda101==6.5.0\n",
            "cvxopt==1.2.4\n",
            "cvxpy==1.0.28\n",
            "cycler==0.10.0\n",
            "cymem==2.0.3\n",
            "Cython==0.29.16\n",
            "daft==0.0.4\n",
            "dask==2.12.0\n",
            "dataclasses==0.7\n",
            "datascience==0.10.6\n",
            "decorator==4.4.2\n",
            "defusedxml==0.6.0\n",
            "descartes==1.1.0\n",
            "dill==0.3.1.1\n",
            "distributed==1.25.3\n",
            "Django==3.0.4\n",
            "dlib==19.18.0\n",
            "docopt==0.6.2\n",
            "docutils==0.15.2\n",
            "dopamine-rl==1.0.5\n",
            "earthengine-api==0.1.217\n",
            "easydict==1.9\n",
            "ecos==2.0.7.post1\n",
            "editdistance==0.5.3\n",
            "en-core-web-sm==2.2.5\n",
            "entrypoints==0.3\n",
            "ephem==3.7.7.1\n",
            "et-xmlfile==1.0.1\n",
            "fa2==0.3.5\n",
            "fancyimpute==0.4.3\n",
            "fastai==1.0.60\n",
            "fastdtw==0.3.4\n",
            "fastprogress==0.2.2\n",
            "fastrlock==0.4\n",
            "fbprophet==0.6\n",
            "feather-format==0.4.0\n",
            "featuretools==0.4.1\n",
            "filelock==3.0.12\n",
            "firebase-admin==4.0.0\n",
            "fix-yahoo-finance==0.0.22\n",
            "Flask==1.1.1\n",
            "folium==0.8.3\n",
            "fsspec==0.7.1\n",
            "future==0.16.0\n",
            "gast==0.2.2\n",
            "GDAL==2.2.2\n",
            "gdown==3.6.4\n",
            "gensim==3.6.0\n",
            "geographiclib==1.50\n",
            "geopy==1.17.0\n",
            "gin-config==0.3.0\n",
            "glob2==0.7\n",
            "google==2.0.3\n",
            "google-api-core==1.16.0\n",
            "google-api-python-client==1.7.12\n",
            "google-auth==1.7.2\n",
            "google-auth-httplib2==0.0.3\n",
            "google-auth-oauthlib==0.4.1\n",
            "google-cloud-bigquery==1.21.0\n",
            "google-cloud-core==1.0.3\n",
            "google-cloud-datastore==1.8.0\n",
            "google-cloud-firestore==1.6.2\n",
            "google-cloud-language==1.2.0\n",
            "google-cloud-storage==1.18.1\n",
            "google-cloud-translate==1.5.0\n",
            "google-colab==1.0.0\n",
            "google-pasta==0.2.0\n",
            "google-resumable-media==0.4.1\n",
            "googleapis-common-protos==1.51.0\n",
            "googledrivedownloader==0.4\n",
            "graphviz==0.10.1\n",
            "grpcio==1.27.2\n",
            "gspread==3.0.1\n",
            "gspread-dataframe==3.0.4\n",
            "gym==0.17.1\n",
            "h5py==2.10.0\n",
            "HeapDict==1.0.1\n",
            "holidays==0.9.12\n",
            "html5lib==1.0.1\n",
            "httpimport==0.5.18\n",
            "httplib2==0.17.0\n",
            "httplib2shim==0.0.3\n",
            "humanize==0.5.1\n",
            "hyperopt==0.1.2\n",
            "ideep4py==2.0.0.post3\n",
            "idna==2.8\n",
            "image==1.5.28\n",
            "imageio==2.4.1\n",
            "imagesize==1.2.0\n",
            "imbalanced-learn==0.4.3\n",
            "imblearn==0.0\n",
            "imgaug==0.2.9\n",
            "importlib-metadata==1.6.0\n",
            "imutils==0.5.3\n",
            "inflect==2.1.0\n",
            "intel-openmp==2020.0.133\n",
            "intervaltree==2.1.0\n",
            "ipykernel==4.6.1\n",
            "ipython==5.5.0\n",
            "ipython-genutils==0.2.0\n",
            "ipython-sql==0.3.9\n",
            "ipywidgets==7.5.1\n",
            "itsdangerous==1.1.0\n",
            "jax==0.1.62\n",
            "jaxlib==0.1.42\n",
            "jdcal==1.4.1\n",
            "jedi==0.16.0\n",
            "jieba==0.42.1\n",
            "Jinja2==2.11.1\n",
            "jmespath==0.9.5\n",
            "joblib==0.14.1\n",
            "jpeg4py==0.1.4\n",
            "jsonschema==2.6.0\n",
            "jupyter==1.0.0\n",
            "jupyter-client==5.3.4\n",
            "jupyter-console==5.2.0\n",
            "jupyter-core==4.6.3\n",
            "kaggle==1.5.6\n",
            "kapre==0.1.3.1\n",
            "Keras==2.1.6\n",
            "Keras-Applications==1.0.8\n",
            "Keras-Preprocessing==1.1.0\n",
            "keras-vis==0.4.1\n",
            "kiwisolver==1.1.0\n",
            "knnimpute==0.1.0\n",
            "librosa==0.6.3\n",
            "lightgbm==2.2.3\n",
            "llvmlite==0.31.0\n",
            "lmdb==0.98\n",
            "lucid==0.3.8\n",
            "LunarCalendar==0.0.9\n",
            "lxml==4.2.6\n",
            "Markdown==3.2.1\n",
            "MarkupSafe==1.1.1\n",
            "matplotlib==3.2.1\n",
            "matplotlib-venn==0.11.5\n",
            "missingno==0.4.2\n",
            "mistune==0.8.4\n",
            "mizani==0.6.0\n",
            "mkl==2019.0\n",
            "mlxtend==0.14.0\n",
            "more-itertools==8.2.0\n",
            "moviepy==0.2.3.5\n",
            "mpmath==1.1.0\n",
            "msgpack==1.0.0\n",
            "multiprocess==0.70.9\n",
            "multitasking==0.0.9\n",
            "murmurhash==1.0.2\n",
            "music21==5.5.0\n",
            "natsort==5.5.0\n",
            "nbconvert==5.6.1\n",
            "nbformat==5.0.4\n",
            "networkx==2.4\n",
            "nibabel==3.0.2\n",
            "nltk==3.2.5\n",
            "notebook==5.2.2\n",
            "np-utils==0.5.12.1\n",
            "numba==0.47.0\n",
            "numexpr==2.7.1\n",
            "numpy==1.18.2\n",
            "nvidia-ml-py3==7.352.0\n",
            "oauth2client==4.1.3\n",
            "oauthlib==3.1.0\n",
            "okgrade==0.4.3\n",
            "opencv-contrib-python==4.1.2.30\n",
            "opencv-python==4.1.2.30\n",
            "openpyxl==2.5.9\n",
            "opt-einsum==3.2.0\n",
            "osqp==0.6.1\n",
            "packaging==20.3\n",
            "palettable==3.3.0\n",
            "pandas==1.0.3\n",
            "pandas-datareader==0.8.1\n",
            "pandas-gbq==0.11.0\n",
            "pandas-profiling==1.4.1\n",
            "pandocfilters==1.4.2\n",
            "parso==0.6.2\n",
            "pathlib==1.0.1\n",
            "patsy==0.5.1\n",
            "pexpect==4.8.0\n",
            "pickleshare==0.7.5\n",
            "Pillow==7.0.0\n",
            "pip-tools==4.5.1\n",
            "plac==1.1.3\n",
            "plotly==4.4.1\n",
            "plotnine==0.6.0\n",
            "pluggy==0.7.1\n",
            "portpicker==1.3.1\n",
            "prefetch-generator==1.0.1\n",
            "preshed==3.0.2\n",
            "prettytable==0.7.2\n",
            "progressbar2==3.38.0\n",
            "prometheus-client==0.7.1\n",
            "promise==2.3\n",
            "prompt-toolkit==1.0.18\n",
            "protobuf==3.10.0\n",
            "psutil==5.4.8\n",
            "psycopg2==2.7.6.1\n",
            "ptvsd==4.3.2\n",
            "ptyprocess==0.6.0\n",
            "py==1.8.1\n",
            "pyarrow==0.14.1\n",
            "pyasn1==0.4.8\n",
            "pyasn1-modules==0.2.8\n",
            "pycocotools==2.0.0\n",
            "pycparser==2.20\n",
            "pydata-google-auth==0.3.0\n",
            "pydot==1.3.0\n",
            "pydot-ng==2.0.0\n",
            "pydotplus==2.0.2\n",
            "PyDrive==1.3.1\n",
            "pyemd==0.5.1\n",
            "pyglet==1.5.0\n",
            "Pygments==2.1.3\n",
            "pygobject==3.26.1\n",
            "pymc3==3.7\n",
            "PyMeeus==0.3.7\n",
            "pymongo==3.10.1\n",
            "pymystem3==0.2.0\n",
            "PyOpenGL==3.1.5\n",
            "pyparsing==2.4.6\n",
            "pyrsistent==0.16.0\n",
            "pysndfile==1.3.8\n",
            "PySocks==1.7.1\n",
            "pystan==2.19.1.1\n",
            "pytest==3.6.4\n",
            "python-apt==1.6.5+ubuntu0.2\n",
            "python-chess==0.23.11\n",
            "python-dateutil==2.8.1\n",
            "python-louvain==0.13\n",
            "python-slugify==4.0.0\n",
            "python-utils==2.4.0\n",
            "pytz==2018.9\n",
            "PyWavelets==1.1.1\n",
            "PyYAML==3.13\n",
            "pyzmq==17.0.0\n",
            "qtconsole==4.7.2\n",
            "QtPy==1.9.0\n",
            "regex==2019.12.20\n",
            "requests==2.21.0\n",
            "requests-oauthlib==1.3.0\n",
            "resampy==0.2.2\n",
            "retrying==1.3.3\n",
            "rpy2==3.2.7\n",
            "rsa==4.0\n",
            "s3fs==0.4.1\n",
            "s3transfer==0.3.3\n",
            "scikit-image==0.16.2\n",
            "scikit-learn==0.22.2.post1\n",
            "scipy==1.4.1\n",
            "screen-resolution-extra==0.0.0\n",
            "scs==2.1.2\n",
            "seaborn==0.10.0\n",
            "Send2Trash==1.5.0\n",
            "setuptools-git==1.2\n",
            "Shapely==1.7.0\n",
            "simplegeneric==0.8.1\n",
            "six==1.12.0\n",
            "sklearn==0.0\n",
            "sklearn-pandas==1.8.0\n",
            "smart-open==1.10.0\n",
            "snowballstemmer==2.0.0\n",
            "sortedcontainers==2.1.0\n",
            "spacy==2.2.4\n",
            "Sphinx==1.8.5\n",
            "sphinxcontrib-websupport==1.2.1\n",
            "SQLAlchemy==1.3.15\n",
            "sqlparse==0.3.1\n",
            "srsly==1.0.2\n",
            "statsmodels==0.10.2\n",
            "sympy==1.1.1\n",
            "tables==3.4.4\n",
            "tabulate==0.8.7\n",
            "tblib==1.6.0\n",
            "tensorboard==1.15.0\n",
            "tensorboard-plugin-wit==1.6.0.post2\n",
            "tensorboardcolab==0.0.22\n",
            "tensorflow==1.15.2\n",
            "tensorflow-addons==0.8.3\n",
            "tensorflow-datasets==2.1.0\n",
            "tensorflow-estimator==1.15.1\n",
            "tensorflow-gcs-config==2.1.8\n",
            "tensorflow-hub==0.7.0\n",
            "tensorflow-metadata==0.21.1\n",
            "tensorflow-privacy==0.2.2\n",
            "tensorflow-probability==0.9.0\n",
            "termcolor==1.1.0\n",
            "terminado==0.8.3\n",
            "testpath==0.4.4\n",
            "text-unidecode==1.3\n",
            "textblob==0.15.3\n",
            "textgenrnn==1.4.1\n",
            "Theano==1.0.4\n",
            "thinc==7.4.0\n",
            "toolz==0.10.0\n",
            "torch==1.4.0\n",
            "torchsummary==1.5.1\n",
            "torchtext==0.3.1\n",
            "torchvision==0.5.0\n",
            "tornado==4.5.3\n",
            "tqdm==4.38.0\n",
            "traitlets==4.3.3\n",
            "tweepy==3.6.0\n",
            "typeguard==2.7.1\n",
            "typing==3.6.6\n",
            "typing-extensions==3.6.6\n",
            "tzlocal==1.5.1\n",
            "umap-learn==0.3.10\n",
            "uritemplate==3.0.1\n",
            "urllib3==1.24.3\n",
            "vega-datasets==0.8.0\n",
            "wasabi==0.6.0\n",
            "wcwidth==0.1.9\n",
            "webencodings==0.5.1\n",
            "Werkzeug==1.0.0\n",
            "widgetsnbextension==3.5.1\n",
            "wordcloud==1.5.0\n",
            "wrapt==1.12.1\n",
            "xarray==0.15.1\n",
            "xgboost==0.90\n",
            "xkit==0.0.0\n",
            "xlrd==1.1.0\n",
            "xlwt==1.3.0\n",
            "yellowbrick==0.9.1\n",
            "zict==2.0.0\n",
            "zipp==3.1.0\n"
          ],
          "name": "stdout"
        }
      ]
    },
    {
      "cell_type": "markdown",
      "metadata": {
        "id": "8MKBkSZAncQd",
        "colab_type": "text"
      },
      "source": [
        "## move to dir mask rcnn"
      ]
    },
    {
      "cell_type": "code",
      "metadata": {
        "id": "nkAOqTLHDzxF",
        "colab_type": "code",
        "outputId": "13019aa5-2f96-414c-a35b-216718afd615",
        "colab": {
          "base_uri": "https://localhost:8080/",
          "height": 51
        }
      },
      "source": [
        "%cd\n",
        "%cd ../content/Mask_RCNN/"
      ],
      "execution_count": 27,
      "outputs": [
        {
          "output_type": "stream",
          "text": [
            "/root\n",
            "/content/Mask_RCNN\n"
          ],
          "name": "stdout"
        }
      ]
    },
    {
      "cell_type": "markdown",
      "metadata": {
        "id": "vl5O4MmvTEih",
        "colab_type": "text"
      },
      "source": [
        "## Initialization"
      ]
    },
    {
      "cell_type": "code",
      "metadata": {
        "id": "xXhawPOUD4_V",
        "colab_type": "code",
        "outputId": "a69c474b-1364-4185-c419-cb852372119f",
        "colab": {
          "base_uri": "https://localhost:8080/",
          "height": 131
        }
      },
      "source": [
        "import os\n",
        "import sys\n",
        "import random\n",
        "import math\n",
        "import re\n",
        "import time\n",
        "import numpy as np\n",
        "import cv2\n",
        "import matplotlib\n",
        "import matplotlib.pyplot as plt\n",
        "import skimage.draw\n",
        "import json\n",
        "# Root directory of the project\n",
        "ROOT_DIR = os.path.abspath(\"../\")\n",
        "\n",
        "# Import Mask RCNN\n",
        "sys.path.append(ROOT_DIR)  # To find local version of the library\n",
        "from mrcnn.config import Config\n",
        "from mrcnn import utils\n",
        "import mrcnn.model as modellib\n",
        "from mrcnn import visualize\n",
        "from mrcnn.model import log\n",
        "\n",
        "%matplotlib inline \n",
        "\n",
        "# Directory to save logs and trained model\n",
        "MODEL_DIR = os.path.join(ROOT_DIR, \"logs\")\n",
        "\n",
        "# Local path to trained weights file\n",
        "COCO_MODEL_PATH = os.path.join(ROOT_DIR, \"mask_rcnn_coco.h5\")\n",
        "# Download COCO trained weights from Releases if needed\n",
        "if not os.path.exists(COCO_MODEL_PATH):\n",
        "    utils.download_trained_weights(COCO_MODEL_PATH)\n"
      ],
      "execution_count": 12,
      "outputs": [
        {
          "output_type": "display_data",
          "data": {
            "text/html": [
              "<p style=\"color: red;\">\n",
              "The default version of TensorFlow in Colab will switch to TensorFlow 2.x on the 27th of March, 2020.<br>\n",
              "We recommend you <a href=\"https://www.tensorflow.org/guide/migrate\" target=\"_blank\">upgrade</a> now\n",
              "or ensure your notebook will continue to use TensorFlow 1.x via the <code>%tensorflow_version 1.x</code> magic:\n",
              "<a href=\"https://colab.research.google.com/notebooks/tensorflow_version.ipynb\" target=\"_blank\">more info</a>.</p>\n"
            ],
            "text/plain": [
              "<IPython.core.display.HTML object>"
            ]
          },
          "metadata": {
            "tags": []
          }
        },
        {
          "output_type": "stream",
          "text": [
            "Using TensorFlow backend.\n"
          ],
          "name": "stderr"
        },
        {
          "output_type": "stream",
          "text": [
            "Downloading pretrained model to /content/mask_rcnn_coco.h5 ...\n",
            "... done downloading pretrained model!\n"
          ],
          "name": "stdout"
        }
      ]
    },
    {
      "cell_type": "code",
      "metadata": {
        "id": "uI_RfwlZvqhD",
        "colab_type": "code",
        "outputId": "787e1754-d5df-429a-c854-1012facbd71a",
        "colab": {
          "base_uri": "https://localhost:8080/",
          "height": 34
        }
      },
      "source": [
        "pwd"
      ],
      "execution_count": 28,
      "outputs": [
        {
          "output_type": "execute_result",
          "data": {
            "text/plain": [
              "'/content/Mask_RCNN'"
            ]
          },
          "metadata": {
            "tags": []
          },
          "execution_count": 28
        }
      ]
    },
    {
      "cell_type": "markdown",
      "metadata": {
        "id": "2d32l0FKP2XZ",
        "colab_type": "text"
      },
      "source": [
        "## Config"
      ]
    },
    {
      "cell_type": "code",
      "metadata": {
        "id": "8eLL245PQRCS",
        "colab_type": "code",
        "outputId": "b1db396c-dbd4-4eec-c5ba-70a27f1400c5",
        "colab": {
          "base_uri": "https://localhost:8080/",
          "height": 921
        }
      },
      "source": [
        "class IstarConfig(Config):\n",
        "    \"\"\"Configuration for training on the toy  dataset.\n",
        "    Derives from the base Config class and overrides some values.\n",
        "    \"\"\"\n",
        "    # Give the configuration a recognizable name\n",
        "    NAME = \"shapes\"\n",
        "\n",
        "    GPU_COUNT = 1\n",
        "    # We use a GPU with 12GB memory, which can fit two images.\n",
        "    # Adjust down if you use a smaller GPU.\n",
        "    IMAGES_PER_GPU = 8\n",
        "\n",
        "    # Number of classes (including background)\n",
        "    NUM_CLASSES = 1 + 5  # Background + 5 istar elements + 2 istar actor types\n",
        "\n",
        "    # Use small images for faster training. Set the limits of the small side\n",
        "    # the large side, and that determines the image shape.\n",
        "    IMAGE_MIN_DIM = 128\n",
        "    IMAGE_MAX_DIM = 128\n",
        "\n",
        "    # Use smaller anchors because our image and objects are small\n",
        "    RPN_ANCHOR_SCALES = (8, 16, 32, 64, 128)  # anchor side in pixels\n",
        "\n",
        "    # Reduce training ROIs per image because the images are small and have\n",
        "    # few objects. Aim to allow ROI sampling to pick 33% positive ROIs.\n",
        "    # TRAIN_ROIS_PER_IMAGE = 32\n",
        "  \n",
        "    # Number of training steps per epoch\n",
        "    STEPS_PER_EPOCH = 100\n",
        "\n",
        "    # Skip detections with < 90% confidence\n",
        "    DETECTION_MIN_CONFIDENCE = 0.9\n",
        "\n",
        "     # use small validation steps since the epoch is small\n",
        "    VALIDATION_STEPS = 5\n",
        "\n",
        "config = IstarConfig()\n",
        "config.display()"
      ],
      "execution_count": 14,
      "outputs": [
        {
          "output_type": "stream",
          "text": [
            "\n",
            "Configurations:\n",
            "BACKBONE                       resnet101\n",
            "BACKBONE_STRIDES               [4, 8, 16, 32, 64]\n",
            "BATCH_SIZE                     8\n",
            "BBOX_STD_DEV                   [0.1 0.1 0.2 0.2]\n",
            "COMPUTE_BACKBONE_SHAPE         None\n",
            "DETECTION_MAX_INSTANCES        100\n",
            "DETECTION_MIN_CONFIDENCE       0.9\n",
            "DETECTION_NMS_THRESHOLD        0.3\n",
            "FPN_CLASSIF_FC_LAYERS_SIZE     1024\n",
            "GPU_COUNT                      1\n",
            "GRADIENT_CLIP_NORM             5.0\n",
            "IMAGES_PER_GPU                 8\n",
            "IMAGE_CHANNEL_COUNT            3\n",
            "IMAGE_MAX_DIM                  128\n",
            "IMAGE_META_SIZE                18\n",
            "IMAGE_MIN_DIM                  128\n",
            "IMAGE_MIN_SCALE                0\n",
            "IMAGE_RESIZE_MODE              square\n",
            "IMAGE_SHAPE                    [128 128   3]\n",
            "LEARNING_MOMENTUM              0.9\n",
            "LEARNING_RATE                  0.001\n",
            "LOSS_WEIGHTS                   {'rpn_class_loss': 1.0, 'rpn_bbox_loss': 1.0, 'mrcnn_class_loss': 1.0, 'mrcnn_bbox_loss': 1.0, 'mrcnn_mask_loss': 1.0}\n",
            "MASK_POOL_SIZE                 14\n",
            "MASK_SHAPE                     [28, 28]\n",
            "MAX_GT_INSTANCES               100\n",
            "MEAN_PIXEL                     [123.7 116.8 103.9]\n",
            "MINI_MASK_SHAPE                (56, 56)\n",
            "NAME                           shapes\n",
            "NUM_CLASSES                    6\n",
            "POOL_SIZE                      7\n",
            "POST_NMS_ROIS_INFERENCE        1000\n",
            "POST_NMS_ROIS_TRAINING         2000\n",
            "PRE_NMS_LIMIT                  6000\n",
            "ROI_POSITIVE_RATIO             0.33\n",
            "RPN_ANCHOR_RATIOS              [0.5, 1, 2]\n",
            "RPN_ANCHOR_SCALES              (8, 16, 32, 64, 128)\n",
            "RPN_ANCHOR_STRIDE              1\n",
            "RPN_BBOX_STD_DEV               [0.1 0.1 0.2 0.2]\n",
            "RPN_NMS_THRESHOLD              0.7\n",
            "RPN_TRAIN_ANCHORS_PER_IMAGE    256\n",
            "STEPS_PER_EPOCH                100\n",
            "TOP_DOWN_PYRAMID_SIZE          256\n",
            "TRAIN_BN                       False\n",
            "TRAIN_ROIS_PER_IMAGE           200\n",
            "USE_MINI_MASK                  True\n",
            "USE_RPN_ROIS                   True\n",
            "VALIDATION_STEPS               5\n",
            "WEIGHT_DECAY                   0.0001\n",
            "\n",
            "\n"
          ],
          "name": "stdout"
        }
      ]
    },
    {
      "cell_type": "markdown",
      "metadata": {
        "id": "aNK2aW07ZA-L",
        "colab_type": "text"
      },
      "source": [
        "## Notebook Preferences"
      ]
    },
    {
      "cell_type": "code",
      "metadata": {
        "id": "_0Jl-78WY_7u",
        "colab_type": "code",
        "colab": {}
      },
      "source": [
        "def get_ax(rows=1, cols=1, size=8):\n",
        "    \"\"\"Return a Matplotlib Axes array to be used in\n",
        "    all visualizations in the notebook. Provide a\n",
        "    central point to control graph sizes.\n",
        "    \n",
        "    Change the default size attribute to control the size\n",
        "    of rendered images\n",
        "    \"\"\"\n",
        "    _, ax = plt.subplots(rows, cols, figsize=(size*cols, size*rows))\n",
        "    return ax"
      ],
      "execution_count": 0,
      "outputs": []
    },
    {
      "cell_type": "markdown",
      "metadata": {
        "id": "_B4-54UGPxrM",
        "colab_type": "text"
      },
      "source": [
        "## Dataset\n",
        "\n",
        "Create a synthetic dataset\n",
        "\n",
        "Extend the Dataset class and add a method to load the shapes dataset, `load_shapes()`, and override the following methods:\n",
        "\n",
        "* load_image()\n",
        "* load_mask()\n",
        "* image_reference()"
      ]
    },
    {
      "cell_type": "code",
      "metadata": {
        "id": "xVtsLra9QyHt",
        "colab_type": "code",
        "colab": {
          "base_uri": "https://localhost:8080/",
          "height": 34
        },
        "outputId": "f2fe3060-5b21-4c50-b1be-d2bcdd1b24a3"
      },
      "source": [
        "class IstarDataset(utils.Dataset):\n",
        "\n",
        "    def load_istar(self, dataset_dir, subset):\n",
        "        \"\"\"Load a subset of the Balloon dataset.\n",
        "        dataset_dir: Root directory of the dataset.\n",
        "        subset: Subset to load: train or val\n",
        "        \"\"\"\n",
        "        # TODO : Add more classes if test success (Goal, Actor, Quality).\n",
        "        self.add_class(\"shapes\", 1, \"Actor\")\n",
        "        self.add_class(\"shapes\", 2, \"Goal\")\n",
        "        self.add_class(\"shapes\", 3, \"Quality\")\n",
        "        self.add_class(\"shapes\", 4, \"Task\")\n",
        "        self.add_class(\"shapes\", 5, \"Resource\")\n",
        "        \n",
        "        # self.add_class(\"type\", 6, \"Role\")\n",
        "        # self.add_class(\"type\", 7, \"Agent\")\n",
        "        # self.add_class(\"type\", 8, \"Unknown\")\n",
        "        \n",
        "\n",
        "\n",
        "        # Train or validation dataset?\n",
        "        assert subset in [\"train\", \"val\"]\n",
        "        dataset_dir = os.path.join(dataset_dir, subset)\n",
        "\n",
        "        # Load annotations\n",
        "        # VGG Image Annotator (up to version 1.6) saves each image in the form:\n",
        "        # { 'filename': '28503151_5b5b7ec140_b.jpg',\n",
        "        #   'regions': {\n",
        "        #       '0': {\n",
        "        #           'region_attributes': {},\n",
        "        #           'shape_attributes': {\n",
        "        #               'all_points_x': [...],\n",
        "        #               'all_points_y': [...],\n",
        "        #               'name': 'polygon'}},\n",
        "        #       ... more regions ...\n",
        "        #   },\n",
        "        #   'size': 100202\n",
        "        # }\n",
        "        # We mostly care about the x and y coordinates of each region\n",
        "        # Note: In VIA 2.0, regions was changed from a dict to a list.\n",
        "        annotationsDict = json.load(open(os.path.join(dataset_dir, \"annotations.json\")))\n",
        "        annotationsArr = list(annotationsDict.values())  # don't need the dict keys\n",
        "\n",
        "        \n",
        "        # The VIA tool saves images in the JSON even if they don't have any\n",
        "        # annotations. Skip unannotated images.\n",
        "        annotations = [a for a in annotationsArr if a['regions']]\n",
        "\n",
        "        # Add images\n",
        "        for a in annotations:\n",
        "            # Get the x, y coordinaets of points of the polygons that make up\n",
        "            # the outline of each object instance. These are stores in the\n",
        "            # shape_attributes (see json format above)\n",
        "            # The if condition is needed to support VIA versions 1.x and 2.x.\n",
        "            polygons = [r['shape_attributes'] for r in a['regions'].values()]\n",
        "            objects = [s['region_attributes'] for s in a['regions'].values()]\n",
        "\n",
        "            ## NOTE : this contains label of the objects\n",
        "            print('a[filename]', a['filename'])\n",
        "            class_ids_name = [int(n['element_name']) for n in objects]\n",
        "            # class_ids_type = [int(n['element_type']) for n in objects]\n",
        "\n",
        "\t\t\t# load_mask() needs the image size to convert polygons to masks.\n",
        "            # Unfortunately, VIA doesn't include it in JSON, so we must read\n",
        "            # the image. This is only managable since the dataset is tiny.\n",
        "            # print(\"multi_numbers=\", multi_numbers)\n",
        "            # num_ids = [n for n in multi_numbers['number'].values()]\n",
        "            # for n in multi_numbers:\n",
        "            \n",
        "            image_path = os.path.join(dataset_dir, a['filename'])\n",
        "            image = skimage.io.imread(image_path, plugin='pil')\n",
        "            height, width = image.shape[:2]\n",
        "\n",
        "            self.add_image(\n",
        "                \"shapes\",\n",
        "                image_id=a['filename'],  # use file name as a unique image id\n",
        "                path=image_path,\n",
        "                width=width, height=height,\n",
        "                polygons=polygons,\n",
        "\t\t\t\tclass_ids=class_ids_name)\n",
        "\n",
        "        #     self.add_image(\n",
        "        #         \"type\",\n",
        "        #         image_id=a['filename'],  # use file name as a unique image id\n",
        "        #         path=image_path,\n",
        "        #         width=width, height=height,\n",
        "        #         polygons=polygons,\n",
        "\t\t\t\t# class_ids=class_ids_type)\n",
        "\n",
        "    def load_mask(self, image_id):\n",
        "        \"\"\"Generate instance masks for an image.\n",
        "       Returns:\n",
        "        masks: A bool array of shape [height, width, instance count] with\n",
        "            one mask per instance.\n",
        "        class_ids: a 1D array of class IDs of the instance masks.\n",
        "        \"\"\"\n",
        "        # If not a balloon dataset image, delegate to parent class.\n",
        "        image_info = self.image_info[image_id]\n",
        "\n",
        "        # print(\"IMAGE INFO :\", image_info)\n",
        "        if image_info[\"source\"] != \"shapes\" :\n",
        "            return super(self.__class__, self).load_mask(image_id)\n",
        "        class_ids = image_info['class_ids']\n",
        "        # Convert polygons to a bitmap mask of shape\n",
        "        # [height, width, instance_count]\n",
        "        info = self.image_info[image_id]\n",
        "        mask = np.zeros([info[\"height\"], info[\"width\"], len(info[\"polygons\"])],\n",
        "                        dtype=np.uint8)\n",
        "        for i, p in enumerate(info[\"polygons\"]):\n",
        "            # Get indexes of pixels inside the polygon and set them to 1\n",
        "            rr, cc = skimage.draw.polygon(p['all_points_y'], p['all_points_x'])\n",
        "            mask[rr, cc, i] = 1\n",
        "\n",
        "        # Return mask, and array of class IDs of each instance. Since we have\n",
        "        # one class ID only, we return an array of 1s\n",
        "        #class_ids=np.array([self.class_names.index(shapes[0])])\n",
        "        # print(\"info['class_ids']=\", info['class_ids'])\n",
        "        class_ids = np.array(class_ids, dtype=np.int32)\n",
        "        return mask, class_ids\n",
        "\n",
        "    def image_reference(self, image_id):\n",
        "        \"\"\"Return the path of the image.\"\"\"\n",
        "        info = self.image_info[image_id]\n",
        "        if info[\"source\"] == \"shapes\":\n",
        "            return info[\"path\"]\n",
        "        else:\n",
        "            super(self.__class__, self).image_reference(image_id)\n"
      ],
      "execution_count": 31,
      "outputs": [
        {
          "output_type": "stream",
          "text": [
            "ERROR! Session/line number was not unique in database. History logging moved to new session 59\n"
          ],
          "name": "stdout"
        }
      ]
    },
    {
      "cell_type": "markdown",
      "metadata": {
        "id": "VQnoOIVCPoB6",
        "colab_type": "text"
      },
      "source": [
        "## Prepare Dataset for Training and Validation"
      ]
    },
    {
      "cell_type": "code",
      "metadata": {
        "id": "FW_6OeHSRosx",
        "colab_type": "code",
        "colab": {
          "base_uri": "https://localhost:8080/",
          "height": 1000
        },
        "outputId": "a32e7e77-f00b-4025-e630-ee5111a3756f"
      },
      "source": [
        "# Training dataset\n",
        "dataset_train = IstarDataset()\n",
        "dataset_train.load_istar(\"../dataset_04_03/\", \"train\")\n",
        "dataset_train.prepare()\n",
        "\n",
        "# Validation dataset\n",
        "dataset_val = IstarDataset()\n",
        "dataset_val.load_istar(\"../dataset_04_03/\", \"val\")\n",
        "dataset_val.prepare()"
      ],
      "execution_count": 34,
      "outputs": [
        {
          "output_type": "stream",
          "text": [
            "a[filename] 20200218_165149.jpg\n",
            "a[filename] 20200218_165219.jpg\n",
            "a[filename] 20200218_165233.jpg\n",
            "a[filename] 20200218_165243.jpg\n",
            "a[filename] 20200218_165321.jpg\n",
            "a[filename] 20200218_165334.jpg\n",
            "a[filename] 20200218_165343.jpg\n",
            "a[filename] 20200218_165400.jpg\n",
            "a[filename] 20200218_165409.jpg\n",
            "a[filename] 20200218_165429.jpg\n",
            "a[filename] 20200218_165438.jpg\n",
            "a[filename] 20200218_165445.jpg\n",
            "a[filename] 20200218_165500.jpg\n",
            "a[filename] 20200218_165507.jpg\n",
            "a[filename] 20200218_165517.jpg\n",
            "a[filename] 20200218_165533.jpg\n",
            "a[filename] 20200218_165540.jpg\n",
            "a[filename] 20200218_165548.jpg\n",
            "a[filename] 20200218_165610.jpg\n",
            "a[filename] 20200218_172849.jpg\n",
            "a[filename] 20200218_175507.jpg\n",
            "a[filename] 20200224_123527.jpg\n",
            "a[filename] 20200224_123800.jpg\n",
            "a[filename] 20200329_013658.jpg\n",
            "a[filename] 20200329_013817.jpg\n",
            "a[filename] 20200329_014428.jpg\n",
            "a[filename] 20200329_014447.jpg\n",
            "a[filename] 20200329_014504.jpg\n",
            "a[filename] 20200329_014524.jpg\n",
            "a[filename] 20200329_014541.jpg\n",
            "a[filename] 20200329_014601.jpg\n",
            "a[filename] 20200329_014623.jpg\n",
            "a[filename] 20200329_014653.jpg\n",
            "a[filename] 20200329_014704.jpg\n",
            "a[filename] 20200329_014714.jpg\n",
            "a[filename] 20200329_014726.jpg\n",
            "a[filename] 20200329_014733.jpg\n",
            "a[filename] 20200329_014752.jpg\n",
            "a[filename] 20200329_014825.jpg\n",
            "a[filename] 20200329_014837.jpg\n",
            "a[filename] 20200329_015038.jpg\n",
            "a[filename] 20200329_015124.jpg\n",
            "a[filename] 20200329_015148.jpg\n",
            "a[filename] 20200329_015259.jpg\n",
            "a[filename] 20200329_015302.jpg\n",
            "a[filename] 20200329_015323.jpg\n",
            "a[filename] 20200329_020106.jpg\n",
            "a[filename] 20200329_0146530.jpg\n",
            "a[filename] 20200331_020939.jpg\n",
            "a[filename] 20200331_021006.jpg\n",
            "a[filename] 20200331_021023.jpg\n",
            "a[filename] 20200331_021047.jpg\n",
            "a[filename] 20200331_021113.jpg\n",
            "a[filename] 20200331_021141.jpg\n",
            "a[filename] 20200331_021156.jpg\n",
            "a[filename] 20200331_021211.jpg\n",
            "a[filename] 20200331_021237.jpg\n",
            "a[filename] 20200331_021257.jpg\n",
            "a[filename] 20200331_021318.jpg\n",
            "a[filename] 20200331_021418.jpg\n",
            "a[filename] 20200331_021431.jpg\n",
            "a[filename] 20200331_021504.jpg\n",
            "a[filename] 20200331_021518.jpg\n",
            "a[filename] 20200331_021529.jpg\n",
            "a[filename] 20200331_021552.jpg\n",
            "a[filename] 20200331_021602.jpg\n",
            "a[filename] 20200331_021614.jpg\n",
            "a[filename] 20200331_021625.jpg\n",
            "a[filename] 20200331_021637.jpg\n",
            "a[filename] 20200331_021659.jpg\n",
            "a[filename] 20200331_021733.jpg\n",
            "a[filename] 20200331_021812.jpg\n",
            "a[filename] 20200331_021826.jpg\n",
            "a[filename] 20200331_021845.jpg\n",
            "a[filename] 20200331_021917.jpg\n",
            "a[filename] 20200331_021930.jpg\n",
            "a[filename] 20200331_021942.jpg\n",
            "a[filename] 20200331_022001.jpg\n",
            "a[filename] 20200331_022012.jpg\n",
            "a[filename] 20200218_165149_grayscale.jpg\n",
            "a[filename] 20200218_165219_grayscale.jpg\n",
            "a[filename] 20200218_165233_grayscale.jpg\n",
            "a[filename] 20200218_165243_grayscale.jpg\n",
            "a[filename] 20200218_165321_grayscale.jpg\n",
            "a[filename] 20200218_165334_grayscale.jpg\n",
            "a[filename] 20200218_165343_grayscale.jpg\n",
            "a[filename] 20200218_165400_grayscale.jpg\n",
            "a[filename] 20200218_165409_grayscale.jpg\n",
            "a[filename] 20200218_165429_grayscale.jpg\n",
            "a[filename] 20200218_165438_grayscale.jpg\n",
            "a[filename] 20200218_165445_grayscale.jpg\n",
            "a[filename] 20200218_165500_grayscale.jpg\n",
            "a[filename] 20200218_165507_grayscale.jpg\n",
            "a[filename] 20200218_165517_grayscale.jpg\n",
            "a[filename] 20200218_165533_grayscale.jpg\n",
            "a[filename] 20200218_165540_grayscale.jpg\n",
            "a[filename] 20200218_165548_grayscale.jpg\n",
            "a[filename] 20200218_165610_grayscale.jpg\n",
            "a[filename] 20200218_172849_grayscale.jpg\n",
            "a[filename] 20200218_175507_grayscale.jpg\n",
            "a[filename] 20200224_123527_grayscale.jpg\n",
            "a[filename] 20200224_123800_grayscale.jpg\n",
            "a[filename] 20200329_013658_grayscale.jpg\n",
            "a[filename] 20200329_013817_grayscale.jpg\n",
            "a[filename] 20200329_014428_grayscale.jpg\n",
            "a[filename] 20200329_014447_grayscale.jpg\n",
            "a[filename] 20200329_014504_grayscale.jpg\n",
            "a[filename] 20200329_014524_grayscale.jpg\n",
            "a[filename] 20200329_014541_grayscale.jpg\n",
            "a[filename] 20200329_014601_grayscale.jpg\n",
            "a[filename] 20200329_014623_grayscale.jpg\n",
            "a[filename] 20200329_014653_grayscale.jpg\n",
            "a[filename] 20200329_014704_grayscale.jpg\n",
            "a[filename] 20200329_014714_grayscale.jpg\n",
            "a[filename] 20200329_014726_grayscale.jpg\n",
            "a[filename] 20200329_014733_grayscale.jpg\n",
            "a[filename] 20200329_014752_grayscale.jpg\n",
            "a[filename] 20200329_014825_grayscale.jpg\n",
            "a[filename] 20200329_014837_grayscale.jpg\n",
            "a[filename] 20200329_015038_grayscale.jpg\n",
            "a[filename] 20200329_015124_grayscale.jpg\n",
            "a[filename] 20200329_015148_grayscale.jpg\n",
            "a[filename] 20200329_015259_grayscale.jpg\n",
            "a[filename] 20200329_015302_grayscale.jpg\n",
            "a[filename] 20200329_015323_grayscale.jpg\n",
            "a[filename] 20200329_020106_grayscale.jpg\n",
            "a[filename] 20200329_0146530_grayscale.jpg\n",
            "a[filename] 20200331_020939_grayscale.jpg\n",
            "a[filename] 20200331_021006_grayscale.jpg\n",
            "a[filename] 20200331_021023_grayscale.jpg\n",
            "a[filename] 20200331_021047_grayscale.jpg\n",
            "a[filename] 20200331_021113_grayscale.jpg\n",
            "a[filename] 20200331_021141_grayscale.jpg\n",
            "a[filename] 20200331_021156_grayscale.jpg\n",
            "a[filename] 20200331_021211_grayscale.jpg\n",
            "a[filename] 20200331_021237_grayscale.jpg\n",
            "a[filename] 20200331_021257_grayscale.jpg\n",
            "a[filename] 20200331_021318_grayscale.jpg\n",
            "a[filename] 20200331_021418_grayscale.jpg\n",
            "a[filename] 20200331_021431_grayscale.jpg\n",
            "a[filename] 20200331_021504_grayscale.jpg\n",
            "a[filename] 20200331_021518_grayscale.jpg\n",
            "a[filename] 20200331_021529_grayscale.jpg\n",
            "a[filename] 20200331_021552_grayscale.jpg\n",
            "a[filename] 20200331_021602_grayscale.jpg\n",
            "a[filename] 20200331_021614_grayscale.jpg\n",
            "a[filename] 20200331_021625_grayscale.jpg\n",
            "a[filename] 20200331_021637_grayscale.jpg\n",
            "a[filename] 20200331_021659_grayscale.jpg\n",
            "a[filename] 20200331_021733_grayscale.jpg\n",
            "a[filename] 20200331_021812_grayscale.jpg\n",
            "a[filename] 20200331_021826_grayscale.jpg\n",
            "a[filename] 20200331_021845_grayscale.jpg\n",
            "a[filename] 20200331_021917_grayscale.jpg\n",
            "a[filename] 20200331_021930_grayscale.jpg\n",
            "a[filename] 20200331_021942_grayscale.jpg\n",
            "a[filename] 20200331_022001_grayscale.jpg\n",
            "a[filename] 20200331_022012_grayscale.jpg\n",
            "a[filename] 20200218_165149_noise.jpg\n",
            "a[filename] 20200218_165219_noise.jpg\n",
            "a[filename] 20200218_165233_noise.jpg\n",
            "a[filename] 20200218_165243_noise.jpg\n",
            "a[filename] 20200218_165321_noise.jpg\n",
            "a[filename] 20200218_165334_noise.jpg\n",
            "a[filename] 20200218_165343_noise.jpg\n",
            "a[filename] 20200218_165400_noise.jpg\n",
            "a[filename] 20200218_165409_noise.jpg\n",
            "a[filename] 20200218_165429_noise.jpg\n",
            "a[filename] 20200218_165438_noise.jpg\n",
            "a[filename] 20200218_165445_noise.jpg\n",
            "a[filename] 20200218_165500_noise.jpg\n",
            "a[filename] 20200218_165507_noise.jpg\n",
            "a[filename] 20200218_165517_noise.jpg\n",
            "a[filename] 20200218_165533_noise.jpg\n",
            "a[filename] 20200218_165540_noise.jpg\n",
            "a[filename] 20200218_165548_noise.jpg\n",
            "a[filename] 20200218_165610_noise.jpg\n",
            "a[filename] 20200218_172849_noise.jpg\n",
            "a[filename] 20200218_175507_noise.jpg\n",
            "a[filename] 20200224_123527_noise.jpg\n",
            "a[filename] 20200224_123800_noise.jpg\n",
            "a[filename] 20200329_013658_noise.jpg\n",
            "a[filename] 20200329_013817_noise.jpg\n",
            "a[filename] 20200329_014428_noise.jpg\n",
            "a[filename] 20200329_014447_noise.jpg\n",
            "a[filename] 20200329_014504_noise.jpg\n",
            "a[filename] 20200329_014524_noise.jpg\n",
            "a[filename] 20200329_014541_noise.jpg\n",
            "a[filename] 20200329_014601_noise.jpg\n",
            "a[filename] 20200329_014623_noise.jpg\n",
            "a[filename] 20200329_014653_noise.jpg\n",
            "a[filename] 20200329_014704_noise.jpg\n",
            "a[filename] 20200329_014714_noise.jpg\n",
            "a[filename] 20200329_014726_noise.jpg\n",
            "a[filename] 20200329_014733_noise.jpg\n",
            "a[filename] 20200329_014752_noise.jpg\n",
            "a[filename] 20200329_014825_noise.jpg\n",
            "a[filename] 20200329_014837_noise.jpg\n",
            "a[filename] 20200329_015038_noise.jpg\n",
            "a[filename] 20200329_015124_noise.jpg\n",
            "a[filename] 20200329_015148_noise.jpg\n",
            "a[filename] 20200329_015259_noise.jpg\n",
            "a[filename] 20200329_015302_noise.jpg\n",
            "a[filename] 20200329_015323_noise.jpg\n",
            "a[filename] 20200329_020106_noise.jpg\n",
            "a[filename] 20200329_0146530_noise.jpg\n",
            "a[filename] 20200331_020939_noise.jpg\n",
            "a[filename] 20200331_021006_noise.jpg\n",
            "a[filename] 20200331_021023_noise.jpg\n",
            "a[filename] 20200331_021047_noise.jpg\n",
            "a[filename] 20200331_021113_noise.jpg\n",
            "a[filename] 20200331_021141_noise.jpg\n",
            "a[filename] 20200331_021156_noise.jpg\n",
            "a[filename] 20200331_021211_noise.jpg\n",
            "a[filename] 20200331_021237_noise.jpg\n",
            "a[filename] 20200331_021257_noise.jpg\n",
            "a[filename] 20200331_021318_noise.jpg\n",
            "a[filename] 20200331_021418_noise.jpg\n",
            "a[filename] 20200331_021431_noise.jpg\n",
            "a[filename] 20200331_021504_noise.jpg\n",
            "a[filename] 20200331_021518_noise.jpg\n",
            "a[filename] 20200331_021529_noise.jpg\n",
            "a[filename] 20200331_021552_noise.jpg\n",
            "a[filename] 20200331_021602_noise.jpg\n",
            "a[filename] 20200331_021614_noise.jpg\n",
            "a[filename] 20200331_021625_noise.jpg\n",
            "a[filename] 20200331_021637_noise.jpg\n",
            "a[filename] 20200331_021659_noise.jpg\n",
            "a[filename] 20200331_021733_noise.jpg\n",
            "a[filename] 20200331_021812_noise.jpg\n",
            "a[filename] 20200331_021826_noise.jpg\n",
            "a[filename] 20200331_021845_noise.jpg\n",
            "a[filename] 20200331_021917_noise.jpg\n",
            "a[filename] 20200331_021930_noise.jpg\n",
            "a[filename] 20200331_021942_noise.jpg\n",
            "a[filename] 20200331_022001_noise.jpg\n",
            "a[filename] 20200331_022012_noise.jpg\n",
            "a[filename] 20200218_165149_grayscale_noise.jpg\n",
            "a[filename] 20200218_165219_grayscale_noise.jpg\n",
            "a[filename] 20200218_165233_grayscale_noise.jpg\n",
            "a[filename] 20200218_165243_grayscale_noise.jpg\n",
            "a[filename] 20200218_165321_grayscale_noise.jpg\n",
            "a[filename] 20200218_165334_grayscale_noise.jpg\n",
            "a[filename] 20200218_165343_grayscale_noise.jpg\n",
            "a[filename] 20200218_165400_grayscale_noise.jpg\n",
            "a[filename] 20200218_165409_grayscale_noise.jpg\n",
            "a[filename] 20200218_165429_grayscale_noise.jpg\n",
            "a[filename] 20200218_165438_grayscale_noise.jpg\n",
            "a[filename] 20200218_165445_grayscale_noise.jpg\n",
            "a[filename] 20200218_165500_grayscale_noise.jpg\n",
            "a[filename] 20200218_165507_grayscale_noise.jpg\n",
            "a[filename] 20200218_165517_grayscale_noise.jpg\n",
            "a[filename] 20200218_165533_grayscale_noise.jpg\n",
            "a[filename] 20200218_165540_grayscale_noise.jpg\n",
            "a[filename] 20200218_165548_grayscale_noise.jpg\n",
            "a[filename] 20200218_165610_grayscale_noise.jpg\n",
            "a[filename] 20200218_172849_grayscale_noise.jpg\n",
            "a[filename] 20200218_175507_grayscale_noise.jpg\n",
            "a[filename] 20200224_123527_grayscale_noise.jpg\n",
            "a[filename] 20200224_123800_grayscale_noise.jpg\n",
            "a[filename] 20200329_013658_grayscale_noise.jpg\n",
            "a[filename] 20200329_013817_grayscale_noise.jpg\n",
            "a[filename] 20200329_014428_grayscale_noise.jpg\n",
            "a[filename] 20200329_014447_grayscale_noise.jpg\n",
            "a[filename] 20200329_014504_grayscale_noise.jpg\n",
            "a[filename] 20200329_014524_grayscale_noise.jpg\n",
            "a[filename] 20200329_014541_grayscale_noise.jpg\n",
            "a[filename] 20200329_014601_grayscale_noise.jpg\n",
            "a[filename] 20200329_014623_grayscale_noise.jpg\n",
            "a[filename] 20200329_014653_grayscale_noise.jpg\n",
            "a[filename] 20200329_014704_grayscale_noise.jpg\n",
            "a[filename] 20200329_014714_grayscale_noise.jpg\n",
            "a[filename] 20200329_014726_grayscale_noise.jpg\n",
            "a[filename] 20200329_014733_grayscale_noise.jpg\n",
            "a[filename] 20200329_014752_grayscale_noise.jpg\n",
            "a[filename] 20200329_014825_grayscale_noise.jpg\n",
            "a[filename] 20200329_014837_grayscale_noise.jpg\n",
            "a[filename] 20200329_015038_grayscale_noise.jpg\n",
            "a[filename] 20200329_015124_grayscale_noise.jpg\n",
            "a[filename] 20200329_015148_grayscale_noise.jpg\n",
            "a[filename] 20200329_015259_grayscale_noise.jpg\n",
            "a[filename] 20200329_015302_grayscale_noise.jpg\n",
            "a[filename] 20200329_015323_grayscale_noise.jpg\n",
            "a[filename] 20200329_020106_grayscale_noise.jpg\n",
            "a[filename] 20200329_0146530_grayscale_noise.jpg\n",
            "a[filename] 20200331_020939_grayscale_noise.jpg\n",
            "a[filename] 20200331_021006_grayscale_noise.jpg\n",
            "a[filename] 20200331_021023_grayscale_noise.jpg\n",
            "a[filename] 20200331_021047_grayscale_noise.jpg\n",
            "a[filename] 20200331_021113_grayscale_noise.jpg\n",
            "a[filename] 20200331_021141_grayscale_noise.jpg\n",
            "a[filename] 20200331_021156_grayscale_noise.jpg\n",
            "a[filename] 20200331_021211_grayscale_noise.jpg\n",
            "a[filename] 20200331_021237_grayscale_noise.jpg\n",
            "a[filename] 20200331_021257_grayscale_noise.jpg\n",
            "a[filename] 20200331_021318_grayscale_noise.jpg\n",
            "a[filename] 20200331_021418_grayscale_noise.jpg\n",
            "a[filename] 20200331_021431_grayscale_noise.jpg\n",
            "a[filename] 20200331_021504_grayscale_noise.jpg\n",
            "a[filename] 20200331_021518_grayscale_noise.jpg\n",
            "a[filename] 20200331_021529_grayscale_noise.jpg\n",
            "a[filename] 20200331_021552_grayscale_noise.jpg\n",
            "a[filename] 20200331_021602_grayscale_noise.jpg\n",
            "a[filename] 20200331_021614_grayscale_noise.jpg\n",
            "a[filename] 20200331_021625_grayscale_noise.jpg\n",
            "a[filename] 20200331_021637_grayscale_noise.jpg\n",
            "a[filename] 20200331_021659_grayscale_noise.jpg\n",
            "a[filename] 20200331_021733_grayscale_noise.jpg\n",
            "a[filename] 20200331_021812_grayscale_noise.jpg\n",
            "a[filename] 20200331_021826_grayscale_noise.jpg\n",
            "a[filename] 20200331_021845_grayscale_noise.jpg\n",
            "a[filename] 20200331_021917_grayscale_noise.jpg\n",
            "a[filename] 20200331_021930_grayscale_noise.jpg\n",
            "a[filename] 20200331_021942_grayscale_noise.jpg\n",
            "a[filename] 20200331_022001_grayscale_noise.jpg\n",
            "a[filename] 20200331_022012_grayscale_noise.jpg\n",
            "a[filename] 20200218_165149_noise_test.jpg\n",
            "a[filename] 20200218_165219_noise_test.jpg\n",
            "a[filename] 20200218_165233_noise_test.jpg\n",
            "a[filename] 20200218_165243_noise_test.jpg\n",
            "a[filename] 20200218_165321_noise_test.jpg\n",
            "a[filename] 20200218_165334_noise_test.jpg\n",
            "a[filename] 20200218_165343_noise_test.jpg\n",
            "a[filename] 20200218_165400_noise_test.jpg\n",
            "a[filename] 20200218_165409_noise_test.jpg\n",
            "a[filename] 20200218_165429_noise_test.jpg\n",
            "a[filename] 20200218_165438_noise_test.jpg\n",
            "a[filename] 20200218_165445_noise_test.jpg\n",
            "a[filename] 20200218_165500_noise_test.jpg\n",
            "a[filename] 20200218_165507_noise_test.jpg\n",
            "a[filename] 20200218_165517_noise_test.jpg\n",
            "a[filename] 20200218_165533_noise_test.jpg\n",
            "a[filename] 20200218_165540_noise_test.jpg\n",
            "a[filename] 20200218_165548_noise_test.jpg\n",
            "a[filename] 20200218_165610_noise_test.jpg\n",
            "a[filename] 20200218_172849_noise_test.jpg\n",
            "a[filename] 20200218_175507_noise_test.jpg\n",
            "a[filename] 20200224_123527_noise_test.jpg\n",
            "a[filename] 20200224_123800_noise_test.jpg\n"
          ],
          "name": "stdout"
        }
      ]
    },
    {
      "cell_type": "markdown",
      "metadata": {
        "id": "FKFRkFlMPf5p",
        "colab_type": "text"
      },
      "source": [
        "## Load and display random samples"
      ]
    },
    {
      "cell_type": "code",
      "metadata": {
        "id": "YBRtiK5Jm9Ts",
        "colab_type": "code",
        "outputId": "f4a5b853-554a-4ec9-9bb6-2f948880b4d6",
        "colab": {
          "base_uri": "https://localhost:8080/",
          "height": 551
        }
      },
      "source": [
        "image_ids = np.random.choice(dataset_train.image_ids, 4)\n",
        "for image_id in image_ids:\n",
        "    image = dataset_train.load_image(image_id)\n",
        "    mask, class_ids = dataset_train.load_mask(image_id)\n",
        "    # print(\"dataset['class_names']\", dataset_train.class_names)\n",
        "    visualize.display_top_masks(image, mask, class_ids, dataset_train.class_names)"
      ],
      "execution_count": 35,
      "outputs": [
        {
          "output_type": "display_data",
          "data": {
            "image/png": "[encoded data removed]",
            "text/plain": [
              "<Figure size 1008x360 with 5 Axes>"
            ]
          },
          "metadata": {
            "tags": []
          }
        },
        {
          "output_type": "display_data",
          "data": {
            "image/png": "[encoded data removed]",
            "text/plain": [
              "<Figure size 1008x360 with 5 Axes>"
            ]
          },
          "metadata": {
            "tags": []
          }
        },
        {
          "output_type": "display_data",
          "data": {
            "image/png": "[encoded data removed]",
            "text/plain": [
              "<Figure size 1008x360 with 5 Axes>"
            ]
          },
          "metadata": {
            "tags": []
          }
        },
        {
          "output_type": "display_data",
          "data": {
            "image/png": "[encoded data removed]",
            "text/plain": [
              "<Figure size 1008x360 with 5 Axes>"
            ]
          },
          "metadata": {
            "tags": []
          }
        }
      ]
    },
    {
      "cell_type": "markdown",
      "metadata": {
        "id": "Mn7XcwwdPYA8",
        "colab_type": "text"
      },
      "source": [
        "## Create Model"
      ]
    },
    {
      "cell_type": "code",
      "metadata": {
        "id": "3sJGBvMqKYHu",
        "colab_type": "code",
        "outputId": "a100389b-f7d9-4399-bc8d-8004ccff57f5",
        "colab": {
          "base_uri": "https://localhost:8080/",
          "height": 377
        }
      },
      "source": [
        "# Create model in training mode\n",
        "model = modellib.MaskRCNN(mode=\"training\", config=config,\n",
        "                          model_dir=MODEL_DIR)"
      ],
      "execution_count": 36,
      "outputs": [
        {
          "output_type": "stream",
          "text": [
            "WARNING:tensorflow:From /usr/local/lib/python3.6/dist-packages/keras/backend/tensorflow_backend.py:508: The name tf.placeholder is deprecated. Please use tf.compat.v1.placeholder instead.\n",
            "\n",
            "WARNING:tensorflow:From /usr/local/lib/python3.6/dist-packages/keras/backend/tensorflow_backend.py:68: The name tf.get_default_graph is deprecated. Please use tf.compat.v1.get_default_graph instead.\n",
            "\n",
            "WARNING:tensorflow:From /usr/local/lib/python3.6/dist-packages/keras/backend/tensorflow_backend.py:3837: The name tf.random_uniform is deprecated. Please use tf.random.uniform instead.\n",
            "\n",
            "WARNING:tensorflow:From /usr/local/lib/python3.6/dist-packages/keras/backend/tensorflow_backend.py:3661: The name tf.nn.max_pool is deprecated. Please use tf.nn.max_pool2d instead.\n",
            "\n",
            "WARNING:tensorflow:From /usr/local/lib/python3.6/dist-packages/keras/backend/tensorflow_backend.py:1944: The name tf.image.resize_nearest_neighbor is deprecated. Please use tf.compat.v1.image.resize_nearest_neighbor instead.\n",
            "\n",
            "WARNING:tensorflow:From /usr/local/lib/python3.6/dist-packages/tensorflow_core/python/ops/array_ops.py:1475: where (from tensorflow.python.ops.array_ops) is deprecated and will be removed in a future version.\n",
            "Instructions for updating:\n",
            "Use tf.where in 2.0, which has the same broadcast rule as np.where\n",
            "WARNING:tensorflow:From /content/Mask_RCNN/mrcnn/model.py:553: The name tf.random_shuffle is deprecated. Please use tf.random.shuffle instead.\n",
            "\n",
            "WARNING:tensorflow:From /content/Mask_RCNN/mrcnn/utils.py:202: The name tf.log is deprecated. Please use tf.math.log instead.\n",
            "\n",
            "WARNING:tensorflow:From /content/Mask_RCNN/mrcnn/model.py:600: calling crop_and_resize_v1 (from tensorflow.python.ops.image_ops_impl) with box_ind is deprecated and will be removed in a future version.\n",
            "Instructions for updating:\n",
            "box_ind is deprecated, use box_indices instead\n"
          ],
          "name": "stdout"
        }
      ]
    },
    {
      "cell_type": "code",
      "metadata": {
        "id": "chy3rgfroxJB",
        "colab_type": "code",
        "colab": {}
      },
      "source": [
        "%pip freeze"
      ],
      "execution_count": 0,
      "outputs": []
    },
    {
      "cell_type": "code",
      "metadata": {
        "id": "Gb7O4ePWRTzy",
        "colab_type": "code",
        "outputId": "99477b0e-2b9a-4d3e-ab0d-12b243c81782",
        "colab": {
          "base_uri": "https://localhost:8080/",
          "height": 241
        }
      },
      "source": [
        "# Which weights to start with?\n",
        "init_with = \"coco\"  # imagenet, coco, or last\n",
        "\n",
        "if init_with == \"imagenet\":\n",
        "    model.load_weights(model.get_imagenet_weights(), by_name=True)\n",
        "elif init_with == \"coco\":\n",
        "    # Load weights trained on MS COCO, but skip layers that\n",
        "    # are different due to the different number of classes\n",
        "    # See README for instructions to download the COCO weights\n",
        "    model.load_weights(COCO_MODEL_PATH, by_name=True,\n",
        "                       exclude=[\"mrcnn_class_logits\", \"mrcnn_bbox_fc\", \n",
        "                                \"mrcnn_bbox\", \"mrcnn_mask\"])\n",
        "elif init_with == \"last\":\n",
        "    # Load the last model you trained and continue training\n",
        "    model.load_weights(model.find_last(), by_name=True)"
      ],
      "execution_count": 37,
      "outputs": [
        {
          "output_type": "stream",
          "text": [
            "WARNING:tensorflow:From /usr/local/lib/python3.6/dist-packages/keras/backend/tensorflow_backend.py:168: The name tf.get_default_session is deprecated. Please use tf.compat.v1.get_default_session instead.\n",
            "\n",
            "WARNING:tensorflow:From /usr/local/lib/python3.6/dist-packages/keras/backend/tensorflow_backend.py:175: The name tf.ConfigProto is deprecated. Please use tf.compat.v1.ConfigProto instead.\n",
            "\n",
            "WARNING:tensorflow:From /usr/local/lib/python3.6/dist-packages/keras/backend/tensorflow_backend.py:180: The name tf.Session is deprecated. Please use tf.compat.v1.Session instead.\n",
            "\n",
            "WARNING:tensorflow:From /usr/local/lib/python3.6/dist-packages/keras/backend/tensorflow_backend.py:184: The name tf.global_variables is deprecated. Please use tf.compat.v1.global_variables instead.\n",
            "\n",
            "WARNING:tensorflow:From /usr/local/lib/python3.6/dist-packages/keras/backend/tensorflow_backend.py:193: The name tf.is_variable_initialized is deprecated. Please use tf.compat.v1.is_variable_initialized instead.\n",
            "\n",
            "WARNING:tensorflow:From /usr/local/lib/python3.6/dist-packages/keras/backend/tensorflow_backend.py:200: The name tf.variables_initializer is deprecated. Please use tf.compat.v1.variables_initializer instead.\n",
            "\n"
          ],
          "name": "stdout"
        }
      ]
    },
    {
      "cell_type": "markdown",
      "metadata": {
        "id": "F1-ApVhWRG-C",
        "colab_type": "text"
      },
      "source": [
        "## Training\n",
        "\n",
        "Train in two stages:\n",
        "1. Only the heads. Here we're freezing all the backbone layers and training only the randomly initialized layers (i.e. the ones that we didn't use pre-trained weights from MS COCO). To train only the head layers, pass `layers='heads'` to the `train()` function.\n",
        "\n",
        "2. Fine-tune all layers. For this simple example it's not necessary, but we're including it to show the process. Simply pass `layers=\"all` to train all layers."
      ]
    },
    {
      "cell_type": "code",
      "metadata": {
        "id": "Wc6Hw37kK1GD",
        "colab_type": "code",
        "outputId": "a324174b-aa3c-4775-d6e5-5e304ee2268a",
        "colab": {
          "base_uri": "https://localhost:8080/",
          "height": 1000
        }
      },
      "source": [
        "# Train the head branches\n",
        "# Passing layers=\"heads\" freezes all layers except the head\n",
        "# layers. You can also pass a regular expression to select\n",
        "# which layers to train by name pattern.\n",
        "# TODO :  find out difference between train only on heads layer and all layers\n",
        "model.train(dataset_train, dataset_val, learning_rate=config.LEARNING_RATE, \n",
        "            epochs=1, \n",
        "            layers='heads')"
      ],
      "execution_count": 38,
      "outputs": [
        {
          "output_type": "stream",
          "text": [
            "\n",
            "Starting at epoch 0. LR=0.001\n",
            "\n",
            "Checkpoint Path: /content/logs/shapes20200402T2140/mask_rcnn_shapes_{epoch:04d}.h5\n",
            "Selecting layers to train\n",
            "fpn_c5p5               (Conv2D)\n",
            "fpn_c4p4               (Conv2D)\n",
            "fpn_c3p3               (Conv2D)\n",
            "fpn_c2p2               (Conv2D)\n",
            "fpn_p5                 (Conv2D)\n",
            "fpn_p2                 (Conv2D)\n",
            "fpn_p3                 (Conv2D)\n",
            "fpn_p4                 (Conv2D)\n",
            "In model:  rpn_model\n",
            "    rpn_conv_shared        (Conv2D)\n",
            "    rpn_class_raw          (Conv2D)\n",
            "    rpn_bbox_pred          (Conv2D)\n",
            "mrcnn_mask_conv1       (TimeDistributed)\n",
            "mrcnn_mask_bn1         (TimeDistributed)\n",
            "mrcnn_mask_conv2       (TimeDistributed)\n",
            "mrcnn_mask_bn2         (TimeDistributed)\n",
            "mrcnn_class_conv1      (TimeDistributed)\n",
            "mrcnn_class_bn1        (TimeDistributed)\n",
            "mrcnn_mask_conv3       (TimeDistributed)\n",
            "mrcnn_mask_bn3         (TimeDistributed)\n",
            "mrcnn_class_conv2      (TimeDistributed)\n",
            "mrcnn_class_bn2        (TimeDistributed)\n",
            "mrcnn_mask_conv4       (TimeDistributed)\n",
            "mrcnn_mask_bn4         (TimeDistributed)\n",
            "mrcnn_bbox_fc          (TimeDistributed)\n",
            "mrcnn_mask_deconv      (TimeDistributed)\n",
            "mrcnn_class_logits     (TimeDistributed)\n",
            "mrcnn_mask             (TimeDistributed)\n",
            "WARNING:tensorflow:From /usr/local/lib/python3.6/dist-packages/keras/optimizers.py:757: The name tf.train.Optimizer is deprecated. Please use tf.compat.v1.train.Optimizer instead.\n",
            "\n"
          ],
          "name": "stdout"
        },
        {
          "output_type": "stream",
          "text": [
            "/usr/local/lib/python3.6/dist-packages/tensorflow_core/python/framework/indexed_slices.py:424: UserWarning: Converting sparse IndexedSlices to a dense Tensor of unknown shape. This may consume a large amount of memory.\n",
            "  \"Converting sparse IndexedSlices to a dense Tensor of unknown shape. \"\n",
            "/usr/local/lib/python3.6/dist-packages/tensorflow_core/python/framework/indexed_slices.py:424: UserWarning: Converting sparse IndexedSlices to a dense Tensor of unknown shape. This may consume a large amount of memory.\n",
            "  \"Converting sparse IndexedSlices to a dense Tensor of unknown shape. \"\n",
            "/usr/local/lib/python3.6/dist-packages/tensorflow_core/python/framework/indexed_slices.py:424: UserWarning: Converting sparse IndexedSlices to a dense Tensor of unknown shape. This may consume a large amount of memory.\n",
            "  \"Converting sparse IndexedSlices to a dense Tensor of unknown shape. \"\n"
          ],
          "name": "stderr"
        },
        {
          "output_type": "stream",
          "text": [
            "WARNING:tensorflow:From /usr/local/lib/python3.6/dist-packages/keras/backend/tensorflow_backend.py:977: The name tf.assign_add is deprecated. Please use tf.compat.v1.assign_add instead.\n",
            "\n",
            "WARNING:tensorflow:From /usr/local/lib/python3.6/dist-packages/keras/backend/tensorflow_backend.py:964: The name tf.assign is deprecated. Please use tf.compat.v1.assign instead.\n",
            "\n"
          ],
          "name": "stdout"
        },
        {
          "output_type": "stream",
          "text": [
            "/usr/local/lib/python3.6/dist-packages/keras/engine/training.py:2087: UserWarning: Using a generator with `use_multiprocessing=True` and multiple workers may duplicate your data. Please consider using the`keras.utils.Sequence class.\n",
            "  UserWarning('Using a generator with `use_multiprocessing=True`'\n"
          ],
          "name": "stderr"
        },
        {
          "output_type": "stream",
          "text": [
            "WARNING:tensorflow:From /usr/local/lib/python3.6/dist-packages/keras/callbacks.py:783: The name tf.summary.merge_all is deprecated. Please use tf.compat.v1.summary.merge_all instead.\n",
            "\n",
            "WARNING:tensorflow:From /usr/local/lib/python3.6/dist-packages/keras/callbacks.py:786: The name tf.summary.FileWriter is deprecated. Please use tf.compat.v1.summary.FileWriter instead.\n",
            "\n",
            "Epoch 1/1\n"
          ],
          "name": "stdout"
        },
        {
          "output_type": "stream",
          "text": [
            "ERROR:root:Error processing image {'id': '20200329_0146530_grayscale.jpg', 'source': 'shapes', 'path': '../dataset_04_03/train/20200329_0146530_grayscale.jpg', 'width': 4032, 'height': 3024, 'polygons': [{'name': 'circle', 'cx': 1181, 'cy': 972, 'r': 174.761}, {'name': 'circle', 'cx': 1551, 'cy': 1648, 'r': 183}, {'name': 'circle', 'cx': 2540, 'cy': 1099, 'r': 169}, {'name': 'circle', 'cx': 2919, 'cy': 1868, 'r': 189}], 'class_ids': [1, 1, 1, 1]}\n",
            "Traceback (most recent call last):\n",
            "  File \"/content/Mask_RCNN/mrcnn/model.py\", line 1709, in data_generator\n",
            "    use_mini_mask=config.USE_MINI_MASK)\n",
            "  File \"/content/Mask_RCNN/mrcnn/model.py\", line 1212, in load_image_gt\n",
            "    mask, class_ids = dataset.load_mask(image_id)\n",
            "  File \"<ipython-input-31-32d008ae78cf>\", line 111, in load_mask\n",
            "    rr, cc = skimage.draw.polygon(p['all_points_y'], p['all_points_x'])\n",
            "KeyError: 'all_points_y'\n",
            "ERROR:root:Error processing image {'id': '20200218_165233_grayscale.jpg', 'source': 'shapes', 'path': '../dataset_04_03/train/20200218_165233_grayscale.jpg', 'width': 3024, 'height': 4032, 'polygons': [{'name': 'polyline', 'all_points_x': [899, 1051, 1211, 1321, 1317, 1227, 1083, 960, 833, 808, 899], 'all_points_y': [1559, 1481, 1518, 1642, 1797, 1921, 1978, 1970, 1871, 1695, 1572]}, {'name': 'polyline', 'all_points_x': [1810, 1814, 1916, 2093, 2228, 2274, 2224, 2101, 1949, 1822, 1756, 1810], 'all_points_y': [1736, 1724, 1637, 1629, 1728, 1892, 2031, 2122, 2122, 2023, 1900, 1736]}, {'name': 'polyline', 'all_points_x': [2906, 3057, 3127, 3156, 3123, 3025, 2910, 2782, 2672, 2655, 2762, 2897], 'all_points_y': [1916, 1994, 2093, 2212, 2339, 2429, 2442, 2405, 2286, 2081, 1945, 1912]}, {'name': 'polyline', 'all_points_x': [2803, 3164, 3312, 3254, 2869, 2700, 2807], 'all_points_y': [1133, 1108, 1235, 1404, 1428, 1276, 1124]}, {'name': 'polyline', 'all_points_x': [1728, 2048, 2130, 2068, 2035, 1769, 1670, 1736], 'all_points_y': [903, 886, 993, 1129, 1165, 1174, 1051, 899]}, {'name': 'polyline', 'all_points_x': [2618, 2733, 2889, 2979, 2988, 2881, 2733, 2618, 2540, 2557, 2622], 'all_points_y': [538, 492, 533, 661, 792, 891, 903, 837, 722, 624, 538]}], 'class_ids': [1, 1, 1, 4, 4, 1]}\n",
            "Traceback (most recent call last):\n",
            "  File \"/content/Mask_RCNN/mrcnn/model.py\", line 1709, in data_generator\n",
            "    use_mini_mask=config.USE_MINI_MASK)\n",
            "  File \"/content/Mask_RCNN/mrcnn/model.py\", line 1212, in load_image_gt\n",
            "    mask, class_ids = dataset.load_mask(image_id)\n",
            "  File \"<ipython-input-31-32d008ae78cf>\", line 112, in load_mask\n",
            "    mask[rr, cc, i] = 1\n",
            "IndexError: index 3024 is out of bounds for axis 1 with size 3024\n",
            "ERROR:root:Error processing image {'id': '20200331_020939_noise.jpg', 'source': 'shapes', 'path': '../dataset_04_03/train/20200331_020939_noise.jpg', 'width': 3024, 'height': 4032, 'polygons': [{'name': 'polyline', 'all_points_x': [1142, 1120, 1112, 1112, 1133, 1174, 1228, 1256, 1273, 1282, 1282, 1273, 1246, 1209, 1179, 1153, 1138], 'all_points_y': [1554, 1517, 1481, 1423, 1356, 1338, 1356, 1384, 1416, 1450, 1487, 1519, 1556, 1574, 1573, 1561, 1550]}, {'name': 'polyline', 'all_points_x': [1457, 1442, 1472, 1573, 1606, 1554, 1461, 1457], 'all_points_y': [2150, 2035, 1990, 2027, 2187, 2236, 2169, 2154]}, {'name': 'circle', 'cx': 1785, 'cy': 2426, 'r': 94}, {'name': 'circle', 'cx': 1915, 'cy': 473, 'r': 93.458}, {'name': 'polyline', 'all_points_x': [1450, 1464, 1606, 1617, 1450], 'all_points_y': [794, 317, 313, 812, 801]}, {'name': 'polyline', 'all_points_x': [1796, 1807, 1941, 1927, 1796], 'all_points_y': [1546, 1260, 1267, 1543, 1546]}, {'name': 'polyline', 'all_points_x': [1968, 1968, 2064, 2076, 1968], 'all_points_y': [1539, 1222, 1211, 1528, 1539]}, {'name': 'polyline', 'all_points_x': [2236, 2262, 2359, 2448, 2433, 2336, 2236], 'all_points_y': [2176, 1878, 1830, 1882, 2135, 2225, 2184]}, {'name': 'polyline', 'all_points_x': [2556, 2620, 2746, 2694, 2560], 'all_points_y': [2146, 1852, 1859, 2158, 2150]}, {'name': 'circle', 'cx': 2560, 'cy': 1367, 'r': 89.744}, {'name': 'polyline', 'all_points_x': [2310, 2284, 2389, 2493, 2512, 2433, 2310], 'all_points_y': [928, 604, 522, 607, 898, 969, 932]}, {'name': 'polyline', 'all_points_x': [2683, 2590, 2478, 2564, 2683], 'all_points_y': [566, 369, 432, 648, 570]}], 'class_ids': [1, 4, 1, 1, 5, 5, 5, 4, 5, 1, 4, 5]}\n",
            "Traceback (most recent call last):\n",
            "  File \"/content/Mask_RCNN/mrcnn/model.py\", line 1709, in data_generator\n",
            "    use_mini_mask=config.USE_MINI_MASK)\n",
            "  File \"/content/Mask_RCNN/mrcnn/model.py\", line 1212, in load_image_gt\n",
            "    mask, class_ids = dataset.load_mask(image_id)\n",
            "  File \"<ipython-input-31-32d008ae78cf>\", line 111, in load_mask\n",
            "    rr, cc = skimage.draw.polygon(p['all_points_y'], p['all_points_x'])\n",
            "KeyError: 'all_points_y'\n",
            "ERROR:root:Error processing image {'id': '20200331_020939_grayscale.jpg', 'source': 'shapes', 'path': '../dataset_04_03/train/20200331_020939_grayscale.jpg', 'width': 3024, 'height': 4032, 'polygons': [{'name': 'polyline', 'all_points_x': [1142, 1120, 1112, 1112, 1133, 1174, 1228, 1256, 1273, 1282, 1282, 1273, 1246, 1209, 1179, 1153, 1138], 'all_points_y': [1554, 1517, 1481, 1423, 1356, 1338, 1356, 1384, 1416, 1450, 1487, 1519, 1556, 1574, 1573, 1561, 1550]}, {'name': 'polyline', 'all_points_x': [1457, 1442, 1472, 1573, 1606, 1554, 1461, 1457], 'all_points_y': [2150, 2035, 1990, 2027, 2187, 2236, 2169, 2154]}, {'name': 'circle', 'cx': 1785, 'cy': 2426, 'r': 94}, {'name': 'circle', 'cx': 1915, 'cy': 473, 'r': 93.458}, {'name': 'polyline', 'all_points_x': [1450, 1464, 1606, 1617, 1450], 'all_points_y': [794, 317, 313, 812, 801]}, {'name': 'polyline', 'all_points_x': [1796, 1807, 1941, 1927, 1796], 'all_points_y': [1546, 1260, 1267, 1543, 1546]}, {'name': 'polyline', 'all_points_x': [1968, 1968, 2064, 2076, 1968], 'all_points_y': [1539, 1222, 1211, 1528, 1539]}, {'name': 'polyline', 'all_points_x': [2236, 2262, 2359, 2448, 2433, 2336, 2236], 'all_points_y': [2176, 1878, 1830, 1882, 2135, 2225, 2184]}, {'name': 'polyline', 'all_points_x': [2556, 2620, 2746, 2694, 2560], 'all_points_y': [2146, 1852, 1859, 2158, 2150]}, {'name': 'circle', 'cx': 2560, 'cy': 1367, 'r': 89.744}, {'name': 'polyline', 'all_points_x': [2310, 2284, 2389, 2493, 2512, 2433, 2310], 'all_points_y': [928, 604, 522, 607, 898, 969, 932]}, {'name': 'polyline', 'all_points_x': [2683, 2590, 2478, 2564, 2683], 'all_points_y': [566, 369, 432, 648, 570]}], 'class_ids': [1, 4, 1, 1, 5, 5, 5, 4, 5, 1, 4, 5]}\n",
            "Traceback (most recent call last):\n",
            "  File \"/content/Mask_RCNN/mrcnn/model.py\", line 1709, in data_generator\n",
            "    use_mini_mask=config.USE_MINI_MASK)\n",
            "  File \"/content/Mask_RCNN/mrcnn/model.py\", line 1212, in load_image_gt\n",
            "    mask, class_ids = dataset.load_mask(image_id)\n",
            "  File \"<ipython-input-31-32d008ae78cf>\", line 111, in load_mask\n",
            "    rr, cc = skimage.draw.polygon(p['all_points_y'], p['all_points_x'])\n",
            "KeyError: 'all_points_y'\n",
            "ERROR:root:Error processing image {'id': '20200218_165219_grayscale.jpg', 'source': 'shapes', 'path': '../dataset_04_03/train/20200218_165219_grayscale.jpg', 'width': 3024, 'height': 4032, 'polygons': [{'name': 'polyline', 'all_points_x': [911, 1096, 1223, 1227, 1174, 1079, 964, 833, 751, 751, 817, 907], 'all_points_y': [538, 542, 657, 808, 907, 969, 985, 944, 821, 681, 599, 538]}, {'name': 'polyline', 'all_points_x': [1005, 1317, 1445, 1379, 1034, 911, 1001], 'all_points_y': [1260, 1231, 1321, 1461, 1510, 1412, 1268]}, {'name': 'polyline', 'all_points_x': [2048, 2331, 2446, 2380, 2089, 1978, 2052], 'all_points_y': [1178, 1133, 1227, 1358, 1412, 1321, 1174]}, {'name': 'polyline', 'all_points_x': [3066, 3242, 3418, 3455, 3414, 3316, 3160, 3033, 2971, 2963, 3074], 'all_points_y': [1198, 1170, 1293, 1457, 1580, 1646, 1650, 1564, 1457, 1305, 1198]}, {'name': 'polyline', 'all_points_x': [1674, 1810, 1949, 1982, 1941, 1822, 1707, 1584, 1477, 1461, 1539, 1674], 'all_points_y': [1761, 1765, 1871, 2027, 2171, 2269, 2290, 2261, 2138, 1994, 1810, 1761]}, {'name': 'polyline', 'all_points_x': [2544, 2873, 3025, 2938, 2610, 2442, 2553], 'all_points_y': [2109, 2056, 2183, 2388, 2429, 2294, 2109]}], 'class_ids': [1, 4, 4, 1, 1, 4]}\n",
            "Traceback (most recent call last):\n",
            "  File \"/content/Mask_RCNN/mrcnn/model.py\", line 1709, in data_generator\n",
            "    use_mini_mask=config.USE_MINI_MASK)\n",
            "  File \"/content/Mask_RCNN/mrcnn/model.py\", line 1212, in load_image_gt\n",
            "    mask, class_ids = dataset.load_mask(image_id)\n",
            "  File \"<ipython-input-31-32d008ae78cf>\", line 112, in load_mask\n",
            "    mask[rr, cc, i] = 1\n",
            "IndexError: index 3236 is out of bounds for axis 1 with size 3024\n",
            "ERROR:root:Error processing image {'id': '20200329_015323_grayscale_noise.jpg', 'source': 'shapes', 'path': '../dataset_04_03/train/20200329_015323_grayscale_noise.jpg', 'width': 4032, 'height': 3024, 'polygons': [{'name': 'circle', 'cx': 500, 'cy': 609, 'r': 179.643}, {'name': 'circle', 'cx': 922, 'cy': 1254, 'r': 192.043}, {'name': 'circle', 'cx': 3344, 'cy': 1223, 'r': 184.83}, {'name': 'circle', 'cx': 3407, 'cy': 2127, 'r': 188.611}, {'name': 'polyline', 'all_points_x': [1750, 1745, 1778, 1829, 1878, 1947, 1992, 2048, 2089, 2155, 2196, 2255, 2313, 2352, 2372, 2362, 2324, 2288, 2245, 2206, 2163, 2117, 2066, 2023, 2003, 1967, 1903, 1845, 1801, 1761, 1750], 'all_points_y': [856, 808, 741, 716, 698, 706, 716, 729, 729, 711, 693, 670, 680, 713, 759, 810, 859, 882, 892, 887, 887, 887, 894, 904, 915, 933, 940, 935, 922, 876, 859]}, {'name': 'polyline', 'all_points_x': [1796, 1799, 1834, 1878, 1947, 2033, 2173, 2247, 2291, 2329, 2352, 2349, 2308, 2247, 2163, 2010, 1893, 1847, 1804, 1791], 'all_points_y': [1182, 1136, 1075, 1060, 1047, 1037, 1034, 1029, 1047, 1093, 1149, 1195, 1243, 1266, 1274, 1279, 1287, 1274, 1233, 1175]}, {'name': 'polyline', 'all_points_x': [1804, 1901, 2341, 2484, 2370, 1939, 1804], 'all_points_y': [1552, 1406, 1376, 1485, 1648, 1684, 1552]}, {'name': 'polyline', 'all_points_x': [1926, 1901, 2268, 2298, 1924], 'all_points_y': [1995, 1814, 1778, 1944, 2000]}], 'class_ids': [1, 1, 1, 1, 3, 2, 4, 5]}\n",
            "Traceback (most recent call last):\n",
            "  File \"/content/Mask_RCNN/mrcnn/model.py\", line 1709, in data_generator\n",
            "    use_mini_mask=config.USE_MINI_MASK)\n",
            "  File \"/content/Mask_RCNN/mrcnn/model.py\", line 1212, in load_image_gt\n",
            "    mask, class_ids = dataset.load_mask(image_id)\n",
            "  File \"<ipython-input-31-32d008ae78cf>\", line 111, in load_mask\n",
            "    rr, cc = skimage.draw.polygon(p['all_points_y'], p['all_points_x'])\n",
            "KeyError: 'all_points_y'\n",
            "ERROR:root:Error processing image {'id': '20200331_021006_grayscale_noise.jpg', 'source': 'shapes', 'path': '../dataset_04_03/train/20200331_021006_grayscale_noise.jpg', 'width': 3024, 'height': 4032, 'polygons': [{'name': 'circle', 'cx': 1209, 'cy': 1655, 'r': 110}, {'name': 'circle', 'cx': 1928, 'cy': 2319, 'r': 184.32}, {'name': 'circle', 'cx': 2496, 'cy': 1443, 'r': 145}, {'name': 'circle', 'cx': 1828, 'cy': 649, 'r': 165.165}, {'name': 'polyline', 'all_points_x': [1448, 1283, 1382, 1544, 1448], 'all_points_y': [2327, 2031, 1966, 2262, 2335]}, {'name': 'polyline', 'all_points_x': [1440, 1478, 1597, 1578, 1436], 'all_points_y': [1463, 1229, 1260, 1486, 1467]}, {'name': 'polyline', 'all_points_x': [1663, 1682, 1797, 1778, 1659], 'all_points_y': [1793, 1540, 1544, 1805, 1797]}, {'name': 'polyline', 'all_points_x': [1882, 1905, 2085, 2070, 1882], 'all_points_y': [1693, 1356, 1356, 1701, 1693]}, {'name': 'polyline', 'all_points_x': [2166, 2181, 2300, 2292, 2166], 'all_points_y': [1716, 1352, 1359, 1732, 1724]}, {'name': 'polyline', 'all_points_x': [2400, 2408, 2519, 2523, 2400], 'all_points_y': [2289, 1935, 1939, 2316, 2300]}], 'class_ids': [1, 1, 1, 1, 5, 5, 5, 5, 5, 5]}\n",
            "Traceback (most recent call last):\n",
            "  File \"/content/Mask_RCNN/mrcnn/model.py\", line 1709, in data_generator\n",
            "    use_mini_mask=config.USE_MINI_MASK)\n",
            "  File \"/content/Mask_RCNN/mrcnn/model.py\", line 1212, in load_image_gt\n",
            "    mask, class_ids = dataset.load_mask(image_id)\n",
            "  File \"<ipython-input-31-32d008ae78cf>\", line 111, in load_mask\n",
            "    rr, cc = skimage.draw.polygon(p['all_points_y'], p['all_points_x'])\n",
            "KeyError: 'all_points_y'\n",
            "ERROR:root:Error processing image {'id': '20200331_020939_grayscale.jpg', 'source': 'shapes', 'path': '../dataset_04_03/train/20200331_020939_grayscale.jpg', 'width': 3024, 'height': 4032, 'polygons': [{'name': 'polyline', 'all_points_x': [1142, 1120, 1112, 1112, 1133, 1174, 1228, 1256, 1273, 1282, 1282, 1273, 1246, 1209, 1179, 1153, 1138], 'all_points_y': [1554, 1517, 1481, 1423, 1356, 1338, 1356, 1384, 1416, 1450, 1487, 1519, 1556, 1574, 1573, 1561, 1550]}, {'name': 'polyline', 'all_points_x': [1457, 1442, 1472, 1573, 1606, 1554, 1461, 1457], 'all_points_y': [2150, 2035, 1990, 2027, 2187, 2236, 2169, 2154]}, {'name': 'circle', 'cx': 1785, 'cy': 2426, 'r': 94}, {'name': 'circle', 'cx': 1915, 'cy': 473, 'r': 93.458}, {'name': 'polyline', 'all_points_x': [1450, 1464, 1606, 1617, 1450], 'all_points_y': [794, 317, 313, 812, 801]}, {'name': 'polyline', 'all_points_x': [1796, 1807, 1941, 1927, 1796], 'all_points_y': [1546, 1260, 1267, 1543, 1546]}, {'name': 'polyline', 'all_points_x': [1968, 1968, 2064, 2076, 1968], 'all_points_y': [1539, 1222, 1211, 1528, 1539]}, {'name': 'polyline', 'all_points_x': [2236, 2262, 2359, 2448, 2433, 2336, 2236], 'all_points_y': [2176, 1878, 1830, 1882, 2135, 2225, 2184]}, {'name': 'polyline', 'all_points_x': [2556, 2620, 2746, 2694, 2560], 'all_points_y': [2146, 1852, 1859, 2158, 2150]}, {'name': 'circle', 'cx': 2560, 'cy': 1367, 'r': 89.744}, {'name': 'polyline', 'all_points_x': [2310, 2284, 2389, 2493, 2512, 2433, 2310], 'all_points_y': [928, 604, 522, 607, 898, 969, 932]}, {'name': 'polyline', 'all_points_x': [2683, 2590, 2478, 2564, 2683], 'all_points_y': [566, 369, 432, 648, 570]}], 'class_ids': [1, 4, 1, 1, 5, 5, 5, 4, 5, 1, 4, 5]}\n",
            "Traceback (most recent call last):\n",
            "  File \"/content/Mask_RCNN/mrcnn/model.py\", line 1709, in data_generator\n",
            "    use_mini_mask=config.USE_MINI_MASK)\n",
            "  File \"/content/Mask_RCNN/mrcnn/model.py\", line 1212, in load_image_gt\n",
            "    mask, class_ids = dataset.load_mask(image_id)\n",
            "  File \"<ipython-input-31-32d008ae78cf>\", line 111, in load_mask\n",
            "    rr, cc = skimage.draw.polygon(p['all_points_y'], p['all_points_x'])\n",
            "KeyError: 'all_points_y'\n",
            "ERROR:root:Error processing image {'id': '20200329_0146530.jpg', 'source': 'shapes', 'path': '../dataset_04_03/train/20200329_0146530.jpg', 'width': 4032, 'height': 3024, 'polygons': [{'name': 'circle', 'cx': 1181, 'cy': 972, 'r': 174.761}, {'name': 'circle', 'cx': 1551, 'cy': 1648, 'r': 183}, {'name': 'circle', 'cx': 2540, 'cy': 1099, 'r': 169}, {'name': 'circle', 'cx': 2919, 'cy': 1868, 'r': 189}], 'class_ids': [1, 1, 1, 1]}\n",
            "Traceback (most recent call last):\n",
            "  File \"/content/Mask_RCNN/mrcnn/model.py\", line 1709, in data_generator\n",
            "    use_mini_mask=config.USE_MINI_MASK)\n",
            "  File \"/content/Mask_RCNN/mrcnn/model.py\", line 1212, in load_image_gt\n",
            "    mask, class_ids = dataset.load_mask(image_id)\n",
            "  File \"<ipython-input-31-32d008ae78cf>\", line 111, in load_mask\n",
            "    rr, cc = skimage.draw.polygon(p['all_points_y'], p['all_points_x'])\n",
            "KeyError: 'all_points_y'\n",
            "ERROR:root:Error processing image {'id': '20200329_015323_noise.jpg', 'source': 'shapes', 'path': '../dataset_04_03/train/20200329_015323_noise.jpg', 'width': 4032, 'height': 3024, 'polygons': [{'name': 'circle', 'cx': 500, 'cy': 609, 'r': 179.643}, {'name': 'circle', 'cx': 922, 'cy': 1254, 'r': 192.043}, {'name': 'circle', 'cx': 3344, 'cy': 1223, 'r': 184.83}, {'name': 'circle', 'cx': 3407, 'cy': 2127, 'r': 188.611}, {'name': 'polyline', 'all_points_x': [1750, 1745, 1778, 1829, 1878, 1947, 1992, 2048, 2089, 2155, 2196, 2255, 2313, 2352, 2372, 2362, 2324, 2288, 2245, 2206, 2163, 2117, 2066, 2023, 2003, 1967, 1903, 1845, 1801, 1761, 1750], 'all_points_y': [856, 808, 741, 716, 698, 706, 716, 729, 729, 711, 693, 670, 680, 713, 759, 810, 859, 882, 892, 887, 887, 887, 894, 904, 915, 933, 940, 935, 922, 876, 859]}, {'name': 'polyline', 'all_points_x': [1796, 1799, 1834, 1878, 1947, 2033, 2173, 2247, 2291, 2329, 2352, 2349, 2308, 2247, 2163, 2010, 1893, 1847, 1804, 1791], 'all_points_y': [1182, 1136, 1075, 1060, 1047, 1037, 1034, 1029, 1047, 1093, 1149, 1195, 1243, 1266, 1274, 1279, 1287, 1274, 1233, 1175]}, {'name': 'polyline', 'all_points_x': [1804, 1901, 2341, 2484, 2370, 1939, 1804], 'all_points_y': [1552, 1406, 1376, 1485, 1648, 1684, 1552]}, {'name': 'polyline', 'all_points_x': [1926, 1901, 2268, 2298, 1924], 'all_points_y': [1995, 1814, 1778, 1944, 2000]}], 'class_ids': [1, 1, 1, 1, 3, 2, 4, 5]}\n",
            "Traceback (most recent call last):\n",
            "  File \"/content/Mask_RCNN/mrcnn/model.py\", line 1709, in data_generator\n",
            "    use_mini_mask=config.USE_MINI_MASK)\n",
            "  File \"/content/Mask_RCNN/mrcnn/model.py\", line 1212, in load_image_gt\n",
            "    mask, class_ids = dataset.load_mask(image_id)\n",
            "  File \"<ipython-input-31-32d008ae78cf>\", line 111, in load_mask\n",
            "    rr, cc = skimage.draw.polygon(p['all_points_y'], p['all_points_x'])\n",
            "KeyError: 'all_points_y'\n",
            "ERROR:root:Error processing image {'id': '20200218_165233_noise.jpg', 'source': 'shapes', 'path': '../dataset_04_03/train/20200218_165233_noise.jpg', 'width': 3024, 'height': 4032, 'polygons': [{'name': 'polyline', 'all_points_x': [899, 1051, 1211, 1321, 1317, 1227, 1083, 960, 833, 808, 899], 'all_points_y': [1559, 1481, 1518, 1642, 1797, 1921, 1978, 1970, 1871, 1695, 1572]}, {'name': 'polyline', 'all_points_x': [1810, 1814, 1916, 2093, 2228, 2274, 2224, 2101, 1949, 1822, 1756, 1810], 'all_points_y': [1736, 1724, 1637, 1629, 1728, 1892, 2031, 2122, 2122, 2023, 1900, 1736]}, {'name': 'polyline', 'all_points_x': [2906, 3057, 3127, 3156, 3123, 3025, 2910, 2782, 2672, 2655, 2762, 2897], 'all_points_y': [1916, 1994, 2093, 2212, 2339, 2429, 2442, 2405, 2286, 2081, 1945, 1912]}, {'name': 'polyline', 'all_points_x': [2803, 3164, 3312, 3254, 2869, 2700, 2807], 'all_points_y': [1133, 1108, 1235, 1404, 1428, 1276, 1124]}, {'name': 'polyline', 'all_points_x': [1728, 2048, 2130, 2068, 2035, 1769, 1670, 1736], 'all_points_y': [903, 886, 993, 1129, 1165, 1174, 1051, 899]}, {'name': 'polyline', 'all_points_x': [2618, 2733, 2889, 2979, 2988, 2881, 2733, 2618, 2540, 2557, 2622], 'all_points_y': [538, 492, 533, 661, 792, 891, 903, 837, 722, 624, 538]}], 'class_ids': [1, 1, 1, 4, 4, 1]}\n",
            "Traceback (most recent call last):\n",
            "  File \"/content/Mask_RCNN/mrcnn/model.py\", line 1709, in data_generator\n",
            "    use_mini_mask=config.USE_MINI_MASK)\n",
            "  File \"/content/Mask_RCNN/mrcnn/model.py\", line 1212, in load_image_gt\n",
            "    mask, class_ids = dataset.load_mask(image_id)\n",
            "  File \"<ipython-input-31-32d008ae78cf>\", line 112, in load_mask\n",
            "    mask[rr, cc, i] = 1\n",
            "IndexError: index 3024 is out of bounds for axis 1 with size 3024\n",
            "ERROR:root:Error processing image {'id': '20200329_015323.jpg', 'source': 'shapes', 'path': '../dataset_04_03/train/20200329_015323.jpg', 'width': 4032, 'height': 3024, 'polygons': [{'name': 'circle', 'cx': 500, 'cy': 609, 'r': 179.643}, {'name': 'circle', 'cx': 922, 'cy': 1254, 'r': 192.043}, {'name': 'circle', 'cx': 3344, 'cy': 1223, 'r': 184.83}, {'name': 'circle', 'cx': 3407, 'cy': 2127, 'r': 188.611}, {'name': 'polyline', 'all_points_x': [1750, 1745, 1778, 1829, 1878, 1947, 1992, 2048, 2089, 2155, 2196, 2255, 2313, 2352, 2372, 2362, 2324, 2288, 2245, 2206, 2163, 2117, 2066, 2023, 2003, 1967, 1903, 1845, 1801, 1761, 1750], 'all_points_y': [856, 808, 741, 716, 698, 706, 716, 729, 729, 711, 693, 670, 680, 713, 759, 810, 859, 882, 892, 887, 887, 887, 894, 904, 915, 933, 940, 935, 922, 876, 859]}, {'name': 'polyline', 'all_points_x': [1796, 1799, 1834, 1878, 1947, 2033, 2173, 2247, 2291, 2329, 2352, 2349, 2308, 2247, 2163, 2010, 1893, 1847, 1804, 1791], 'all_points_y': [1182, 1136, 1075, 1060, 1047, 1037, 1034, 1029, 1047, 1093, 1149, 1195, 1243, 1266, 1274, 1279, 1287, 1274, 1233, 1175]}, {'name': 'polyline', 'all_points_x': [1804, 1901, 2341, 2484, 2370, 1939, 1804], 'all_points_y': [1552, 1406, 1376, 1485, 1648, 1684, 1552]}, {'name': 'polyline', 'all_points_x': [1926, 1901, 2268, 2298, 1924], 'all_points_y': [1995, 1814, 1778, 1944, 2000]}], 'class_ids': [1, 1, 1, 1, 3, 2, 4, 5]}\n",
            "Traceback (most recent call last):\n",
            "  File \"/content/Mask_RCNN/mrcnn/model.py\", line 1709, in data_generator\n",
            "    use_mini_mask=config.USE_MINI_MASK)\n",
            "  File \"/content/Mask_RCNN/mrcnn/model.py\", line 1212, in load_image_gt\n",
            "    mask, class_ids = dataset.load_mask(image_id)\n",
            "  File \"<ipython-input-31-32d008ae78cf>\", line 111, in load_mask\n",
            "    rr, cc = skimage.draw.polygon(p['all_points_y'], p['all_points_x'])\n",
            "KeyError: 'all_points_y'\n",
            "ERROR:root:Error processing image {'id': '20200218_165233_grayscale.jpg', 'source': 'shapes', 'path': '../dataset_04_03/train/20200218_165233_grayscale.jpg', 'width': 3024, 'height': 4032, 'polygons': [{'name': 'polyline', 'all_points_x': [899, 1051, 1211, 1321, 1317, 1227, 1083, 960, 833, 808, 899], 'all_points_y': [1559, 1481, 1518, 1642, 1797, 1921, 1978, 1970, 1871, 1695, 1572]}, {'name': 'polyline', 'all_points_x': [1810, 1814, 1916, 2093, 2228, 2274, 2224, 2101, 1949, 1822, 1756, 1810], 'all_points_y': [1736, 1724, 1637, 1629, 1728, 1892, 2031, 2122, 2122, 2023, 1900, 1736]}, {'name': 'polyline', 'all_points_x': [2906, 3057, 3127, 3156, 3123, 3025, 2910, 2782, 2672, 2655, 2762, 2897], 'all_points_y': [1916, 1994, 2093, 2212, 2339, 2429, 2442, 2405, 2286, 2081, 1945, 1912]}, {'name': 'polyline', 'all_points_x': [2803, 3164, 3312, 3254, 2869, 2700, 2807], 'all_points_y': [1133, 1108, 1235, 1404, 1428, 1276, 1124]}, {'name': 'polyline', 'all_points_x': [1728, 2048, 2130, 2068, 2035, 1769, 1670, 1736], 'all_points_y': [903, 886, 993, 1129, 1165, 1174, 1051, 899]}, {'name': 'polyline', 'all_points_x': [2618, 2733, 2889, 2979, 2988, 2881, 2733, 2618, 2540, 2557, 2622], 'all_points_y': [538, 492, 533, 661, 792, 891, 903, 837, 722, 624, 538]}], 'class_ids': [1, 1, 1, 4, 4, 1]}\n",
            "Traceback (most recent call last):\n",
            "  File \"/content/Mask_RCNN/mrcnn/model.py\", line 1709, in data_generator\n",
            "    use_mini_mask=config.USE_MINI_MASK)\n",
            "  File \"/content/Mask_RCNN/mrcnn/model.py\", line 1212, in load_image_gt\n",
            "    mask, class_ids = dataset.load_mask(image_id)\n",
            "  File \"<ipython-input-31-32d008ae78cf>\", line 112, in load_mask\n",
            "    mask[rr, cc, i] = 1\n",
            "IndexError: index 3024 is out of bounds for axis 1 with size 3024\n",
            "ERROR:root:Error processing image {'id': '20200329_015323_noise.jpg', 'source': 'shapes', 'path': '../dataset_04_03/train/20200329_015323_noise.jpg', 'width': 4032, 'height': 3024, 'polygons': [{'name': 'circle', 'cx': 500, 'cy': 609, 'r': 179.643}, {'name': 'circle', 'cx': 922, 'cy': 1254, 'r': 192.043}, {'name': 'circle', 'cx': 3344, 'cy': 1223, 'r': 184.83}, {'name': 'circle', 'cx': 3407, 'cy': 2127, 'r': 188.611}, {'name': 'polyline', 'all_points_x': [1750, 1745, 1778, 1829, 1878, 1947, 1992, 2048, 2089, 2155, 2196, 2255, 2313, 2352, 2372, 2362, 2324, 2288, 2245, 2206, 2163, 2117, 2066, 2023, 2003, 1967, 1903, 1845, 1801, 1761, 1750], 'all_points_y': [856, 808, 741, 716, 698, 706, 716, 729, 729, 711, 693, 670, 680, 713, 759, 810, 859, 882, 892, 887, 887, 887, 894, 904, 915, 933, 940, 935, 922, 876, 859]}, {'name': 'polyline', 'all_points_x': [1796, 1799, 1834, 1878, 1947, 2033, 2173, 2247, 2291, 2329, 2352, 2349, 2308, 2247, 2163, 2010, 1893, 1847, 1804, 1791], 'all_points_y': [1182, 1136, 1075, 1060, 1047, 1037, 1034, 1029, 1047, 1093, 1149, 1195, 1243, 1266, 1274, 1279, 1287, 1274, 1233, 1175]}, {'name': 'polyline', 'all_points_x': [1804, 1901, 2341, 2484, 2370, 1939, 1804], 'all_points_y': [1552, 1406, 1376, 1485, 1648, 1684, 1552]}, {'name': 'polyline', 'all_points_x': [1926, 1901, 2268, 2298, 1924], 'all_points_y': [1995, 1814, 1778, 1944, 2000]}], 'class_ids': [1, 1, 1, 1, 3, 2, 4, 5]}\n",
            "Traceback (most recent call last):\n",
            "  File \"/content/Mask_RCNN/mrcnn/model.py\", line 1709, in data_generator\n",
            "    use_mini_mask=config.USE_MINI_MASK)\n",
            "  File \"/content/Mask_RCNN/mrcnn/model.py\", line 1212, in load_image_gt\n",
            "    mask, class_ids = dataset.load_mask(image_id)\n",
            "  File \"<ipython-input-31-32d008ae78cf>\", line 111, in load_mask\n",
            "    rr, cc = skimage.draw.polygon(p['all_points_y'], p['all_points_x'])\n",
            "KeyError: 'all_points_y'\n",
            "Traceback (most recent call last):\n",
            "  File \"/usr/local/lib/python3.6/dist-packages/keras/utils/data_utils.py\", line 677, in _data_generator_task\n",
            "    generator_output = next(self._generator)\n",
            "  File \"/content/Mask_RCNN/mrcnn/model.py\", line 1709, in data_generator\n",
            "    use_mini_mask=config.USE_MINI_MASK)\n",
            "  File \"/content/Mask_RCNN/mrcnn/model.py\", line 1212, in load_image_gt\n",
            "    mask, class_ids = dataset.load_mask(image_id)\n",
            "  File \"<ipython-input-31-32d008ae78cf>\", line 111, in load_mask\n",
            "    rr, cc = skimage.draw.polygon(p['all_points_y'], p['all_points_x'])\n",
            "KeyError: 'all_points_y'\n",
            "ERROR:root:Error processing image {'id': '20200331_021006_grayscale.jpg', 'source': 'shapes', 'path': '../dataset_04_03/train/20200331_021006_grayscale.jpg', 'width': 3024, 'height': 4032, 'polygons': [{'name': 'circle', 'cx': 1209, 'cy': 1655, 'r': 110}, {'name': 'circle', 'cx': 1928, 'cy': 2319, 'r': 184.32}, {'name': 'circle', 'cx': 2496, 'cy': 1443, 'r': 145}, {'name': 'circle', 'cx': 1828, 'cy': 649, 'r': 165.165}, {'name': 'polyline', 'all_points_x': [1448, 1283, 1382, 1544, 1448], 'all_points_y': [2327, 2031, 1966, 2262, 2335]}, {'name': 'polyline', 'all_points_x': [1440, 1478, 1597, 1578, 1436], 'all_points_y': [1463, 1229, 1260, 1486, 1467]}, {'name': 'polyline', 'all_points_x': [1663, 1682, 1797, 1778, 1659], 'all_points_y': [1793, 1540, 1544, 1805, 1797]}, {'name': 'polyline', 'all_points_x': [1882, 1905, 2085, 2070, 1882], 'all_points_y': [1693, 1356, 1356, 1701, 1693]}, {'name': 'polyline', 'all_points_x': [2166, 2181, 2300, 2292, 2166], 'all_points_y': [1716, 1352, 1359, 1732, 1724]}, {'name': 'polyline', 'all_points_x': [2400, 2408, 2519, 2523, 2400], 'all_points_y': [2289, 1935, 1939, 2316, 2300]}], 'class_ids': [1, 1, 1, 1, 5, 5, 5, 5, 5, 5]}\n",
            "Traceback (most recent call last):\n",
            "  File \"/content/Mask_RCNN/mrcnn/model.py\", line 1709, in data_generator\n",
            "    use_mini_mask=config.USE_MINI_MASK)\n",
            "  File \"/content/Mask_RCNN/mrcnn/model.py\", line 1212, in load_image_gt\n",
            "    mask, class_ids = dataset.load_mask(image_id)\n",
            "  File \"<ipython-input-31-32d008ae78cf>\", line 111, in load_mask\n",
            "    rr, cc = skimage.draw.polygon(p['all_points_y'], p['all_points_x'])\n",
            "KeyError: 'all_points_y'\n",
            "ERROR:root:Error processing image {'id': '20200218_165219_grayscale.jpg', 'source': 'shapes', 'path': '../dataset_04_03/train/20200218_165219_grayscale.jpg', 'width': 3024, 'height': 4032, 'polygons': [{'name': 'polyline', 'all_points_x': [911, 1096, 1223, 1227, 1174, 1079, 964, 833, 751, 751, 817, 907], 'all_points_y': [538, 542, 657, 808, 907, 969, 985, 944, 821, 681, 599, 538]}, {'name': 'polyline', 'all_points_x': [1005, 1317, 1445, 1379, 1034, 911, 1001], 'all_points_y': [1260, 1231, 1321, 1461, 1510, 1412, 1268]}, {'name': 'polyline', 'all_points_x': [2048, 2331, 2446, 2380, 2089, 1978, 2052], 'all_points_y': [1178, 1133, 1227, 1358, 1412, 1321, 1174]}, {'name': 'polyline', 'all_points_x': [3066, 3242, 3418, 3455, 3414, 3316, 3160, 3033, 2971, 2963, 3074], 'all_points_y': [1198, 1170, 1293, 1457, 1580, 1646, 1650, 1564, 1457, 1305, 1198]}, {'name': 'polyline', 'all_points_x': [1674, 1810, 1949, 1982, 1941, 1822, 1707, 1584, 1477, 1461, 1539, 1674], 'all_points_y': [1761, 1765, 1871, 2027, 2171, 2269, 2290, 2261, 2138, 1994, 1810, 1761]}, {'name': 'polyline', 'all_points_x': [2544, 2873, 3025, 2938, 2610, 2442, 2553], 'all_points_y': [2109, 2056, 2183, 2388, 2429, 2294, 2109]}], 'class_ids': [1, 4, 4, 1, 1, 4]}\n",
            "Traceback (most recent call last):\n",
            "  File \"/content/Mask_RCNN/mrcnn/model.py\", line 1709, in data_generator\n",
            "    use_mini_mask=config.USE_MINI_MASK)\n",
            "  File \"/content/Mask_RCNN/mrcnn/model.py\", line 1212, in load_image_gt\n",
            "    mask, class_ids = dataset.load_mask(image_id)\n",
            "  File \"<ipython-input-31-32d008ae78cf>\", line 112, in load_mask\n",
            "    mask[rr, cc, i] = 1\n",
            "IndexError: index 3236 is out of bounds for axis 1 with size 3024\n"
          ],
          "name": "stderr"
        },
        {
          "output_type": "stream",
          "text": [
            "\r  1/100 [..............................] - ETA: 4:26:39 - loss: 7.9654 - rpn_class_loss: 0.4636 - rpn_bbox_loss: 2.2654 - mrcnn_class_loss: 2.8213 - mrcnn_bbox_loss: 1.4516 - mrcnn_mask_loss: 0.9634"
          ],
          "name": "stdout"
        },
        {
          "output_type": "error",
          "ename": "KeyError",
          "evalue": "ignored",
          "traceback": [
            "\u001b[0;31m---------------------------------------------------------------------------\u001b[0m",
            "\u001b[0;31mKeyError\u001b[0m                                  Traceback (most recent call last)",
            "\u001b[0;32m<ipython-input-38-799849ff6bc9>\u001b[0m in \u001b[0;36m<module>\u001b[0;34m()\u001b[0m\n\u001b[1;32m      1\u001b[0m model.train(dataset_train, dataset_val, learning_rate=config.LEARNING_RATE, \n\u001b[1;32m      2\u001b[0m             \u001b[0mepochs\u001b[0m\u001b[0;34m=\u001b[0m\u001b[0;36m1\u001b[0m\u001b[0;34m,\u001b[0m\u001b[0;34m\u001b[0m\u001b[0;34m\u001b[0m\u001b[0m\n\u001b[0;32m----> 3\u001b[0;31m             layers='heads')\n\u001b[0m",
            "\u001b[0;32m/content/Mask_RCNN/mrcnn/model.py\u001b[0m in \u001b[0;36mtrain\u001b[0;34m(self, train_dataset, val_dataset, learning_rate, epochs, layers, augmentation, custom_callbacks, no_augmentation_sources)\u001b[0m\n\u001b[1;32m   2372\u001b[0m             \u001b[0mmax_queue_size\u001b[0m\u001b[0;34m=\u001b[0m\u001b[0;36m100\u001b[0m\u001b[0;34m,\u001b[0m\u001b[0;34m\u001b[0m\u001b[0;34m\u001b[0m\u001b[0m\n\u001b[1;32m   2373\u001b[0m             \u001b[0mworkers\u001b[0m\u001b[0;34m=\u001b[0m\u001b[0mworkers\u001b[0m\u001b[0;34m,\u001b[0m\u001b[0;34m\u001b[0m\u001b[0;34m\u001b[0m\u001b[0m\n\u001b[0;32m-> 2374\u001b[0;31m             \u001b[0muse_multiprocessing\u001b[0m\u001b[0;34m=\u001b[0m\u001b[0;32mTrue\u001b[0m\u001b[0;34m,\u001b[0m\u001b[0;34m\u001b[0m\u001b[0;34m\u001b[0m\u001b[0m\n\u001b[0m\u001b[1;32m   2375\u001b[0m         )\n\u001b[1;32m   2376\u001b[0m         \u001b[0mself\u001b[0m\u001b[0;34m.\u001b[0m\u001b[0mepoch\u001b[0m \u001b[0;34m=\u001b[0m \u001b[0mmax\u001b[0m\u001b[0;34m(\u001b[0m\u001b[0mself\u001b[0m\u001b[0;34m.\u001b[0m\u001b[0mepoch\u001b[0m\u001b[0;34m,\u001b[0m \u001b[0mepochs\u001b[0m\u001b[0;34m)\u001b[0m\u001b[0;34m\u001b[0m\u001b[0;34m\u001b[0m\u001b[0m\n",
            "\u001b[0;32m/usr/local/lib/python3.6/dist-packages/keras/legacy/interfaces.py\u001b[0m in \u001b[0;36mwrapper\u001b[0;34m(*args, **kwargs)\u001b[0m\n\u001b[1;32m     89\u001b[0m                 warnings.warn('Update your `' + object_name +\n\u001b[1;32m     90\u001b[0m                               '` call to the Keras 2 API: ' + signature, stacklevel=2)\n\u001b[0;32m---> 91\u001b[0;31m             \u001b[0;32mreturn\u001b[0m \u001b[0mfunc\u001b[0m\u001b[0;34m(\u001b[0m\u001b[0;34m*\u001b[0m\u001b[0margs\u001b[0m\u001b[0;34m,\u001b[0m \u001b[0;34m**\u001b[0m\u001b[0mkwargs\u001b[0m\u001b[0;34m)\u001b[0m\u001b[0;34m\u001b[0m\u001b[0;34m\u001b[0m\u001b[0m\n\u001b[0m\u001b[1;32m     92\u001b[0m         \u001b[0mwrapper\u001b[0m\u001b[0;34m.\u001b[0m\u001b[0m_original_function\u001b[0m \u001b[0;34m=\u001b[0m \u001b[0mfunc\u001b[0m\u001b[0;34m\u001b[0m\u001b[0;34m\u001b[0m\u001b[0m\n\u001b[1;32m     93\u001b[0m         \u001b[0;32mreturn\u001b[0m \u001b[0mwrapper\u001b[0m\u001b[0;34m\u001b[0m\u001b[0;34m\u001b[0m\u001b[0m\n",
            "\u001b[0;32m/usr/local/lib/python3.6/dist-packages/keras/engine/training.py\u001b[0m in \u001b[0;36mfit_generator\u001b[0;34m(self, generator, steps_per_epoch, epochs, verbose, callbacks, validation_data, validation_steps, class_weight, max_queue_size, workers, use_multiprocessing, shuffle, initial_epoch)\u001b[0m\n\u001b[1;32m   2192\u001b[0m                 \u001b[0mbatch_index\u001b[0m \u001b[0;34m=\u001b[0m \u001b[0;36m0\u001b[0m\u001b[0;34m\u001b[0m\u001b[0;34m\u001b[0m\u001b[0m\n\u001b[1;32m   2193\u001b[0m                 \u001b[0;32mwhile\u001b[0m \u001b[0msteps_done\u001b[0m \u001b[0;34m<\u001b[0m \u001b[0msteps_per_epoch\u001b[0m\u001b[0;34m:\u001b[0m\u001b[0;34m\u001b[0m\u001b[0;34m\u001b[0m\u001b[0m\n\u001b[0;32m-> 2194\u001b[0;31m                     \u001b[0mgenerator_output\u001b[0m \u001b[0;34m=\u001b[0m \u001b[0mnext\u001b[0m\u001b[0;34m(\u001b[0m\u001b[0moutput_generator\u001b[0m\u001b[0;34m)\u001b[0m\u001b[0;34m\u001b[0m\u001b[0;34m\u001b[0m\u001b[0m\n\u001b[0m\u001b[1;32m   2195\u001b[0m \u001b[0;34m\u001b[0m\u001b[0m\n\u001b[1;32m   2196\u001b[0m                     \u001b[0;32mif\u001b[0m \u001b[0;32mnot\u001b[0m \u001b[0mhasattr\u001b[0m\u001b[0;34m(\u001b[0m\u001b[0mgenerator_output\u001b[0m\u001b[0;34m,\u001b[0m \u001b[0;34m'__len__'\u001b[0m\u001b[0;34m)\u001b[0m\u001b[0;34m:\u001b[0m\u001b[0;34m\u001b[0m\u001b[0;34m\u001b[0m\u001b[0m\n",
            "\u001b[0;32m/usr/local/lib/python3.6/dist-packages/keras/utils/data_utils.py\u001b[0m in \u001b[0;36mget\u001b[0;34m(self)\u001b[0m\n\u001b[1;32m    791\u001b[0m             \u001b[0msuccess\u001b[0m\u001b[0;34m,\u001b[0m \u001b[0mvalue\u001b[0m \u001b[0;34m=\u001b[0m \u001b[0mself\u001b[0m\u001b[0;34m.\u001b[0m\u001b[0mqueue\u001b[0m\u001b[0;34m.\u001b[0m\u001b[0mget\u001b[0m\u001b[0;34m(\u001b[0m\u001b[0;34m)\u001b[0m\u001b[0;34m\u001b[0m\u001b[0;34m\u001b[0m\u001b[0m\n\u001b[1;32m    792\u001b[0m             \u001b[0;32mif\u001b[0m \u001b[0;32mnot\u001b[0m \u001b[0msuccess\u001b[0m\u001b[0;34m:\u001b[0m\u001b[0;34m\u001b[0m\u001b[0;34m\u001b[0m\u001b[0m\n\u001b[0;32m--> 793\u001b[0;31m                 \u001b[0msix\u001b[0m\u001b[0;34m.\u001b[0m\u001b[0mreraise\u001b[0m\u001b[0;34m(\u001b[0m\u001b[0mvalue\u001b[0m\u001b[0;34m.\u001b[0m\u001b[0m__class__\u001b[0m\u001b[0;34m,\u001b[0m \u001b[0mvalue\u001b[0m\u001b[0;34m,\u001b[0m \u001b[0mvalue\u001b[0m\u001b[0;34m.\u001b[0m\u001b[0m__traceback__\u001b[0m\u001b[0;34m)\u001b[0m\u001b[0;34m\u001b[0m\u001b[0;34m\u001b[0m\u001b[0m\n\u001b[0m",
            "\u001b[0;32m/usr/local/lib/python3.6/dist-packages/six.py\u001b[0m in \u001b[0;36mreraise\u001b[0;34m(tp, value, tb)\u001b[0m\n\u001b[1;32m    691\u001b[0m             \u001b[0;32mif\u001b[0m \u001b[0mvalue\u001b[0m\u001b[0;34m.\u001b[0m\u001b[0m__traceback__\u001b[0m \u001b[0;32mis\u001b[0m \u001b[0;32mnot\u001b[0m \u001b[0mtb\u001b[0m\u001b[0;34m:\u001b[0m\u001b[0;34m\u001b[0m\u001b[0;34m\u001b[0m\u001b[0m\n\u001b[1;32m    692\u001b[0m                 \u001b[0;32mraise\u001b[0m \u001b[0mvalue\u001b[0m\u001b[0;34m.\u001b[0m\u001b[0mwith_traceback\u001b[0m\u001b[0;34m(\u001b[0m\u001b[0mtb\u001b[0m\u001b[0;34m)\u001b[0m\u001b[0;34m\u001b[0m\u001b[0;34m\u001b[0m\u001b[0m\n\u001b[0;32m--> 693\u001b[0;31m             \u001b[0;32mraise\u001b[0m \u001b[0mvalue\u001b[0m\u001b[0;34m\u001b[0m\u001b[0;34m\u001b[0m\u001b[0m\n\u001b[0m\u001b[1;32m    694\u001b[0m         \u001b[0;32mfinally\u001b[0m\u001b[0;34m:\u001b[0m\u001b[0;34m\u001b[0m\u001b[0;34m\u001b[0m\u001b[0m\n\u001b[1;32m    695\u001b[0m             \u001b[0mvalue\u001b[0m \u001b[0;34m=\u001b[0m \u001b[0;32mNone\u001b[0m\u001b[0;34m\u001b[0m\u001b[0;34m\u001b[0m\u001b[0m\n",
            "\u001b[0;31mKeyError\u001b[0m: 'all_points_y'"
          ]
        }
      ]
    },
    {
      "cell_type": "markdown",
      "metadata": {
        "id": "yULZc-Vwpr_d",
        "colab_type": "text"
      },
      "source": [
        ""
      ]
    },
    {
      "cell_type": "code",
      "metadata": {
        "id": "hzhAHNOsRAw0",
        "colab_type": "code",
        "colab": {}
      },
      "source": [
        "# Fine tune all layers\n",
        "# Passing layers=\"all\" trains all layers. You can also \n",
        "# pass a regular expression to select which layers to\n",
        "# train by name pattern.\n",
        "model.train(dataset_train, dataset_val, \n",
        "            learning_rate=config.LEARNING_RATE / 10,\n",
        "            epochs=2, \n",
        "            layers=\"all\")"
      ],
      "execution_count": 0,
      "outputs": []
    },
    {
      "cell_type": "markdown",
      "metadata": {
        "id": "svR4niumRkVi",
        "colab_type": "text"
      },
      "source": [
        "## Detection"
      ]
    },
    {
      "cell_type": "code",
      "metadata": {
        "id": "5eJvWgWkRhdS",
        "colab_type": "code",
        "colab": {}
      },
      "source": [
        "class InferenceConfig(IstarConfig):\n",
        "    GPU_COUNT = 1\n",
        "    IMAGES_PER_GPU = 1\n",
        "\n",
        "inference_config = InferenceConfig()\n",
        "\n",
        "# Recreate the model in inference mode\n",
        "model = modellib.MaskRCNN(mode=\"inference\", \n",
        "                          config=inference_config,\n",
        "                          model_dir=MODEL_DIR)\n",
        "\n",
        "# Get path to saved weights\n",
        "# Either set a specific path or find last trained weights\n",
        "# model_path = os.path.join(ROOT_DIR, \".h5 file name here\")\n",
        "model_path = model.find_last()\n",
        "\n",
        "# Load trained weights\n",
        "print(\"Loading weights from \", model_path)\n",
        "model.load_weights(model_path, by_name=True)"
      ],
      "execution_count": 0,
      "outputs": []
    },
    {
      "cell_type": "code",
      "metadata": {
        "id": "lxqV0cA9RySA",
        "colab_type": "code",
        "colab": {}
      },
      "source": [
        "# Test on a random image\n",
        "image_id = random.choice(dataset_val.image_ids)\n",
        "original_image, image_meta, gt_class_id, gt_bbox, gt_mask =\\\n",
        "    modellib.load_image_gt(dataset_val, inference_config, \n",
        "                           image_id, use_mini_mask=False)\n",
        "\n",
        "log(\"original_image\", original_image)\n",
        "log(\"image_meta\", image_meta)\n",
        "log(\"gt_class_id\", gt_class_id)\n",
        "log(\"gt_bbox\", gt_bbox)\n",
        "log(\"gt_mask\", gt_mask)\n",
        "\n",
        "visualize.display_instances(original_image, gt_bbox, gt_mask, gt_class_id, \n",
        "                            dataset_train.class_names, figsize=(8, 8))"
      ],
      "execution_count": 0,
      "outputs": []
    },
    {
      "cell_type": "code",
      "metadata": {
        "id": "F9rvsxgwR27K",
        "colab_type": "code",
        "colab": {}
      },
      "source": [
        "results = model.detect([original_image], verbose=1)\n",
        "\n",
        "r = results[0]\n",
        "visualize.display_instances(original_image, r['rois'], r['masks'], r['class_ids'], \n",
        "                            dataset_val.class_names, r['scores'], ax=get_ax())"
      ],
      "execution_count": 0,
      "outputs": []
    },
    {
      "cell_type": "markdown",
      "metadata": {
        "id": "k3Nfy_KoR7MC",
        "colab_type": "text"
      },
      "source": [
        "## Evaluation"
      ]
    },
    {
      "cell_type": "code",
      "metadata": {
        "id": "OtWWTVxaSkw_",
        "colab_type": "code",
        "colab": {}
      },
      "source": [
        "# Compute VOC-Style mAP @ IoU=0.5\n",
        "# Running on 10 images. Increase for better accuracy.\n",
        "image_ids = np.random.choice(dataset_val.image_ids, 10)\n",
        "APs = []\n",
        "for image_id in image_ids:\n",
        "    # Load image and ground truth data\n",
        "    image, image_meta, gt_class_id, gt_bbox, gt_mask =\\\n",
        "        modellib.load_image_gt(dataset_val, inference_config,\n",
        "                               image_id, use_mini_mask=False)\n",
        "    molded_images = np.expand_dims(modellib.mold_image(image, inference_config), 0)\n",
        "    info = dataset_val.image_info[image_id]\n",
        "\n",
        "    # Run object detection\n",
        "    results = model.detect([image], verbose=0)\n",
        "    r = results[0]\n",
        "    ax = get_ax(1)\n",
        "\n",
        "    # Compute AP\n",
        "    visualize.display_differences(image, gt_bbox, gt_class_id, gt_mask, r['rois'], r['class_ids'],r['scores'],r['masks'],\n",
        "                              dataset_val.class_names,ax=ax)\n",
        "    \n",
        "print(\"mAP: \", np.mean(APs))"
      ],
      "execution_count": 0,
      "outputs": []
    }
  ]
}