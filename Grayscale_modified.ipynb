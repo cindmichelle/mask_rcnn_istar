{
  "nbformat": 4,
  "nbformat_minor": 0,
  "metadata": {
    "kernelspec": {
      "name": "python3",
      "display_name": "Python 3"
    },
    "language_info": {
      "codemirror_mode": {
        "name": "ipython",
        "version": 3
      },
      "file_extension": ".py",
      "mimetype": "text/x-python",
      "name": "python",
      "nbconvert_exporter": "python",
      "pygments_lexer": "ipython3",
      "version": "3.5.6"
    },
    "colab": {
      "name": "Grayscale.ipynb",
      "provenance": [],
      "collapsed_sections": [],
      "toc_visible": true,
      "include_colab_link": true
    }
  },
  "cells": [
    {
      "cell_type": "markdown",
      "metadata": {
        "id": "view-in-github",
        "colab_type": "text"
      },
      "source": [
        "<a href=\"https://colab.research.google.com/github/cindmichelle/mask_rcnn_istar/blob/master/Grayscale_modified.ipynb\" target=\"_parent\"><img src=\"https://colab.research.google.com/assets/colab-badge.svg\" alt=\"Open In Colab\"/></a>"
      ]
    },
    {
      "cell_type": "code",
      "metadata": {
        "id": "xeYSW7Gge-IB",
        "colab_type": "code",
        "outputId": "8aa0af6d-e708-4499-b8b5-74931cd7d191",
        "colab": {
          "base_uri": "https://localhost:8080/",
          "height": 125
        }
      },
      "source": [
        "from google.colab import drive\n",
        "drive.mount('/content/drive')"
      ],
      "execution_count": 1,
      "outputs": [
        {
          "output_type": "stream",
          "text": [
            "Go to this URL in a browser: https://accounts.google.com/o/oauth2/auth?client_id=947318989803-6bn6qk8qdgf4n4g3pfee6491hc0brc4i.apps.googleusercontent.com&redirect_uri=urn%3aietf%3awg%3aoauth%3a2.0%3aoob&response_type=code&scope=email%20https%3a%2f%2fwww.googleapis.com%2fauth%2fdocs.test%20https%3a%2f%2fwww.googleapis.com%2fauth%2fdrive%20https%3a%2f%2fwww.googleapis.com%2fauth%2fdrive.photos.readonly%20https%3a%2f%2fwww.googleapis.com%2fauth%2fpeopleapi.readonly\n",
            "\n",
            "Enter your authorization code:\n",
            "··········\n",
            "Mounted at /content/drive\n"
          ],
          "name": "stdout"
        }
      ]
    },
    {
      "cell_type": "code",
      "metadata": {
        "id": "p8PKNFoBf5e-",
        "colab_type": "code",
        "outputId": "b045a8df-f4a3-437b-eff3-26a0009ba5e4",
        "colab": {
          "base_uri": "https://localhost:8080/",
          "height": 52
        }
      },
      "source": [
        "%cd\n",
        "%cd ../content/drive/\"My Drive\"/\"dataset zip\"/\"plain data\""
      ],
      "execution_count": 2,
      "outputs": [
        {
          "output_type": "stream",
          "text": [
            "/root\n",
            "/content/drive/My Drive/dataset zip/plain data\n"
          ],
          "name": "stdout"
        }
      ]
    },
    {
      "cell_type": "code",
      "metadata": {
        "id": "oU6c4dbogQja",
        "colab_type": "code",
        "colab": {}
      },
      "source": [
        "import zipfile\n",
        "\n",
        "zip_ref = zipfile.ZipFile('plain_04_05_1.zip', 'r')\n",
        "zip_ref.extractall(\"/content\")\n",
        "zip_ref.close()\n",
        "\n",
        "zip_ref = zipfile.ZipFile('plain_04_05_2.zip', 'r')\n",
        "zip_ref.extractall(\"/content\")\n",
        "zip_ref.close()\n",
        "\n",
        "zip_ref = zipfile.ZipFile('plain_04_05_3.zip', 'r')\n",
        "zip_ref.extractall(\"/content\")\n",
        "zip_ref.close()"
      ],
      "execution_count": 0,
      "outputs": []
    },
    {
      "cell_type": "code",
      "metadata": {
        "id": "uzayUmZ6gUW-",
        "colab_type": "code",
        "outputId": "ec8d9afe-3fe3-49b0-9301-4ed4add5ee22",
        "colab": {
          "base_uri": "https://localhost:8080/",
          "height": 52
        }
      },
      "source": [
        "%cd\n",
        "%cd ../content/"
      ],
      "execution_count": 4,
      "outputs": [
        {
          "output_type": "stream",
          "text": [
            "/root\n",
            "/content\n"
          ],
          "name": "stdout"
        }
      ]
    },
    {
      "cell_type": "code",
      "metadata": {
        "id": "iJVg50DveYij",
        "colab_type": "code",
        "colab": {}
      },
      "source": [
        "import cv2\n",
        "import numpy as np\n",
        "\n",
        "def gamma_correction(image): \n",
        "    image = image * (1.0/255.0)\n",
        "    image = image ** (1/2.2)\n",
        "    image = image * 255\n",
        "    return image\n",
        "\n",
        "def gleam(input):\n",
        "    input = np.array(input)\n",
        "    image = gamma_correction(input)\n",
        "    image = np.clip(image, 0,255)\n",
        "    image = np.average(image, axis=2)\n",
        "    return image\n"
      ],
      "execution_count": 0,
      "outputs": []
    },
    {
      "cell_type": "code",
      "metadata": {
        "id": "QBzMbbgo3AP_",
        "colab_type": "code",
        "colab": {}
      },
      "source": [
        "import datetime\n",
        "\n",
        "def getCurrentTime():\n",
        "  now = datetime.datetime.now()\n",
        "  year = now.year\n",
        "  month = now.month\n",
        "  day= now.day\n",
        "  hour = now.hour\n",
        "  minute = now.minute\n",
        "  return (year, month, day, hour, minute)\n",
        "\n",
        "def generateTimeStampZipFilename():\n",
        "  year, month, day, hour, minute = getCurrentTime()\n",
        "  return str(year) +'_'+ str(month) +'_'+ str(day) +'_'+ str(hour) + str(minute)+'.zip'\n"
      ],
      "execution_count": 0,
      "outputs": []
    },
    {
      "cell_type": "code",
      "metadata": {
        "id": "4k-fMNw6eYif",
        "colab_type": "code",
        "outputId": "854a45d3-206b-4ce6-865b-9f6d36cb8d4b",
        "colab": {
          "base_uri": "https://localhost:8080/",
          "height": 603
        }
      },
      "source": [
        "import glob \n",
        "import cv2\n",
        "import os\n",
        "from zipfile import ZipFile\n",
        "\n",
        "CURR_DIR = os.getcwd()\n",
        "DIR = \"grayscale_04_05_3\"\n",
        "PATH = os.path.join(CURR_DIR, DIR ) \n",
        "\n",
        "if not os.path.exists(PATH) :\n",
        "  os.mkdir(DIR) \n",
        "  print(\"New Directory created!\")\n",
        "\n",
        "# timeStampZipName = generateTimeStampZipFilename()\n",
        "# zipname = 'gleam_'+ timeStampZipName\n",
        "zipname = 'gleam_dataset_04_05_3.zip'\n",
        "\n",
        "zip_ref = ZipFile(zipname, 'w')\n",
        " \n",
        "\n",
        "# close the Zip File\n",
        "totalData = 0\n",
        "\n",
        "for filename in glob.glob('03_31/*.jp*g'):\n",
        "  img = cv2.imread(filename)\n",
        "  \n",
        "  namefile = filename.replace(\"03_31/\", \"\")\n",
        "  ext = \".jpg\" if namefile.find(\".jpg\") != -1 else \".jpeg\"\n",
        "  namefile = namefile.replace(ext, \"\")\n",
        "  \n",
        "  gray = gleam(img)\n",
        "\n",
        "  grayFilename = namefile + '_grayscale'+ ext\n",
        "  path = './'+ DIR+ '/' + grayFilename\n",
        "\n",
        "  cv2.imwrite(path , gray)\n",
        "\n",
        "  # Add multiple files to the zip\n",
        "  zip_ref.write(path)\n",
        "\n",
        "  print('Add ' + grayFilename + ' to directory' + DIR + ' success.')\n",
        "  totalData +=1\n",
        "\n",
        "zip_ref.close()\n",
        "print('Total Data grayscaled: ', totalData)"
      ],
      "execution_count": 9,
      "outputs": [
        {
          "output_type": "stream",
          "text": [
            "New Directory created!\n",
            "Add 20200331_021237_grayscale.jpg to directorygrayscale_04_05_3 success.\n",
            "Add 20200331_021659_grayscale.jpg to directorygrayscale_04_05_3 success.\n",
            "Add 20200331_021614_grayscale.jpg to directorygrayscale_04_05_3 success.\n",
            "Add 20200331_021504_grayscale.jpg to directorygrayscale_04_05_3 success.\n",
            "Add 20200331_021930_grayscale.jpg to directorygrayscale_04_05_3 success.\n",
            "Add 20200331_021826_grayscale.jpg to directorygrayscale_04_05_3 success.\n",
            "Add 20200331_021518_grayscale.jpg to directorygrayscale_04_05_3 success.\n",
            "Add 20200331_021113_grayscale.jpg to directorygrayscale_04_05_3 success.\n",
            "Add 20200331_021156_grayscale.jpg to directorygrayscale_04_05_3 success.\n",
            "Add 20200331_021418_grayscale.jpg to directorygrayscale_04_05_3 success.\n",
            "Add 20200331_021552_grayscale.jpg to directorygrayscale_04_05_3 success.\n",
            "Add 20200331_021318_grayscale.jpg to directorygrayscale_04_05_3 success.\n",
            "Add 20200331_022012_grayscale.jpg to directorygrayscale_04_05_3 success.\n",
            "Add 20200331_021023_grayscale.jpg to directorygrayscale_04_05_3 success.\n",
            "Add 20200331_021257_grayscale.jpg to directorygrayscale_04_05_3 success.\n",
            "Add 20200331_021047_grayscale.jpg to directorygrayscale_04_05_3 success.\n",
            "Add 20200331_021917_grayscale.jpg to directorygrayscale_04_05_3 success.\n",
            "Add 20200331_021625_grayscale.jpg to directorygrayscale_04_05_3 success.\n",
            "Add 20200331_021211_grayscale.jpg to directorygrayscale_04_05_3 success.\n",
            "Add 20200331_021845_grayscale.jpg to directorygrayscale_04_05_3 success.\n",
            "Add 20200331_021942_grayscale.jpg to directorygrayscale_04_05_3 success.\n",
            "Add 20200331_021431_grayscale.jpg to directorygrayscale_04_05_3 success.\n",
            "Add 20200331_021812_grayscale.jpg to directorygrayscale_04_05_3 success.\n",
            "Add 20200331_022001_grayscale.jpg to directorygrayscale_04_05_3 success.\n",
            "Add 20200331_021529_grayscale.jpg to directorygrayscale_04_05_3 success.\n",
            "Add 20200331_021141_grayscale.jpg to directorygrayscale_04_05_3 success.\n",
            "Add 20200331_021733_grayscale.jpg to directorygrayscale_04_05_3 success.\n",
            "Add 20200331_021637_grayscale.jpg to directorygrayscale_04_05_3 success.\n",
            "Add 20200331_021602_grayscale.jpg to directorygrayscale_04_05_3 success.\n",
            "Add 20200331_021006_grayscale.jpg to directorygrayscale_04_05_3 success.\n",
            "Add 20200331_020939_grayscale.jpg to directorygrayscale_04_05_3 success.\n",
            "Total Data grayscaled:  31\n"
          ],
          "name": "stdout"
        }
      ]
    },
    {
      "cell_type": "markdown",
      "metadata": {
        "id": "aYvY9EHsDSc4",
        "colab_type": "text"
      },
      "source": [
        "## "
      ]
    },
    {
      "cell_type": "code",
      "metadata": {
        "id": "dxhqFvJl9jfE",
        "colab_type": "code",
        "colab": {}
      },
      "source": [
        "# check if zip was success\n",
        "# %pwd\n",
        "\n",
        "# zip_ref = zipfile.ZipFile('gleam_2020_3_24_952.zip', 'r')\n",
        "# zip_ref.extractall(\"/content/dataset/train\")\n",
        "# zip_ref.close()\n",
        "\n",
        "# len(glob.glob('test/grayscale/*.jp*g'))"
      ],
      "execution_count": 0,
      "outputs": []
    },
    {
      "cell_type": "code",
      "metadata": {
        "id": "kTC08_poizmv",
        "colab_type": "code",
        "colab": {}
      },
      "source": [
        "# grayscaling only 1 image\n",
        "\n",
        "# import os\n",
        "# ROOT_DIR = os.path.abspath(\"./train/\")\n",
        "# print(ROOT_DIR)\n",
        "# os.listdir(ROOT_DIR)"
      ],
      "execution_count": 0,
      "outputs": []
    },
    {
      "cell_type": "code",
      "metadata": {
        "id": "9khsVnwYmqlv",
        "colab_type": "code",
        "outputId": "d22c4f4c-43a8-4e4c-8dca-bcb1915b238d",
        "colab": {
          "base_uri": "https://localhost:8080/",
          "height": 51
        }
      },
      "source": [
        "%cd\n",
        "%cd ../content/"
      ],
      "execution_count": 0,
      "outputs": [
        {
          "output_type": "stream",
          "text": [
            "/root\n",
            "/content\n"
          ],
          "name": "stdout"
        }
      ]
    },
    {
      "cell_type": "markdown",
      "metadata": {
        "id": "38vCFiTMoPz1",
        "colab_type": "text"
      },
      "source": [
        "## Get Timestamp"
      ]
    },
    {
      "cell_type": "code",
      "metadata": {
        "id": "XRt6pyVBnAu9",
        "colab_type": "code",
        "colab": {}
      },
      "source": [
        "# import datetime\n",
        "\n",
        "# now = datetime.datetime.now()\n",
        "# year = now.year\n",
        "# month = now.month\n",
        "# day= now.day\n",
        "# hour = now.hour\n",
        "# minute = now.minute"
      ],
      "execution_count": 0,
      "outputs": []
    },
    {
      "cell_type": "code",
      "metadata": {
        "id": "W32XY63_qNSt",
        "colab_type": "code",
        "colab": {}
      },
      "source": [
        "# %cd\n",
        "# %cd ../content/"
      ],
      "execution_count": 0,
      "outputs": []
    },
    {
      "cell_type": "markdown",
      "metadata": {
        "id": "Ui3n9OY-qbcP",
        "colab_type": "text"
      },
      "source": [
        "## Make a zip"
      ]
    },
    {
      "cell_type": "code",
      "metadata": {
        "id": "BbU8HtLBlXR5",
        "colab_type": "code",
        "colab": {}
      },
      "source": [
        "# from zipfile import ZipFile\n",
        "\n",
        "# zipname = 'gleam_'+ str(year) +'_'+ str(month) +'_'+ str(day) +'_'+ str(hour) + str(minute)+'.zip'\n",
        "\n",
        "# zip_ref = ZipFile(zipname, 'w')\n",
        " \n",
        "# # Add multiple files to the zip\n",
        "# zip_ref.write('./dataset/grayscale')\n",
        "\n",
        "# # close the Zip File\n",
        "# zip_ref.close()"
      ],
      "execution_count": 0,
      "outputs": []
    },
    {
      "cell_type": "code",
      "metadata": {
        "id": "66h_aNeHsEct",
        "colab_type": "code",
        "outputId": "3a9faa0d-efbf-4845-870d-e85aaa514c70",
        "colab": {
          "base_uri": "https://localhost:8080/",
          "height": 34
        }
      },
      "source": [
        "%pwd"
      ],
      "execution_count": 0,
      "outputs": [
        {
          "output_type": "execute_result",
          "data": {
            "text/plain": [
              "'/content'"
            ]
          },
          "metadata": {
            "tags": []
          },
          "execution_count": 30
        }
      ]
    },
    {
      "cell_type": "markdown",
      "metadata": {
        "id": "iOq5OaTYqgRu",
        "colab_type": "text"
      },
      "source": [
        "## Upload to drive"
      ]
    },
    {
      "cell_type": "code",
      "metadata": {
        "id": "hajM5cebqfwZ",
        "colab_type": "code",
        "colab": {}
      },
      "source": [
        "# export manually"
      ],
      "execution_count": 0,
      "outputs": []
    },
    {
      "cell_type": "code",
      "metadata": {
        "id": "VrTxHUwEmWUL",
        "colab_type": "code",
        "colab": {}
      },
      "source": [
        "# import cv2\n",
        "# %cd \"Backup LG\"\n",
        "\n",
        "# img = cv2.imread(\"1504325199080.JPEG\")\n",
        "\n",
        "# H,W,C = img.shape\n",
        "# print(img.shape)\n",
        "# print(H)\n",
        "# img.size"
      ],
      "execution_count": 0,
      "outputs": []
    },
    {
      "cell_type": "code",
      "metadata": {
        "id": "ZM7uD7nnnV7t",
        "colab_type": "code",
        "outputId": "6eaf88fa-3ae3-4437-cd4e-fca77290ae85",
        "colab": {
          "base_uri": "https://localhost:8080/",
          "height": 34
        }
      },
      "source": [
        "%pwd"
      ],
      "execution_count": 0,
      "outputs": [
        {
          "output_type": "execute_result",
          "data": {
            "text/plain": [
              "'/content'"
            ]
          },
          "metadata": {
            "tags": []
          },
          "execution_count": 33
        }
      ]
    }
  ]
}