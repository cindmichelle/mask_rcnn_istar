{
  "nbformat": 4,
  "nbformat_minor": 0,
  "metadata": {
    "kernelspec": {
      "name": "python3",
      "display_name": "Python 3"
    },
    "language_info": {
      "codemirror_mode": {
        "name": "ipython",
        "version": 3
      },
      "file_extension": ".py",
      "mimetype": "text/x-python",
      "name": "python",
      "nbconvert_exporter": "python",
      "pygments_lexer": "ipython3",
      "version": "3.5.6"
    },
    "colab": {
      "name": "Grayscale.ipynb",
      "provenance": [],
      "collapsed_sections": [],
      "include_colab_link": true
    },
    "accelerator": "GPU"
  },
  "cells": [
    {
      "cell_type": "markdown",
      "metadata": {
        "id": "view-in-github",
        "colab_type": "text"
      },
      "source": [
        "<a href=\"https://colab.research.google.com/github/cindmichelle/mask_rcnn_istar/blob/master/Grayscale_modified.ipynb\" target=\"_parent\"><img src=\"https://colab.research.google.com/assets/colab-badge.svg\" alt=\"Open In Colab\"/></a>"
      ]
    },
    {
      "cell_type": "code",
      "metadata": {
        "id": "xeYSW7Gge-IB",
        "colab_type": "code",
        "outputId": "b475fe4f-440d-489e-9e73-c8b5a5bb9d72",
        "colab": {
          "base_uri": "https://localhost:8080/",
          "height": 122
        }
      },
      "source": [
        "from google.colab import drive\n",
        "drive.mount('/content/drive')"
      ],
      "execution_count": 1,
      "outputs": [
        {
          "output_type": "stream",
          "text": [
            "Go to this URL in a browser: https://accounts.google.com/o/oauth2/auth?client_id=947318989803-6bn6qk8qdgf4n4g3pfee6491hc0brc4i.apps.googleusercontent.com&redirect_uri=urn%3aietf%3awg%3aoauth%3a2.0%3aoob&response_type=code&scope=email%20https%3a%2f%2fwww.googleapis.com%2fauth%2fdocs.test%20https%3a%2f%2fwww.googleapis.com%2fauth%2fdrive%20https%3a%2f%2fwww.googleapis.com%2fauth%2fdrive.photos.readonly%20https%3a%2f%2fwww.googleapis.com%2fauth%2fpeopleapi.readonly\n",
            "\n",
            "Enter your authorization code:\n",
            "··········\n",
            "Mounted at /content/drive\n"
          ],
          "name": "stdout"
        }
      ]
    },
    {
      "cell_type": "code",
      "metadata": {
        "id": "p8PKNFoBf5e-",
        "colab_type": "code",
        "outputId": "bad81027-0eca-4985-d4a0-81855447f8c0",
        "colab": {
          "base_uri": "https://localhost:8080/",
          "height": 51
        }
      },
      "source": [
        "%cd\n",
        "%cd ../content/drive/\"My Drive\"/\"dataset zip\""
      ],
      "execution_count": 18,
      "outputs": [
        {
          "output_type": "stream",
          "text": [
            "/root\n",
            "/content/drive/My Drive/dataset zip\n"
          ],
          "name": "stdout"
        }
      ]
    },
    {
      "cell_type": "code",
      "metadata": {
        "id": "oU6c4dbogQja",
        "colab_type": "code",
        "colab": {}
      },
      "source": [
        "import zipfile\n",
        "\n",
        "zip_ref = zipfile.ZipFile('dataset_03_29.zip', 'r')\n",
        "zip_ref.extractall(\"/content\")\n",
        "zip_ref.close()"
      ],
      "execution_count": 0,
      "outputs": []
    },
    {
      "cell_type": "code",
      "metadata": {
        "id": "uzayUmZ6gUW-",
        "colab_type": "code",
        "outputId": "1ce14270-6139-40bd-ef50-e8d027761fa3",
        "colab": {
          "base_uri": "https://localhost:8080/",
          "height": 51
        }
      },
      "source": [
        "%cd\n",
        "%cd ../content/"
      ],
      "execution_count": 20,
      "outputs": [
        {
          "output_type": "stream",
          "text": [
            "/root\n",
            "/content\n"
          ],
          "name": "stdout"
        }
      ]
    },
    {
      "cell_type": "code",
      "metadata": {
        "id": "iJVg50DveYij",
        "colab_type": "code",
        "colab": {}
      },
      "source": [
        "import cv2\n",
        "import numpy as np\n",
        "\n",
        "def gamma_correction(image): \n",
        "    image = image * (1.0/255.0)\n",
        "    image = image ** (1/2.2)\n",
        "    image = image * 255\n",
        "    return image\n",
        "\n",
        "def gleam(input):\n",
        "    input = np.array(input)\n",
        "    image = gamma_correction(input)\n",
        "    image = np.clip(image, 0,255)\n",
        "    image = np.average(image, axis=2)\n",
        "    return image\n"
      ],
      "execution_count": 0,
      "outputs": []
    },
    {
      "cell_type": "code",
      "metadata": {
        "id": "QBzMbbgo3AP_",
        "colab_type": "code",
        "colab": {}
      },
      "source": [
        "import datetime\n",
        "\n",
        "def getCurrentTime():\n",
        "  now = datetime.datetime.now()\n",
        "  year = now.year\n",
        "  month = now.month\n",
        "  day= now.day\n",
        "  hour = now.hour\n",
        "  minute = now.minute\n",
        "  return (year, month, day, hour, minute)\n",
        "\n",
        "def generateTimeStampZipFilename():\n",
        "  year, month, day, hour, minute = getCurrentTime()\n",
        "  return str(year) +'_'+ str(month) +'_'+ str(day) +'_'+ str(hour) + str(minute)+'.zip'\n"
      ],
      "execution_count": 0,
      "outputs": []
    },
    {
      "cell_type": "code",
      "metadata": {
        "id": "4k-fMNw6eYif",
        "colab_type": "code",
        "outputId": "7e3ffa3c-78a0-41c5-8785-2106f376cc75",
        "colab": {
          "base_uri": "https://localhost:8080/",
          "height": 442
        }
      },
      "source": [
        "import glob \n",
        "import cv2\n",
        "import os\n",
        "from zipfile import ZipFile\n",
        "\n",
        "CURR_DIR = os.getcwd()\n",
        "DIR = \"grayscale\"\n",
        "PATH = os.path.join(CURR_DIR, DIR ) \n",
        "\n",
        "if not os.path.exists(PATH) :\n",
        "  os.mkdir(DIR) \n",
        "  print(\"New Directory created!\")\n",
        "\n",
        "timeStampZipName = generateTimeStampZipFilename()\n",
        "# zipname = 'gleam_'+ timeStampZipName\n",
        "zipname = 'gleam_dataset_03_29'\n",
        "\n",
        "zip_ref = ZipFile(zipname, 'w')\n",
        " \n",
        "\n",
        "# close the Zip File\n",
        "\n",
        "\n",
        "for filename in glob.glob('03_29/*.jp*g'):\n",
        "  img = cv2.imread(filename)\n",
        "  \n",
        "  namefile = filename.replace(\"03_29/\", \"\")\n",
        "  ext = \".jpg\" if namefile.find(\".jpg\") != -1 else \".jpeg\"\n",
        "  namefile = namefile.replace(ext, \"\")\n",
        "  \n",
        "  gray = gleam(img)\n",
        "\n",
        "  grayFilename = namefile + '_grayscale'+ ext\n",
        "  path = './grayscale/' + grayFilename\n",
        "\n",
        "  cv2.imwrite(path , gray)\n",
        "\n",
        "  # Add multiple files to the zip\n",
        "  zip_ref.write(path)\n",
        "\n",
        "  print('berhasil')\n",
        "\n",
        "zip_ref.close()"
      ],
      "execution_count": 23,
      "outputs": [
        {
          "output_type": "stream",
          "text": [
            "berhasil\n",
            "berhasil\n",
            "berhasil\n",
            "berhasil\n",
            "berhasil\n",
            "berhasil\n",
            "berhasil\n",
            "berhasil\n",
            "berhasil\n",
            "berhasil\n",
            "berhasil\n",
            "berhasil\n",
            "berhasil\n",
            "berhasil\n",
            "berhasil\n",
            "berhasil\n",
            "berhasil\n",
            "berhasil\n",
            "berhasil\n",
            "berhasil\n",
            "berhasil\n",
            "berhasil\n",
            "berhasil\n",
            "berhasil\n",
            "berhasil\n"
          ],
          "name": "stdout"
        }
      ]
    },
    {
      "cell_type": "markdown",
      "metadata": {
        "id": "aYvY9EHsDSc4",
        "colab_type": "text"
      },
      "source": [
        "## "
      ]
    },
    {
      "cell_type": "code",
      "metadata": {
        "id": "dxhqFvJl9jfE",
        "colab_type": "code",
        "colab": {}
      },
      "source": [
        "# check if zip was success\n",
        "# %pwd\n",
        "\n",
        "# zip_ref = zipfile.ZipFile('gleam_2020_3_24_952.zip', 'r')\n",
        "# zip_ref.extractall(\"/content/dataset/train\")\n",
        "# zip_ref.close()\n",
        "\n",
        "# len(glob.glob('test/grayscale/*.jp*g'))"
      ],
      "execution_count": 0,
      "outputs": []
    },
    {
      "cell_type": "code",
      "metadata": {
        "id": "kTC08_poizmv",
        "colab_type": "code",
        "colab": {}
      },
      "source": [
        "# grayscaling only 1 image\n",
        "\n",
        "# import os\n",
        "# ROOT_DIR = os.path.abspath(\"./train/\")\n",
        "# print(ROOT_DIR)\n",
        "# os.listdir(ROOT_DIR)"
      ],
      "execution_count": 0,
      "outputs": []
    },
    {
      "cell_type": "code",
      "metadata": {
        "id": "9khsVnwYmqlv",
        "colab_type": "code",
        "colab": {
          "base_uri": "https://localhost:8080/",
          "height": 51
        },
        "outputId": "d22c4f4c-43a8-4e4c-8dca-bcb1915b238d"
      },
      "source": [
        "%cd\n",
        "%cd ../content/"
      ],
      "execution_count": 26,
      "outputs": [
        {
          "output_type": "stream",
          "text": [
            "/root\n",
            "/content\n"
          ],
          "name": "stdout"
        }
      ]
    },
    {
      "cell_type": "markdown",
      "metadata": {
        "id": "38vCFiTMoPz1",
        "colab_type": "text"
      },
      "source": [
        "## Get Timestamp"
      ]
    },
    {
      "cell_type": "code",
      "metadata": {
        "id": "XRt6pyVBnAu9",
        "colab_type": "code",
        "colab": {}
      },
      "source": [
        "# import datetime\n",
        "\n",
        "# now = datetime.datetime.now()\n",
        "# year = now.year\n",
        "# month = now.month\n",
        "# day= now.day\n",
        "# hour = now.hour\n",
        "# minute = now.minute"
      ],
      "execution_count": 0,
      "outputs": []
    },
    {
      "cell_type": "code",
      "metadata": {
        "id": "W32XY63_qNSt",
        "colab_type": "code",
        "colab": {}
      },
      "source": [
        "# %cd\n",
        "# %cd ../content/"
      ],
      "execution_count": 0,
      "outputs": []
    },
    {
      "cell_type": "markdown",
      "metadata": {
        "id": "Ui3n9OY-qbcP",
        "colab_type": "text"
      },
      "source": [
        "## Make a zip"
      ]
    },
    {
      "cell_type": "code",
      "metadata": {
        "id": "BbU8HtLBlXR5",
        "colab_type": "code",
        "colab": {}
      },
      "source": [
        "# from zipfile import ZipFile\n",
        "\n",
        "# zipname = 'gleam_'+ str(year) +'_'+ str(month) +'_'+ str(day) +'_'+ str(hour) + str(minute)+'.zip'\n",
        "\n",
        "# zip_ref = ZipFile(zipname, 'w')\n",
        " \n",
        "# # Add multiple files to the zip\n",
        "# zip_ref.write('./dataset/grayscale')\n",
        "\n",
        "# # close the Zip File\n",
        "# zip_ref.close()"
      ],
      "execution_count": 0,
      "outputs": []
    },
    {
      "cell_type": "code",
      "metadata": {
        "id": "66h_aNeHsEct",
        "colab_type": "code",
        "colab": {
          "base_uri": "https://localhost:8080/",
          "height": 34
        },
        "outputId": "3a9faa0d-efbf-4845-870d-e85aaa514c70"
      },
      "source": [
        "%pwd"
      ],
      "execution_count": 30,
      "outputs": [
        {
          "output_type": "execute_result",
          "data": {
            "text/plain": [
              "'/content'"
            ]
          },
          "metadata": {
            "tags": []
          },
          "execution_count": 30
        }
      ]
    },
    {
      "cell_type": "markdown",
      "metadata": {
        "id": "iOq5OaTYqgRu",
        "colab_type": "text"
      },
      "source": [
        "## Upload to drive"
      ]
    },
    {
      "cell_type": "code",
      "metadata": {
        "id": "hajM5cebqfwZ",
        "colab_type": "code",
        "colab": {}
      },
      "source": [
        "# export manually"
      ],
      "execution_count": 0,
      "outputs": []
    },
    {
      "cell_type": "code",
      "metadata": {
        "id": "VrTxHUwEmWUL",
        "colab_type": "code",
        "colab": {}
      },
      "source": [
        "# import cv2\n",
        "# %cd \"Backup LG\"\n",
        "\n",
        "# img = cv2.imread(\"1504325199080.JPEG\")\n",
        "\n",
        "# H,W,C = img.shape\n",
        "# print(img.shape)\n",
        "# print(H)\n",
        "# img.size"
      ],
      "execution_count": 0,
      "outputs": []
    },
    {
      "cell_type": "code",
      "metadata": {
        "id": "ZM7uD7nnnV7t",
        "colab_type": "code",
        "colab": {
          "base_uri": "https://localhost:8080/",
          "height": 34
        },
        "outputId": "6eaf88fa-3ae3-4437-cd4e-fca77290ae85"
      },
      "source": [
        "%pwd"
      ],
      "execution_count": 33,
      "outputs": [
        {
          "output_type": "execute_result",
          "data": {
            "text/plain": [
              "'/content'"
            ]
          },
          "metadata": {
            "tags": []
          },
          "execution_count": 33
        }
      ]
    }
  ]
}