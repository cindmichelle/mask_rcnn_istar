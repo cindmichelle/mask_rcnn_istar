{
  "nbformat": 4,
  "nbformat_minor": 0,
  "metadata": {
    "colab": {
      "name": "gaussian_noise.ipynb",
      "provenance": [],
      "collapsed_sections": [],
      "authorship_tag": "ABX9TyPXbg+Xci7wPXOEcJ6XPVrz",
      "include_colab_link": true
    },
    "kernelspec": {
      "name": "python3",
      "display_name": "Python 3"
    }
  },
  "cells": [
    {
      "cell_type": "markdown",
      "metadata": {
        "id": "view-in-github",
        "colab_type": "text"
      },
      "source": [
        "<a href=\"https://colab.research.google.com/github/cindmichelle/mask_rcnn_istar/blob/master/gaussian_noise.ipynb\" target=\"_parent\"><img src=\"https://colab.research.google.com/assets/colab-badge.svg\" alt=\"Open In Colab\"/></a>"
      ]
    },
    {
      "cell_type": "code",
      "metadata": {
        "id": "xcJpwuctoIvl",
        "colab_type": "code",
        "outputId": "8f13a891-67e9-4e2f-f19b-dd7325f46d3e",
        "colab": {
          "base_uri": "https://localhost:8080/",
          "height": 54
        }
      },
      "source": [
        "from google.colab import drive\n",
        "drive.mount('/content/drive')"
      ],
      "execution_count": 0,
      "outputs": [
        {
          "output_type": "stream",
          "text": [
            "Drive already mounted at /content/drive; to attempt to forcibly remount, call drive.mount(\"/content/drive\", force_remount=True).\n"
          ],
          "name": "stdout"
        }
      ]
    },
    {
      "cell_type": "code",
      "metadata": {
        "id": "xof8DDUMpllm",
        "colab_type": "code",
        "outputId": "f08d78a1-89bd-4ccf-a1fd-c9155edd6514",
        "colab": {
          "base_uri": "https://localhost:8080/",
          "height": 51
        }
      },
      "source": [
        "%cd\n",
        "%cd ../content/drive/\"My Drive\"/\"dataset zip\""
      ],
      "execution_count": 0,
      "outputs": [
        {
          "output_type": "stream",
          "text": [
            "/root\n",
            "/content/drive/My Drive/dataset zip\n"
          ],
          "name": "stdout"
        }
      ]
    },
    {
      "cell_type": "code",
      "metadata": {
        "id": "ReiNRD6NpnXU",
        "colab_type": "code",
        "colab": {}
      },
      "source": [
        "import zipfile\n",
        "\n",
        "zip_ref = zipfile.ZipFile('dataset.zip', 'r')\n",
        "zip_ref.extractall(\"/content\")\n",
        "zip_ref.close()"
      ],
      "execution_count": 0,
      "outputs": []
    },
    {
      "cell_type": "code",
      "metadata": {
        "id": "kfNrnM6kpsKu",
        "colab_type": "code",
        "outputId": "c9891e28-3bf9-4a23-933d-2ee711e1ecdd",
        "colab": {
          "base_uri": "https://localhost:8080/",
          "height": 51
        }
      },
      "source": [
        "%cd\n",
        "%cd ../content/dataset/"
      ],
      "execution_count": 0,
      "outputs": [
        {
          "output_type": "stream",
          "text": [
            "/root\n",
            "/content/dataset\n"
          ],
          "name": "stdout"
        }
      ]
    },
    {
      "cell_type": "code",
      "metadata": {
        "id": "7T-BYbXOptHs",
        "colab_type": "code",
        "colab": {}
      },
      "source": [
        "import numpy as np\n",
        "\n",
        "def gaussian_noise(input):\n",
        "  mean = 0\n",
        "  var = 20\n",
        "  # sigma = var**0.5\n",
        "  sigma = 30\n",
        "\n",
        "  # height, width, channel = input.shape\n",
        "  # img = np.array(input, dtype=np.int32)\n",
        "  gauss = np.random.normal(mean,sigma,input.shape)\n",
        "\n",
        "  # print(gauss.shape)\n",
        "  # gauss = gauss.reshape(input.shape)\n",
        "\n",
        "  noisy = np.ceil(input + gauss)\n",
        "  noisy = noisy.astype(int)\n",
        "\n",
        "  return noisy\n"
      ],
      "execution_count": 0,
      "outputs": []
    },
    {
      "cell_type": "code",
      "metadata": {
        "id": "hi0k2pkBblF5",
        "colab_type": "code",
        "colab": {}
      },
      "source": [
        "import glob \n",
        "import cv2\n",
        "import os\n",
        "\n",
        "CURR_DIR = os.getcwd()\n",
        "DIR = \"noise\"\n",
        "PATH = os.path.join(CURR_DIR, DIR ) \n",
        "\n",
        "if  not os.path.exists(PATH) :\n",
        "  os.mkdir(DIR) \n",
        "  print(\"New Directory created!\")\n",
        "\n",
        "for filename in glob.glob('train/*.jp*g'):\n",
        "  img = cv2.imread(filename)\n",
        "  \n",
        "  namefile = filename.replace(\"train/\", \"\")\n",
        "  ext = \".jpg\" if namefile.find(\".jpg\") != -1 else \".jpeg\"\n",
        "  namefile = namefile.replace(ext, \"\")\n",
        "  \n",
        "  noise_image = gaussian_noise(img)\n",
        "\n",
        "  cv2.imwrite('./noise/' + namefile + '_noise'+ ext, noise_image)\n",
        "\n",
        "print(\"Adding Gaussian Noise to images success.\")"
      ],
      "execution_count": 0,
      "outputs": []
    },
    {
      "cell_type": "code",
      "metadata": {
        "id": "qWkTiz8mi3rn",
        "colab_type": "code",
        "colab": {}
      },
      "source": [
        "import glob \n",
        "import cv2\n",
        "import os\n",
        "\n",
        "CURR_DIR = os.getcwd()\n",
        "DIR = \"noise\"\n",
        "PATH = os.path.join(CURR_DIR, DIR ) \n",
        "\n",
        "if  not os.path.exists(PATH) :\n",
        "  os.mkdir(DIR) \n",
        "  print(\"New Directory created!\")\n",
        "\n",
        "for filename in glob.glob('grayscale/*.jp*g'):\n",
        "  img = cv2.imread(filename)\n",
        "  \n",
        "  namefile = filename.replace(\"train/\", \"\")\n",
        "  ext = \".jpg\" if namefile.find(\".jpg\") != -1 else \".jpeg\"\n",
        "  namefile = namefile.replace(ext, \"\")\n",
        "  \n",
        "  noise_image = gaussian_noise(img)\n",
        "\n",
        "  cv2.imwrite('./noise/' + namefile + '_noise'+ ext, noise_image)\n",
        "\n",
        "print(\"Adding Gaussian Noise to images success.\")"
      ],
      "execution_count": 0,
      "outputs": []
    },
    {
      "cell_type": "code",
      "metadata": {
        "id": "1LzXvtrZxYPq",
        "colab_type": "code",
        "colab": {}
      },
      "source": [
        "# import cv2\n",
        "\n",
        "# img = cv2.imread(\"train/1.jpeg\")\n",
        "# gaussian = gaussian_noise(img)\n",
        "\n",
        "# # gaussian= np.array(gaussian,np.uint8)\n",
        "# type(gaussian)\n",
        "# print(gaussian)\n",
        "# cv2.imwrite('./noise/' + 'test' + '_noisee'+ ext, gaussian)\n",
        "  \n"
      ],
      "execution_count": 0,
      "outputs": []
    },
    {
      "cell_type": "code",
      "metadata": {
        "id": "EF4PB_9odd8P",
        "colab_type": "code",
        "colab": {}
      },
      "source": [
        ""
      ],
      "execution_count": 0,
      "outputs": []
    },
    {
      "cell_type": "code",
      "metadata": {
        "id": "sxo7WeGtaVv1",
        "colab_type": "code",
        "colab": {}
      },
      "source": [
        "# import matplotlib.pyplot as plt\n",
        "\n",
        "# # Plot the image.\n",
        "# def display_image(img):\n",
        "#   plt.figure(); plt.imshow(img)\n",
        "#   plt.grid(False);  plt.axis('off'); plt.show()\n",
        "  \n",
        "# # Displaying pic\n",
        "# display_image(img)\n",
        "# display_image(gaussian)\n"
      ],
      "execution_count": 0,
      "outputs": []
    },
    {
      "cell_type": "code",
      "metadata": {
        "id": "gEDg1yC3ZYCA",
        "colab_type": "code",
        "colab": {}
      },
      "source": [
        ""
      ],
      "execution_count": 0,
      "outputs": []
    }
  ]
}